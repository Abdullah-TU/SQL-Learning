{
 "cells": [
  {
   "cell_type": "code",
   "execution_count": 1,
   "metadata": {},
   "outputs": [],
   "source": [
    "%load_ext sql"
   ]
  },
  {
   "cell_type": "code",
   "execution_count": 2,
   "metadata": {},
   "outputs": [
    {
     "data": {
      "text/plain": [
       "'Connected: @None'"
      ]
     },
     "execution_count": 2,
     "metadata": {},
     "output_type": "execute_result"
    }
   ],
   "source": [
    "%sql sqlite://"
   ]
  },
  {
   "cell_type": "code",
   "execution_count": 3,
   "metadata": {},
   "outputs": [
    {
     "name": "stdout",
     "output_type": "stream",
     "text": [
      " * sqlite://\n",
      "Done.\n",
      "1 rows affected.\n",
      "1 rows affected.\n",
      "1 rows affected.\n",
      "1 rows affected.\n",
      "1 rows affected.\n",
      "1 rows affected.\n",
      "1 rows affected.\n",
      "1 rows affected.\n",
      "Done.\n"
     ]
    },
    {
     "data": {
      "text/html": [
       "<table>\n",
       "    <thead>\n",
       "        <tr>\n",
       "            <th>id</th>\n",
       "            <th>first_name</th>\n",
       "            <th>last_name</th>\n",
       "            <th>date_of_birth</th>\n",
       "            <th>district</th>\n",
       "            <th>salary</th>\n",
       "            <th>mobile</th>\n",
       "        </tr>\n",
       "    </thead>\n",
       "    <tbody>\n",
       "        <tr>\n",
       "            <td>1</td>\n",
       "            <td>James</td>\n",
       "            <td>Mary</td>\n",
       "            <td>1987-01-01</td>\n",
       "            <td>Alabama</td>\n",
       "            <td>125000</td>\n",
       "            <td>15228817386</td>\n",
       "        </tr>\n",
       "        <tr>\n",
       "            <td>2</td>\n",
       "            <td>Robert</td>\n",
       "            <td>Patricia</td>\n",
       "            <td>1987-01-12</td>\n",
       "            <td>Alaska</td>\n",
       "            <td>86000</td>\n",
       "            <td>6990009999</td>\n",
       "        </tr>\n",
       "        <tr>\n",
       "            <td>3</td>\n",
       "            <td>Michael</td>\n",
       "            <td>Linda</td>\n",
       "            <td>1989-09-23</td>\n",
       "            <td>Arizona</td>\n",
       "            <td>60000</td>\n",
       "            <td>4066969999</td>\n",
       "        </tr>\n",
       "        <tr>\n",
       "            <td>4</td>\n",
       "            <td>William</td>\n",
       "            <td>Elizabeth</td>\n",
       "            <td>2000-11-12</td>\n",
       "            <td>Arkansas</td>\n",
       "            <td>120000</td>\n",
       "            <td>2214710999</td>\n",
       "        </tr>\n",
       "        <tr>\n",
       "            <td>5</td>\n",
       "            <td>Christopher</td>\n",
       "            <td>Nancy</td>\n",
       "            <td>2003-01-01</td>\n",
       "            <td>Alabama</td>\n",
       "            <td>75000</td>\n",
       "            <td>15228817386</td>\n",
       "        </tr>\n",
       "        <tr>\n",
       "            <td>6</td>\n",
       "            <td>Daniel</td>\n",
       "            <td>Matthew</td>\n",
       "            <td>1993-01-12</td>\n",
       "            <td>Alaska</td>\n",
       "            <td>85000</td>\n",
       "            <td>6990009999</td>\n",
       "        </tr>\n",
       "        <tr>\n",
       "            <td>7</td>\n",
       "            <td>Anthony</td>\n",
       "            <td>Margaret</td>\n",
       "            <td>1995-10-23</td>\n",
       "            <td>Arizona</td>\n",
       "            <td>35000</td>\n",
       "            <td>4066969999</td>\n",
       "        </tr>\n",
       "        <tr>\n",
       "            <td>8</td>\n",
       "            <td>Donald</td>\n",
       "            <td>Ashley</td>\n",
       "            <td>2000-11-11</td>\n",
       "            <td>Arkansas</td>\n",
       "            <td>130000</td>\n",
       "            <td>2214710999</td>\n",
       "        </tr>\n",
       "    </tbody>\n",
       "</table>"
      ],
      "text/plain": [
       "[(1, 'James', 'Mary', '1987-01-01', 'Alabama', 125000, '15228817386'),\n",
       " (2, 'Robert', 'Patricia', '1987-01-12', 'Alaska', 86000, '6990009999'),\n",
       " (3, 'Michael', 'Linda', '1989-09-23', 'Arizona', 60000, '4066969999'),\n",
       " (4, 'William', 'Elizabeth', '2000-11-12', 'Arkansas', 120000, '2214710999'),\n",
       " (5, 'Christopher', 'Nancy', '2003-01-01', 'Alabama', 75000, '15228817386'),\n",
       " (6, 'Daniel', 'Matthew', '1993-01-12', 'Alaska', 85000, '6990009999'),\n",
       " (7, 'Anthony', 'Margaret', '1995-10-23', 'Arizona', 35000, '4066969999'),\n",
       " (8, 'Donald', 'Ashley', '2000-11-11', 'Arkansas', 130000, '2214710999')]"
      ]
     },
     "execution_count": 3,
     "metadata": {},
     "output_type": "execute_result"
    }
   ],
   "source": [
    "%%sql \n",
    "\n",
    "CREATE TABLE employeed(\n",
    "    id INT,\n",
    "    first_name VARCHAR(20) NOT NULL,\n",
    "    last_name VARCHAR(20) NOT NULL,\n",
    "    date_of_birth DATE NOT NULL,\n",
    "    district VARCHAR(20) NOT NULL,\n",
    "    salary NUMERIC(5,2) NOT NULL,\n",
    "    mobile VARCHAR(15) NOT NULL,\n",
    "    PRIMARY KEY(id));\n",
    "\n",
    "INSERT INTO employeed VALUES(1,'James','Mary','1987-01-01','Alabama',125000.00,'15228817386');\n",
    "INSERT INTO employeed VALUES(2,'Robert','Patricia','1987-01-12','Alaska',86000.00,'6990009999');\n",
    "INSERT INTO employeed VALUES(3,'Michael','Linda','1989-09-23','Arizona',60000.00,'4066969999');\n",
    "INSERT INTO employeed VALUES(4,'William','Elizabeth','2000-11-12','Arkansas',120000.00,'2214710999');\n",
    "INSERT INTO employeed VALUES(5,'Christopher','Nancy','2003-01-01','Alabama',75000.00,'15228817386');\n",
    "INSERT INTO employeed VALUES(6,'Daniel','Matthew','1993-01-12','Alaska',85000.00,'6990009999');\n",
    "INSERT INTO employeed VALUES(7,'Anthony','Margaret','1995-10-23','Arizona',35000.00,'4066969999');\n",
    "INSERT INTO employeed VALUES(8,'Donald','Ashley','2000-11-11','Arkansas',130000.00,'2214710999');\n",
    "SELECT * from employeed;"
   ]
  },
  {
   "cell_type": "code",
   "execution_count": 4,
   "metadata": {},
   "outputs": [
    {
     "name": "stdout",
     "output_type": "stream",
     "text": [
      " * sqlite://\n",
      "Done.\n"
     ]
    },
    {
     "data": {
      "text/html": [
       "<table>\n",
       "    <thead>\n",
       "        <tr>\n",
       "            <th>salary</th>\n",
       "            <th>district</th>\n",
       "        </tr>\n",
       "    </thead>\n",
       "    <tbody>\n",
       "        <tr>\n",
       "            <td>125000</td>\n",
       "            <td>Alabama</td>\n",
       "        </tr>\n",
       "        <tr>\n",
       "            <td>86000</td>\n",
       "            <td>Alaska</td>\n",
       "        </tr>\n",
       "        <tr>\n",
       "            <td>60000</td>\n",
       "            <td>Arizona</td>\n",
       "        </tr>\n",
       "        <tr>\n",
       "            <td>120000</td>\n",
       "            <td>Arkansas</td>\n",
       "        </tr>\n",
       "        <tr>\n",
       "            <td>75000</td>\n",
       "            <td>Alabama</td>\n",
       "        </tr>\n",
       "        <tr>\n",
       "            <td>85000</td>\n",
       "            <td>Alaska</td>\n",
       "        </tr>\n",
       "        <tr>\n",
       "            <td>35000</td>\n",
       "            <td>Arizona</td>\n",
       "        </tr>\n",
       "        <tr>\n",
       "            <td>130000</td>\n",
       "            <td>Arkansas</td>\n",
       "        </tr>\n",
       "    </tbody>\n",
       "</table>"
      ],
      "text/plain": [
       "[(125000, 'Alabama'),\n",
       " (86000, 'Alaska'),\n",
       " (60000, 'Arizona'),\n",
       " (120000, 'Arkansas'),\n",
       " (75000, 'Alabama'),\n",
       " (85000, 'Alaska'),\n",
       " (35000, 'Arizona'),\n",
       " (130000, 'Arkansas')]"
      ]
     },
     "execution_count": 4,
     "metadata": {},
     "output_type": "execute_result"
    }
   ],
   "source": [
    "%%sql \n",
    "\n",
    "SELECT salary, district from employeed;"
   ]
  },
  {
   "cell_type": "code",
   "execution_count": 5,
   "metadata": {},
   "outputs": [
    {
     "name": "stdout",
     "output_type": "stream",
     "text": [
      " * sqlite://\n",
      "1 rows affected.\n"
     ]
    },
    {
     "data": {
      "text/plain": [
       "[]"
      ]
     },
     "execution_count": 5,
     "metadata": {},
     "output_type": "execute_result"
    }
   ],
   "source": [
    "%%sql \n",
    "\n",
    "UPDATE employeed SET district= 'Tampere' WHERE id=5;"
   ]
  },
  {
   "cell_type": "code",
   "execution_count": 6,
   "metadata": {},
   "outputs": [
    {
     "name": "stdout",
     "output_type": "stream",
     "text": [
      " * sqlite://\n",
      "Done.\n"
     ]
    },
    {
     "data": {
      "text/html": [
       "<table>\n",
       "    <thead>\n",
       "        <tr>\n",
       "            <th>id</th>\n",
       "            <th>first_name</th>\n",
       "            <th>last_name</th>\n",
       "            <th>date_of_birth</th>\n",
       "            <th>district</th>\n",
       "            <th>salary</th>\n",
       "            <th>mobile</th>\n",
       "        </tr>\n",
       "    </thead>\n",
       "    <tbody>\n",
       "        <tr>\n",
       "            <td>1</td>\n",
       "            <td>James</td>\n",
       "            <td>Mary</td>\n",
       "            <td>1987-01-01</td>\n",
       "            <td>Alabama</td>\n",
       "            <td>125000</td>\n",
       "            <td>15228817386</td>\n",
       "        </tr>\n",
       "        <tr>\n",
       "            <td>2</td>\n",
       "            <td>Robert</td>\n",
       "            <td>Patricia</td>\n",
       "            <td>1987-01-12</td>\n",
       "            <td>Alaska</td>\n",
       "            <td>86000</td>\n",
       "            <td>6990009999</td>\n",
       "        </tr>\n",
       "        <tr>\n",
       "            <td>3</td>\n",
       "            <td>Michael</td>\n",
       "            <td>Linda</td>\n",
       "            <td>1989-09-23</td>\n",
       "            <td>Arizona</td>\n",
       "            <td>60000</td>\n",
       "            <td>4066969999</td>\n",
       "        </tr>\n",
       "        <tr>\n",
       "            <td>4</td>\n",
       "            <td>William</td>\n",
       "            <td>Elizabeth</td>\n",
       "            <td>2000-11-12</td>\n",
       "            <td>Arkansas</td>\n",
       "            <td>120000</td>\n",
       "            <td>2214710999</td>\n",
       "        </tr>\n",
       "        <tr>\n",
       "            <td>5</td>\n",
       "            <td>Christopher</td>\n",
       "            <td>Nancy</td>\n",
       "            <td>2003-01-01</td>\n",
       "            <td>Tampere</td>\n",
       "            <td>75000</td>\n",
       "            <td>15228817386</td>\n",
       "        </tr>\n",
       "        <tr>\n",
       "            <td>6</td>\n",
       "            <td>Daniel</td>\n",
       "            <td>Matthew</td>\n",
       "            <td>1993-01-12</td>\n",
       "            <td>Alaska</td>\n",
       "            <td>85000</td>\n",
       "            <td>6990009999</td>\n",
       "        </tr>\n",
       "        <tr>\n",
       "            <td>7</td>\n",
       "            <td>Anthony</td>\n",
       "            <td>Margaret</td>\n",
       "            <td>1995-10-23</td>\n",
       "            <td>Arizona</td>\n",
       "            <td>35000</td>\n",
       "            <td>4066969999</td>\n",
       "        </tr>\n",
       "        <tr>\n",
       "            <td>8</td>\n",
       "            <td>Donald</td>\n",
       "            <td>Ashley</td>\n",
       "            <td>2000-11-11</td>\n",
       "            <td>Arkansas</td>\n",
       "            <td>130000</td>\n",
       "            <td>2214710999</td>\n",
       "        </tr>\n",
       "    </tbody>\n",
       "</table>"
      ],
      "text/plain": [
       "[(1, 'James', 'Mary', '1987-01-01', 'Alabama', 125000, '15228817386'),\n",
       " (2, 'Robert', 'Patricia', '1987-01-12', 'Alaska', 86000, '6990009999'),\n",
       " (3, 'Michael', 'Linda', '1989-09-23', 'Arizona', 60000, '4066969999'),\n",
       " (4, 'William', 'Elizabeth', '2000-11-12', 'Arkansas', 120000, '2214710999'),\n",
       " (5, 'Christopher', 'Nancy', '2003-01-01', 'Tampere', 75000, '15228817386'),\n",
       " (6, 'Daniel', 'Matthew', '1993-01-12', 'Alaska', 85000, '6990009999'),\n",
       " (7, 'Anthony', 'Margaret', '1995-10-23', 'Arizona', 35000, '4066969999'),\n",
       " (8, 'Donald', 'Ashley', '2000-11-11', 'Arkansas', 130000, '2214710999')]"
      ]
     },
     "execution_count": 6,
     "metadata": {},
     "output_type": "execute_result"
    }
   ],
   "source": [
    "%%sql \n",
    "\n",
    "SELECT * from employeed;"
   ]
  },
  {
   "cell_type": "code",
   "execution_count": 7,
   "metadata": {},
   "outputs": [
    {
     "name": "stdout",
     "output_type": "stream",
     "text": [
      " * sqlite://\n",
      "Done.\n"
     ]
    },
    {
     "data": {
      "text/html": [
       "<table>\n",
       "    <thead>\n",
       "        <tr>\n",
       "            <th>district</th>\n",
       "        </tr>\n",
       "    </thead>\n",
       "    <tbody>\n",
       "        <tr>\n",
       "            <td>Alabama</td>\n",
       "        </tr>\n",
       "        <tr>\n",
       "            <td>Alaska</td>\n",
       "        </tr>\n",
       "        <tr>\n",
       "            <td>Arizona</td>\n",
       "        </tr>\n",
       "        <tr>\n",
       "            <td>Arkansas</td>\n",
       "        </tr>\n",
       "        <tr>\n",
       "            <td>Tampere</td>\n",
       "        </tr>\n",
       "    </tbody>\n",
       "</table>"
      ],
      "text/plain": [
       "[('Alabama',), ('Alaska',), ('Arizona',), ('Arkansas',), ('Tampere',)]"
      ]
     },
     "execution_count": 7,
     "metadata": {},
     "output_type": "execute_result"
    }
   ],
   "source": [
    "%%sql \n",
    "SELECT DISTINCT district from employeed;"
   ]
  },
  {
   "cell_type": "code",
   "execution_count": 8,
   "metadata": {},
   "outputs": [
    {
     "name": "stdout",
     "output_type": "stream",
     "text": [
      " * sqlite://\n",
      "4 rows affected.\n"
     ]
    },
    {
     "data": {
      "text/plain": [
       "[]"
      ]
     },
     "execution_count": 8,
     "metadata": {},
     "output_type": "execute_result"
    }
   ],
   "source": [
    "%%sql \n",
    "\n",
    "DELETE from employeed WHERE id>=5;"
   ]
  },
  {
   "cell_type": "code",
   "execution_count": 9,
   "metadata": {},
   "outputs": [
    {
     "name": "stdout",
     "output_type": "stream",
     "text": [
      " * sqlite://\n",
      "Done.\n"
     ]
    },
    {
     "data": {
      "text/html": [
       "<table>\n",
       "    <thead>\n",
       "        <tr>\n",
       "            <th>id</th>\n",
       "            <th>first_name</th>\n",
       "            <th>last_name</th>\n",
       "            <th>date_of_birth</th>\n",
       "            <th>district</th>\n",
       "            <th>salary</th>\n",
       "            <th>mobile</th>\n",
       "        </tr>\n",
       "    </thead>\n",
       "    <tbody>\n",
       "        <tr>\n",
       "            <td>1</td>\n",
       "            <td>James</td>\n",
       "            <td>Mary</td>\n",
       "            <td>1987-01-01</td>\n",
       "            <td>Alabama</td>\n",
       "            <td>125000</td>\n",
       "            <td>15228817386</td>\n",
       "        </tr>\n",
       "        <tr>\n",
       "            <td>2</td>\n",
       "            <td>Robert</td>\n",
       "            <td>Patricia</td>\n",
       "            <td>1987-01-12</td>\n",
       "            <td>Alaska</td>\n",
       "            <td>86000</td>\n",
       "            <td>6990009999</td>\n",
       "        </tr>\n",
       "        <tr>\n",
       "            <td>3</td>\n",
       "            <td>Michael</td>\n",
       "            <td>Linda</td>\n",
       "            <td>1989-09-23</td>\n",
       "            <td>Arizona</td>\n",
       "            <td>60000</td>\n",
       "            <td>4066969999</td>\n",
       "        </tr>\n",
       "        <tr>\n",
       "            <td>4</td>\n",
       "            <td>William</td>\n",
       "            <td>Elizabeth</td>\n",
       "            <td>2000-11-12</td>\n",
       "            <td>Arkansas</td>\n",
       "            <td>120000</td>\n",
       "            <td>2214710999</td>\n",
       "        </tr>\n",
       "    </tbody>\n",
       "</table>"
      ],
      "text/plain": [
       "[(1, 'James', 'Mary', '1987-01-01', 'Alabama', 125000, '15228817386'),\n",
       " (2, 'Robert', 'Patricia', '1987-01-12', 'Alaska', 86000, '6990009999'),\n",
       " (3, 'Michael', 'Linda', '1989-09-23', 'Arizona', 60000, '4066969999'),\n",
       " (4, 'William', 'Elizabeth', '2000-11-12', 'Arkansas', 120000, '2214710999')]"
      ]
     },
     "execution_count": 9,
     "metadata": {},
     "output_type": "execute_result"
    }
   ],
   "source": [
    "%%sql \n",
    "\n",
    "SELECT * from employeed;"
   ]
  },
  {
   "cell_type": "code",
   "execution_count": 10,
   "metadata": {},
   "outputs": [
    {
     "name": "stdout",
     "output_type": "stream",
     "text": [
      " * sqlite://\n",
      "1 rows affected.\n"
     ]
    },
    {
     "data": {
      "text/plain": [
       "[]"
      ]
     },
     "execution_count": 10,
     "metadata": {},
     "output_type": "execute_result"
    }
   ],
   "source": [
    "%%sql \n",
    "\n",
    "INSERT INTO employeed (id,first_name,last_name,date_of_birth,district,salary,mobile) VALUES( 5,'duck','donald','1987-01-12','Kushtia',2500.00,'4405738447458');"
   ]
  },
  {
   "cell_type": "code",
   "execution_count": 11,
   "metadata": {},
   "outputs": [
    {
     "name": "stdout",
     "output_type": "stream",
     "text": [
      " * sqlite://\n",
      "Done.\n"
     ]
    },
    {
     "data": {
      "text/html": [
       "<table>\n",
       "    <thead>\n",
       "        <tr>\n",
       "            <th>id</th>\n",
       "            <th>first_name</th>\n",
       "            <th>last_name</th>\n",
       "            <th>date_of_birth</th>\n",
       "            <th>district</th>\n",
       "            <th>salary</th>\n",
       "            <th>mobile</th>\n",
       "        </tr>\n",
       "    </thead>\n",
       "    <tbody>\n",
       "        <tr>\n",
       "            <td>1</td>\n",
       "            <td>James</td>\n",
       "            <td>Mary</td>\n",
       "            <td>1987-01-01</td>\n",
       "            <td>Alabama</td>\n",
       "            <td>125000</td>\n",
       "            <td>15228817386</td>\n",
       "        </tr>\n",
       "        <tr>\n",
       "            <td>2</td>\n",
       "            <td>Robert</td>\n",
       "            <td>Patricia</td>\n",
       "            <td>1987-01-12</td>\n",
       "            <td>Alaska</td>\n",
       "            <td>86000</td>\n",
       "            <td>6990009999</td>\n",
       "        </tr>\n",
       "        <tr>\n",
       "            <td>3</td>\n",
       "            <td>Michael</td>\n",
       "            <td>Linda</td>\n",
       "            <td>1989-09-23</td>\n",
       "            <td>Arizona</td>\n",
       "            <td>60000</td>\n",
       "            <td>4066969999</td>\n",
       "        </tr>\n",
       "        <tr>\n",
       "            <td>4</td>\n",
       "            <td>William</td>\n",
       "            <td>Elizabeth</td>\n",
       "            <td>2000-11-12</td>\n",
       "            <td>Arkansas</td>\n",
       "            <td>120000</td>\n",
       "            <td>2214710999</td>\n",
       "        </tr>\n",
       "        <tr>\n",
       "            <td>5</td>\n",
       "            <td>duck</td>\n",
       "            <td>donald</td>\n",
       "            <td>1987-01-12</td>\n",
       "            <td>Kushtia</td>\n",
       "            <td>2500</td>\n",
       "            <td>4405738447458</td>\n",
       "        </tr>\n",
       "    </tbody>\n",
       "</table>"
      ],
      "text/plain": [
       "[(1, 'James', 'Mary', '1987-01-01', 'Alabama', 125000, '15228817386'),\n",
       " (2, 'Robert', 'Patricia', '1987-01-12', 'Alaska', 86000, '6990009999'),\n",
       " (3, 'Michael', 'Linda', '1989-09-23', 'Arizona', 60000, '4066969999'),\n",
       " (4, 'William', 'Elizabeth', '2000-11-12', 'Arkansas', 120000, '2214710999'),\n",
       " (5, 'duck', 'donald', '1987-01-12', 'Kushtia', 2500, '4405738447458')]"
      ]
     },
     "execution_count": 11,
     "metadata": {},
     "output_type": "execute_result"
    }
   ],
   "source": [
    "%%sql \n",
    "\n",
    "SELECT * from employeed;"
   ]
  },
  {
   "cell_type": "code",
   "execution_count": 12,
   "metadata": {},
   "outputs": [
    {
     "name": "stdout",
     "output_type": "stream",
     "text": [
      " * sqlite://\n",
      "1 rows affected.\n"
     ]
    },
    {
     "data": {
      "text/plain": [
       "[]"
      ]
     },
     "execution_count": 12,
     "metadata": {},
     "output_type": "execute_result"
    }
   ],
   "source": [
    "%%sql \n",
    "\n",
    "INSERT INTO employeed (id,first_name,last_name,date_of_birth,district,salary,mobile) VALUES( 6,'duck','donald','1987-01-12','Kushtia',2500.00,'440738447594');"
   ]
  },
  {
   "cell_type": "code",
   "execution_count": 13,
   "metadata": {},
   "outputs": [
    {
     "name": "stdout",
     "output_type": "stream",
     "text": [
      " * sqlite://\n",
      "Done.\n"
     ]
    },
    {
     "data": {
      "text/html": [
       "<table>\n",
       "    <thead>\n",
       "        <tr>\n",
       "            <th>id</th>\n",
       "            <th>first_name</th>\n",
       "            <th>last_name</th>\n",
       "            <th>date_of_birth</th>\n",
       "            <th>district</th>\n",
       "            <th>salary</th>\n",
       "            <th>mobile</th>\n",
       "        </tr>\n",
       "    </thead>\n",
       "    <tbody>\n",
       "        <tr>\n",
       "            <td>1</td>\n",
       "            <td>James</td>\n",
       "            <td>Mary</td>\n",
       "            <td>1987-01-01</td>\n",
       "            <td>Alabama</td>\n",
       "            <td>125000</td>\n",
       "            <td>15228817386</td>\n",
       "        </tr>\n",
       "        <tr>\n",
       "            <td>2</td>\n",
       "            <td>Robert</td>\n",
       "            <td>Patricia</td>\n",
       "            <td>1987-01-12</td>\n",
       "            <td>Alaska</td>\n",
       "            <td>86000</td>\n",
       "            <td>6990009999</td>\n",
       "        </tr>\n",
       "        <tr>\n",
       "            <td>3</td>\n",
       "            <td>Michael</td>\n",
       "            <td>Linda</td>\n",
       "            <td>1989-09-23</td>\n",
       "            <td>Arizona</td>\n",
       "            <td>60000</td>\n",
       "            <td>4066969999</td>\n",
       "        </tr>\n",
       "        <tr>\n",
       "            <td>4</td>\n",
       "            <td>William</td>\n",
       "            <td>Elizabeth</td>\n",
       "            <td>2000-11-12</td>\n",
       "            <td>Arkansas</td>\n",
       "            <td>120000</td>\n",
       "            <td>2214710999</td>\n",
       "        </tr>\n",
       "        <tr>\n",
       "            <td>5</td>\n",
       "            <td>duck</td>\n",
       "            <td>donald</td>\n",
       "            <td>1987-01-12</td>\n",
       "            <td>Kushtia</td>\n",
       "            <td>2500</td>\n",
       "            <td>4405738447458</td>\n",
       "        </tr>\n",
       "        <tr>\n",
       "            <td>6</td>\n",
       "            <td>duck</td>\n",
       "            <td>donald</td>\n",
       "            <td>1987-01-12</td>\n",
       "            <td>Kushtia</td>\n",
       "            <td>2500</td>\n",
       "            <td>440738447594</td>\n",
       "        </tr>\n",
       "    </tbody>\n",
       "</table>"
      ],
      "text/plain": [
       "[(1, 'James', 'Mary', '1987-01-01', 'Alabama', 125000, '15228817386'),\n",
       " (2, 'Robert', 'Patricia', '1987-01-12', 'Alaska', 86000, '6990009999'),\n",
       " (3, 'Michael', 'Linda', '1989-09-23', 'Arizona', 60000, '4066969999'),\n",
       " (4, 'William', 'Elizabeth', '2000-11-12', 'Arkansas', 120000, '2214710999'),\n",
       " (5, 'duck', 'donald', '1987-01-12', 'Kushtia', 2500, '4405738447458'),\n",
       " (6, 'duck', 'donald', '1987-01-12', 'Kushtia', 2500, '440738447594')]"
      ]
     },
     "execution_count": 13,
     "metadata": {},
     "output_type": "execute_result"
    }
   ],
   "source": [
    "%%sql \n",
    "\n",
    "SELECT * from employeed;"
   ]
  },
  {
   "cell_type": "code",
   "execution_count": 14,
   "metadata": {},
   "outputs": [
    {
     "name": "stdout",
     "output_type": "stream",
     "text": [
      " * sqlite://\n",
      "1 rows affected.\n",
      "1 rows affected.\n",
      "1 rows affected.\n",
      "1 rows affected.\n",
      "1 rows affected.\n"
     ]
    },
    {
     "data": {
      "text/plain": [
       "[]"
      ]
     },
     "execution_count": 14,
     "metadata": {},
     "output_type": "execute_result"
    }
   ],
   "source": [
    "%%sql \n",
    "\n",
    "UPDATE employeed SET salary= 1000.00 WHERE id=1;\n",
    "UPDATE employeed SET salary= 2000.00 WHERE id=2;\n",
    "UPDATE employeed SET salary= 3000.00 WHERE id=3;\n",
    "UPDATE employeed SET salary= 4000.00 WHERE id=4;\n",
    "UPDATE employeed SET salary= 5000.00 WHERE id=5;"
   ]
  },
  {
   "cell_type": "code",
   "execution_count": 15,
   "metadata": {},
   "outputs": [
    {
     "name": "stdout",
     "output_type": "stream",
     "text": [
      " * sqlite://\n",
      "Done.\n"
     ]
    },
    {
     "data": {
      "text/html": [
       "<table>\n",
       "    <thead>\n",
       "        <tr>\n",
       "            <th>id</th>\n",
       "            <th>first_name</th>\n",
       "            <th>last_name</th>\n",
       "            <th>date_of_birth</th>\n",
       "            <th>district</th>\n",
       "            <th>salary</th>\n",
       "            <th>mobile</th>\n",
       "        </tr>\n",
       "    </thead>\n",
       "    <tbody>\n",
       "        <tr>\n",
       "            <td>1</td>\n",
       "            <td>James</td>\n",
       "            <td>Mary</td>\n",
       "            <td>1987-01-01</td>\n",
       "            <td>Alabama</td>\n",
       "            <td>1000</td>\n",
       "            <td>15228817386</td>\n",
       "        </tr>\n",
       "        <tr>\n",
       "            <td>2</td>\n",
       "            <td>Robert</td>\n",
       "            <td>Patricia</td>\n",
       "            <td>1987-01-12</td>\n",
       "            <td>Alaska</td>\n",
       "            <td>2000</td>\n",
       "            <td>6990009999</td>\n",
       "        </tr>\n",
       "        <tr>\n",
       "            <td>3</td>\n",
       "            <td>Michael</td>\n",
       "            <td>Linda</td>\n",
       "            <td>1989-09-23</td>\n",
       "            <td>Arizona</td>\n",
       "            <td>3000</td>\n",
       "            <td>4066969999</td>\n",
       "        </tr>\n",
       "        <tr>\n",
       "            <td>4</td>\n",
       "            <td>William</td>\n",
       "            <td>Elizabeth</td>\n",
       "            <td>2000-11-12</td>\n",
       "            <td>Arkansas</td>\n",
       "            <td>4000</td>\n",
       "            <td>2214710999</td>\n",
       "        </tr>\n",
       "        <tr>\n",
       "            <td>5</td>\n",
       "            <td>duck</td>\n",
       "            <td>donald</td>\n",
       "            <td>1987-01-12</td>\n",
       "            <td>Kushtia</td>\n",
       "            <td>5000</td>\n",
       "            <td>4405738447458</td>\n",
       "        </tr>\n",
       "        <tr>\n",
       "            <td>6</td>\n",
       "            <td>duck</td>\n",
       "            <td>donald</td>\n",
       "            <td>1987-01-12</td>\n",
       "            <td>Kushtia</td>\n",
       "            <td>2500</td>\n",
       "            <td>440738447594</td>\n",
       "        </tr>\n",
       "    </tbody>\n",
       "</table>"
      ],
      "text/plain": [
       "[(1, 'James', 'Mary', '1987-01-01', 'Alabama', 1000, '15228817386'),\n",
       " (2, 'Robert', 'Patricia', '1987-01-12', 'Alaska', 2000, '6990009999'),\n",
       " (3, 'Michael', 'Linda', '1989-09-23', 'Arizona', 3000, '4066969999'),\n",
       " (4, 'William', 'Elizabeth', '2000-11-12', 'Arkansas', 4000, '2214710999'),\n",
       " (5, 'duck', 'donald', '1987-01-12', 'Kushtia', 5000, '4405738447458'),\n",
       " (6, 'duck', 'donald', '1987-01-12', 'Kushtia', 2500, '440738447594')]"
      ]
     },
     "execution_count": 15,
     "metadata": {},
     "output_type": "execute_result"
    }
   ],
   "source": [
    "%%sql \n",
    "\n",
    "SELECT * from employeed;"
   ]
  },
  {
   "cell_type": "code",
   "execution_count": 16,
   "metadata": {},
   "outputs": [
    {
     "name": "stdout",
     "output_type": "stream",
     "text": [
      " * sqlite://\n",
      "Done.\n"
     ]
    },
    {
     "data": {
      "text/html": [
       "<table>\n",
       "    <thead>\n",
       "        <tr>\n",
       "            <th>id</th>\n",
       "            <th>first_name</th>\n",
       "            <th>last_name</th>\n",
       "            <th>date_of_birth</th>\n",
       "            <th>district</th>\n",
       "            <th>salary</th>\n",
       "            <th>mobile</th>\n",
       "        </tr>\n",
       "    </thead>\n",
       "    <tbody>\n",
       "        <tr>\n",
       "            <td>6</td>\n",
       "            <td>duck</td>\n",
       "            <td>donald</td>\n",
       "            <td>1987-01-12</td>\n",
       "            <td>Kushtia</td>\n",
       "            <td>2500</td>\n",
       "            <td>440738447594</td>\n",
       "        </tr>\n",
       "        <tr>\n",
       "            <td>3</td>\n",
       "            <td>Michael</td>\n",
       "            <td>Linda</td>\n",
       "            <td>1989-09-23</td>\n",
       "            <td>Arizona</td>\n",
       "            <td>3000</td>\n",
       "            <td>4066969999</td>\n",
       "        </tr>\n",
       "        <tr>\n",
       "            <td>2</td>\n",
       "            <td>Robert</td>\n",
       "            <td>Patricia</td>\n",
       "            <td>1987-01-12</td>\n",
       "            <td>Alaska</td>\n",
       "            <td>2000</td>\n",
       "            <td>6990009999</td>\n",
       "        </tr>\n",
       "        <tr>\n",
       "            <td>1</td>\n",
       "            <td>James</td>\n",
       "            <td>Mary</td>\n",
       "            <td>1987-01-01</td>\n",
       "            <td>Alabama</td>\n",
       "            <td>1000</td>\n",
       "            <td>15228817386</td>\n",
       "        </tr>\n",
       "    </tbody>\n",
       "</table>"
      ],
      "text/plain": [
       "[(6, 'duck', 'donald', '1987-01-12', 'Kushtia', 2500, '440738447594'),\n",
       " (3, 'Michael', 'Linda', '1989-09-23', 'Arizona', 3000, '4066969999'),\n",
       " (2, 'Robert', 'Patricia', '1987-01-12', 'Alaska', 2000, '6990009999'),\n",
       " (1, 'James', 'Mary', '1987-01-01', 'Alabama', 1000, '15228817386')]"
      ]
     },
     "execution_count": 16,
     "metadata": {},
     "output_type": "execute_result"
    }
   ],
   "source": [
    "%%sql \n",
    "\n",
    "SELECT * from employeed WHERE salary <=3000 ORDER BY id DESC;"
   ]
  },
  {
   "cell_type": "code",
   "execution_count": 17,
   "metadata": {},
   "outputs": [
    {
     "name": "stdout",
     "output_type": "stream",
     "text": [
      " * sqlite://\n",
      "1 rows affected.\n"
     ]
    },
    {
     "data": {
      "text/plain": [
       "[]"
      ]
     },
     "execution_count": 17,
     "metadata": {},
     "output_type": "execute_result"
    }
   ],
   "source": [
    "%%sql \n",
    "\n",
    "INSERT INTO employeed (id,first_name,last_name,date_of_birth,district,salary,mobile) VALUES( 7,'duck','donald','1987-01-12','Kushtia',2500.00,'');"
   ]
  },
  {
   "cell_type": "code",
   "execution_count": 18,
   "metadata": {},
   "outputs": [
    {
     "name": "stdout",
     "output_type": "stream",
     "text": [
      " * sqlite://\n",
      "Done.\n"
     ]
    },
    {
     "data": {
      "text/html": [
       "<table>\n",
       "    <thead>\n",
       "        <tr>\n",
       "            <th>id</th>\n",
       "            <th>first_name</th>\n",
       "            <th>last_name</th>\n",
       "            <th>date_of_birth</th>\n",
       "            <th>district</th>\n",
       "            <th>salary</th>\n",
       "            <th>mobile</th>\n",
       "        </tr>\n",
       "    </thead>\n",
       "    <tbody>\n",
       "        <tr>\n",
       "            <td>1</td>\n",
       "            <td>James</td>\n",
       "            <td>Mary</td>\n",
       "            <td>1987-01-01</td>\n",
       "            <td>Alabama</td>\n",
       "            <td>1000</td>\n",
       "            <td>15228817386</td>\n",
       "        </tr>\n",
       "        <tr>\n",
       "            <td>2</td>\n",
       "            <td>Robert</td>\n",
       "            <td>Patricia</td>\n",
       "            <td>1987-01-12</td>\n",
       "            <td>Alaska</td>\n",
       "            <td>2000</td>\n",
       "            <td>6990009999</td>\n",
       "        </tr>\n",
       "        <tr>\n",
       "            <td>3</td>\n",
       "            <td>Michael</td>\n",
       "            <td>Linda</td>\n",
       "            <td>1989-09-23</td>\n",
       "            <td>Arizona</td>\n",
       "            <td>3000</td>\n",
       "            <td>4066969999</td>\n",
       "        </tr>\n",
       "        <tr>\n",
       "            <td>4</td>\n",
       "            <td>William</td>\n",
       "            <td>Elizabeth</td>\n",
       "            <td>2000-11-12</td>\n",
       "            <td>Arkansas</td>\n",
       "            <td>4000</td>\n",
       "            <td>2214710999</td>\n",
       "        </tr>\n",
       "        <tr>\n",
       "            <td>5</td>\n",
       "            <td>duck</td>\n",
       "            <td>donald</td>\n",
       "            <td>1987-01-12</td>\n",
       "            <td>Kushtia</td>\n",
       "            <td>5000</td>\n",
       "            <td>4405738447458</td>\n",
       "        </tr>\n",
       "        <tr>\n",
       "            <td>6</td>\n",
       "            <td>duck</td>\n",
       "            <td>donald</td>\n",
       "            <td>1987-01-12</td>\n",
       "            <td>Kushtia</td>\n",
       "            <td>2500</td>\n",
       "            <td>440738447594</td>\n",
       "        </tr>\n",
       "        <tr>\n",
       "            <td>7</td>\n",
       "            <td>duck</td>\n",
       "            <td>donald</td>\n",
       "            <td>1987-01-12</td>\n",
       "            <td>Kushtia</td>\n",
       "            <td>2500</td>\n",
       "            <td></td>\n",
       "        </tr>\n",
       "    </tbody>\n",
       "</table>"
      ],
      "text/plain": [
       "[(1, 'James', 'Mary', '1987-01-01', 'Alabama', 1000, '15228817386'),\n",
       " (2, 'Robert', 'Patricia', '1987-01-12', 'Alaska', 2000, '6990009999'),\n",
       " (3, 'Michael', 'Linda', '1989-09-23', 'Arizona', 3000, '4066969999'),\n",
       " (4, 'William', 'Elizabeth', '2000-11-12', 'Arkansas', 4000, '2214710999'),\n",
       " (5, 'duck', 'donald', '1987-01-12', 'Kushtia', 5000, '4405738447458'),\n",
       " (6, 'duck', 'donald', '1987-01-12', 'Kushtia', 2500, '440738447594'),\n",
       " (7, 'duck', 'donald', '1987-01-12', 'Kushtia', 2500, '')]"
      ]
     },
     "execution_count": 18,
     "metadata": {},
     "output_type": "execute_result"
    }
   ],
   "source": [
    "%%sql \n",
    "\n",
    "SELECT * from employeed;"
   ]
  },
  {
   "cell_type": "code",
   "execution_count": 19,
   "metadata": {},
   "outputs": [
    {
     "name": "stdout",
     "output_type": "stream",
     "text": [
      " * sqlite://\n",
      "1 rows affected.\n"
     ]
    },
    {
     "data": {
      "text/plain": [
       "[]"
      ]
     },
     "execution_count": 19,
     "metadata": {},
     "output_type": "execute_result"
    }
   ],
   "source": [
    "%%sql \n",
    "\n",
    "INSERT INTO employeed (id,first_name,last_name,date_of_birth,district,salary,mobile) VALUES( 8,'duck','donald','1987-01-12','Kushtia',2500.00,'0154');"
   ]
  },
  {
   "cell_type": "code",
   "execution_count": 20,
   "metadata": {},
   "outputs": [
    {
     "name": "stdout",
     "output_type": "stream",
     "text": [
      " * sqlite://\n",
      "Done.\n"
     ]
    },
    {
     "data": {
      "text/html": [
       "<table>\n",
       "    <thead>\n",
       "        <tr>\n",
       "            <th>id</th>\n",
       "            <th>first_name</th>\n",
       "            <th>last_name</th>\n",
       "            <th>date_of_birth</th>\n",
       "            <th>district</th>\n",
       "            <th>salary</th>\n",
       "            <th>mobile</th>\n",
       "        </tr>\n",
       "    </thead>\n",
       "    <tbody>\n",
       "        <tr>\n",
       "            <td>1</td>\n",
       "            <td>James</td>\n",
       "            <td>Mary</td>\n",
       "            <td>1987-01-01</td>\n",
       "            <td>Alabama</td>\n",
       "            <td>1000</td>\n",
       "            <td>15228817386</td>\n",
       "        </tr>\n",
       "        <tr>\n",
       "            <td>2</td>\n",
       "            <td>Robert</td>\n",
       "            <td>Patricia</td>\n",
       "            <td>1987-01-12</td>\n",
       "            <td>Alaska</td>\n",
       "            <td>2000</td>\n",
       "            <td>6990009999</td>\n",
       "        </tr>\n",
       "        <tr>\n",
       "            <td>3</td>\n",
       "            <td>Michael</td>\n",
       "            <td>Linda</td>\n",
       "            <td>1989-09-23</td>\n",
       "            <td>Arizona</td>\n",
       "            <td>3000</td>\n",
       "            <td>4066969999</td>\n",
       "        </tr>\n",
       "        <tr>\n",
       "            <td>4</td>\n",
       "            <td>William</td>\n",
       "            <td>Elizabeth</td>\n",
       "            <td>2000-11-12</td>\n",
       "            <td>Arkansas</td>\n",
       "            <td>4000</td>\n",
       "            <td>2214710999</td>\n",
       "        </tr>\n",
       "        <tr>\n",
       "            <td>5</td>\n",
       "            <td>duck</td>\n",
       "            <td>donald</td>\n",
       "            <td>1987-01-12</td>\n",
       "            <td>Kushtia</td>\n",
       "            <td>5000</td>\n",
       "            <td>4405738447458</td>\n",
       "        </tr>\n",
       "        <tr>\n",
       "            <td>6</td>\n",
       "            <td>duck</td>\n",
       "            <td>donald</td>\n",
       "            <td>1987-01-12</td>\n",
       "            <td>Kushtia</td>\n",
       "            <td>2500</td>\n",
       "            <td>440738447594</td>\n",
       "        </tr>\n",
       "        <tr>\n",
       "            <td>7</td>\n",
       "            <td>duck</td>\n",
       "            <td>donald</td>\n",
       "            <td>1987-01-12</td>\n",
       "            <td>Kushtia</td>\n",
       "            <td>2500</td>\n",
       "            <td></td>\n",
       "        </tr>\n",
       "        <tr>\n",
       "            <td>8</td>\n",
       "            <td>duck</td>\n",
       "            <td>donald</td>\n",
       "            <td>1987-01-12</td>\n",
       "            <td>Kushtia</td>\n",
       "            <td>2500</td>\n",
       "            <td>0154</td>\n",
       "        </tr>\n",
       "    </tbody>\n",
       "</table>"
      ],
      "text/plain": [
       "[(1, 'James', 'Mary', '1987-01-01', 'Alabama', 1000, '15228817386'),\n",
       " (2, 'Robert', 'Patricia', '1987-01-12', 'Alaska', 2000, '6990009999'),\n",
       " (3, 'Michael', 'Linda', '1989-09-23', 'Arizona', 3000, '4066969999'),\n",
       " (4, 'William', 'Elizabeth', '2000-11-12', 'Arkansas', 4000, '2214710999'),\n",
       " (5, 'duck', 'donald', '1987-01-12', 'Kushtia', 5000, '4405738447458'),\n",
       " (6, 'duck', 'donald', '1987-01-12', 'Kushtia', 2500, '440738447594'),\n",
       " (7, 'duck', 'donald', '1987-01-12', 'Kushtia', 2500, ''),\n",
       " (8, 'duck', 'donald', '1987-01-12', 'Kushtia', 2500, '0154')]"
      ]
     },
     "execution_count": 20,
     "metadata": {},
     "output_type": "execute_result"
    }
   ],
   "source": [
    "%%sql \n",
    "\n",
    "SELECT * from employeed;"
   ]
  },
  {
   "cell_type": "code",
   "execution_count": 21,
   "metadata": {},
   "outputs": [
    {
     "name": "stdout",
     "output_type": "stream",
     "text": [
      " * sqlite://\n",
      "1 rows affected.\n",
      "1 rows affected.\n",
      "1 rows affected.\n",
      "1 rows affected.\n",
      "1 rows affected.\n",
      "1 rows affected.\n",
      "1 rows affected.\n",
      "1 rows affected.\n"
     ]
    },
    {
     "data": {
      "text/plain": [
       "[]"
      ]
     },
     "execution_count": 21,
     "metadata": {},
     "output_type": "execute_result"
    }
   ],
   "source": [
    "%%sql \n",
    "\n",
    "UPDATE employeed SET first_name= 'Gary' WHERE id=1;\n",
    "UPDATE employeed SET first_name= 'Nicholas' WHERE id=2;\n",
    "UPDATE employeed SET first_name= 'Eric' WHERE id=3;\n",
    "UPDATE employeed SET first_name= 'Stephen' WHERE id=4;\n",
    "UPDATE employeed SET first_name= 'Larry' WHERE id=5;\n",
    "UPDATE employeed SET first_name= 'Justin' WHERE id=6;\n",
    "UPDATE employeed SET first_name= 'Benjamin' WHERE id=7;\n",
    "UPDATE employeed SET first_name= 'Samuel' WHERE id=8;"
   ]
  },
  {
   "cell_type": "code",
   "execution_count": 22,
   "metadata": {},
   "outputs": [
    {
     "name": "stdout",
     "output_type": "stream",
     "text": [
      " * sqlite://\n",
      "Done.\n"
     ]
    },
    {
     "data": {
      "text/html": [
       "<table>\n",
       "    <thead>\n",
       "        <tr>\n",
       "            <th>id</th>\n",
       "            <th>first_name</th>\n",
       "            <th>last_name</th>\n",
       "            <th>date_of_birth</th>\n",
       "            <th>district</th>\n",
       "            <th>salary</th>\n",
       "            <th>mobile</th>\n",
       "        </tr>\n",
       "    </thead>\n",
       "    <tbody>\n",
       "        <tr>\n",
       "            <td>1</td>\n",
       "            <td>Gary</td>\n",
       "            <td>Mary</td>\n",
       "            <td>1987-01-01</td>\n",
       "            <td>Alabama</td>\n",
       "            <td>1000</td>\n",
       "            <td>15228817386</td>\n",
       "        </tr>\n",
       "        <tr>\n",
       "            <td>2</td>\n",
       "            <td>Nicholas</td>\n",
       "            <td>Patricia</td>\n",
       "            <td>1987-01-12</td>\n",
       "            <td>Alaska</td>\n",
       "            <td>2000</td>\n",
       "            <td>6990009999</td>\n",
       "        </tr>\n",
       "        <tr>\n",
       "            <td>3</td>\n",
       "            <td>Eric</td>\n",
       "            <td>Linda</td>\n",
       "            <td>1989-09-23</td>\n",
       "            <td>Arizona</td>\n",
       "            <td>3000</td>\n",
       "            <td>4066969999</td>\n",
       "        </tr>\n",
       "        <tr>\n",
       "            <td>4</td>\n",
       "            <td>Stephen</td>\n",
       "            <td>Elizabeth</td>\n",
       "            <td>2000-11-12</td>\n",
       "            <td>Arkansas</td>\n",
       "            <td>4000</td>\n",
       "            <td>2214710999</td>\n",
       "        </tr>\n",
       "        <tr>\n",
       "            <td>5</td>\n",
       "            <td>Larry</td>\n",
       "            <td>donald</td>\n",
       "            <td>1987-01-12</td>\n",
       "            <td>Kushtia</td>\n",
       "            <td>5000</td>\n",
       "            <td>4405738447458</td>\n",
       "        </tr>\n",
       "        <tr>\n",
       "            <td>6</td>\n",
       "            <td>Justin</td>\n",
       "            <td>donald</td>\n",
       "            <td>1987-01-12</td>\n",
       "            <td>Kushtia</td>\n",
       "            <td>2500</td>\n",
       "            <td>440738447594</td>\n",
       "        </tr>\n",
       "        <tr>\n",
       "            <td>7</td>\n",
       "            <td>Benjamin</td>\n",
       "            <td>donald</td>\n",
       "            <td>1987-01-12</td>\n",
       "            <td>Kushtia</td>\n",
       "            <td>2500</td>\n",
       "            <td></td>\n",
       "        </tr>\n",
       "        <tr>\n",
       "            <td>8</td>\n",
       "            <td>Samuel</td>\n",
       "            <td>donald</td>\n",
       "            <td>1987-01-12</td>\n",
       "            <td>Kushtia</td>\n",
       "            <td>2500</td>\n",
       "            <td>0154</td>\n",
       "        </tr>\n",
       "    </tbody>\n",
       "</table>"
      ],
      "text/plain": [
       "[(1, 'Gary', 'Mary', '1987-01-01', 'Alabama', 1000, '15228817386'),\n",
       " (2, 'Nicholas', 'Patricia', '1987-01-12', 'Alaska', 2000, '6990009999'),\n",
       " (3, 'Eric', 'Linda', '1989-09-23', 'Arizona', 3000, '4066969999'),\n",
       " (4, 'Stephen', 'Elizabeth', '2000-11-12', 'Arkansas', 4000, '2214710999'),\n",
       " (5, 'Larry', 'donald', '1987-01-12', 'Kushtia', 5000, '4405738447458'),\n",
       " (6, 'Justin', 'donald', '1987-01-12', 'Kushtia', 2500, '440738447594'),\n",
       " (7, 'Benjamin', 'donald', '1987-01-12', 'Kushtia', 2500, ''),\n",
       " (8, 'Samuel', 'donald', '1987-01-12', 'Kushtia', 2500, '0154')]"
      ]
     },
     "execution_count": 22,
     "metadata": {},
     "output_type": "execute_result"
    }
   ],
   "source": [
    "%%sql \n",
    "\n",
    "SELECT * from employeed;"
   ]
  },
  {
   "cell_type": "code",
   "execution_count": 23,
   "metadata": {},
   "outputs": [
    {
     "name": "stdout",
     "output_type": "stream",
     "text": [
      " * sqlite://\n",
      "1 rows affected.\n",
      "1 rows affected.\n",
      "1 rows affected.\n",
      "1 rows affected.\n",
      "1 rows affected.\n",
      "1 rows affected.\n",
      "1 rows affected.\n",
      "1 rows affected.\n"
     ]
    },
    {
     "data": {
      "text/plain": [
       "[]"
      ]
     },
     "execution_count": 23,
     "metadata": {},
     "output_type": "execute_result"
    }
   ],
   "source": [
    "%%sql \n",
    "\n",
    "UPDATE employeed SET first_name= 'George', last_name='Melissa' WHERE id=1;\n",
    "UPDATE employeed SET first_name= 'Edward', last_name='Deborah' WHERE id=2;\n",
    "UPDATE employeed SET first_name= 'Abdur Rahman', last_name='Abdullah' WHERE id=3;\n",
    "UPDATE employeed SET first_name= 'Ronald' , last_name='Stephanie' WHERE id=4;\n",
    "UPDATE employeed SET first_name= 'Timothy' , last_name='Rebecca' WHERE id=5;\n",
    "UPDATE employeed SET first_name= 'Jason' , last_name='Laura' WHERE id=6;\n",
    "UPDATE employeed SET first_name= 'Ryan' , last_name='Cynthia' WHERE id=7;\n",
    "UPDATE employeed SET first_name= 'Gary' , last_name='Helen' WHERE id=8;"
   ]
  },
  {
   "cell_type": "code",
   "execution_count": 24,
   "metadata": {},
   "outputs": [
    {
     "name": "stdout",
     "output_type": "stream",
     "text": [
      " * sqlite://\n",
      "Done.\n"
     ]
    },
    {
     "data": {
      "text/html": [
       "<table>\n",
       "    <thead>\n",
       "        <tr>\n",
       "            <th>id</th>\n",
       "            <th>first_name</th>\n",
       "            <th>last_name</th>\n",
       "            <th>date_of_birth</th>\n",
       "            <th>district</th>\n",
       "            <th>salary</th>\n",
       "            <th>mobile</th>\n",
       "        </tr>\n",
       "    </thead>\n",
       "    <tbody>\n",
       "        <tr>\n",
       "            <td>1</td>\n",
       "            <td>George</td>\n",
       "            <td>Melissa</td>\n",
       "            <td>1987-01-01</td>\n",
       "            <td>Alabama</td>\n",
       "            <td>1000</td>\n",
       "            <td>15228817386</td>\n",
       "        </tr>\n",
       "        <tr>\n",
       "            <td>2</td>\n",
       "            <td>Edward</td>\n",
       "            <td>Deborah</td>\n",
       "            <td>1987-01-12</td>\n",
       "            <td>Alaska</td>\n",
       "            <td>2000</td>\n",
       "            <td>6990009999</td>\n",
       "        </tr>\n",
       "        <tr>\n",
       "            <td>3</td>\n",
       "            <td>Abdur Rahman</td>\n",
       "            <td>Abdullah</td>\n",
       "            <td>1989-09-23</td>\n",
       "            <td>Arizona</td>\n",
       "            <td>3000</td>\n",
       "            <td>4066969999</td>\n",
       "        </tr>\n",
       "        <tr>\n",
       "            <td>4</td>\n",
       "            <td>Ronald</td>\n",
       "            <td>Stephanie</td>\n",
       "            <td>2000-11-12</td>\n",
       "            <td>Arkansas</td>\n",
       "            <td>4000</td>\n",
       "            <td>2214710999</td>\n",
       "        </tr>\n",
       "        <tr>\n",
       "            <td>5</td>\n",
       "            <td>Timothy</td>\n",
       "            <td>Rebecca</td>\n",
       "            <td>1987-01-12</td>\n",
       "            <td>Kushtia</td>\n",
       "            <td>5000</td>\n",
       "            <td>4405738447458</td>\n",
       "        </tr>\n",
       "        <tr>\n",
       "            <td>6</td>\n",
       "            <td>Jason</td>\n",
       "            <td>Laura</td>\n",
       "            <td>1987-01-12</td>\n",
       "            <td>Kushtia</td>\n",
       "            <td>2500</td>\n",
       "            <td>440738447594</td>\n",
       "        </tr>\n",
       "        <tr>\n",
       "            <td>7</td>\n",
       "            <td>Ryan</td>\n",
       "            <td>Cynthia</td>\n",
       "            <td>1987-01-12</td>\n",
       "            <td>Kushtia</td>\n",
       "            <td>2500</td>\n",
       "            <td></td>\n",
       "        </tr>\n",
       "        <tr>\n",
       "            <td>8</td>\n",
       "            <td>Gary</td>\n",
       "            <td>Helen</td>\n",
       "            <td>1987-01-12</td>\n",
       "            <td>Kushtia</td>\n",
       "            <td>2500</td>\n",
       "            <td>0154</td>\n",
       "        </tr>\n",
       "    </tbody>\n",
       "</table>"
      ],
      "text/plain": [
       "[(1, 'George', 'Melissa', '1987-01-01', 'Alabama', 1000, '15228817386'),\n",
       " (2, 'Edward', 'Deborah', '1987-01-12', 'Alaska', 2000, '6990009999'),\n",
       " (3, 'Abdur Rahman', 'Abdullah', '1989-09-23', 'Arizona', 3000, '4066969999'),\n",
       " (4, 'Ronald', 'Stephanie', '2000-11-12', 'Arkansas', 4000, '2214710999'),\n",
       " (5, 'Timothy', 'Rebecca', '1987-01-12', 'Kushtia', 5000, '4405738447458'),\n",
       " (6, 'Jason', 'Laura', '1987-01-12', 'Kushtia', 2500, '440738447594'),\n",
       " (7, 'Ryan', 'Cynthia', '1987-01-12', 'Kushtia', 2500, ''),\n",
       " (8, 'Gary', 'Helen', '1987-01-12', 'Kushtia', 2500, '0154')]"
      ]
     },
     "execution_count": 24,
     "metadata": {},
     "output_type": "execute_result"
    }
   ],
   "source": [
    "%%sql \n",
    "\n",
    "SELECT * from employeed;"
   ]
  },
  {
   "cell_type": "code",
   "execution_count": 25,
   "metadata": {},
   "outputs": [
    {
     "name": "stdout",
     "output_type": "stream",
     "text": [
      " * sqlite://\n",
      "Done.\n"
     ]
    },
    {
     "data": {
      "text/html": [
       "<table>\n",
       "    <thead>\n",
       "        <tr>\n",
       "            <th>id</th>\n",
       "            <th>first_name</th>\n",
       "            <th>last_name</th>\n",
       "            <th>date_of_birth</th>\n",
       "            <th>district</th>\n",
       "            <th>salary</th>\n",
       "            <th>mobile</th>\n",
       "        </tr>\n",
       "    </thead>\n",
       "    <tbody>\n",
       "        <tr>\n",
       "            <td>5</td>\n",
       "            <td>Timothy</td>\n",
       "            <td>Rebecca</td>\n",
       "            <td>1987-01-12</td>\n",
       "            <td>Kushtia</td>\n",
       "            <td>5000</td>\n",
       "            <td>4405738447458</td>\n",
       "        </tr>\n",
       "        <tr>\n",
       "            <td>6</td>\n",
       "            <td>Jason</td>\n",
       "            <td>Laura</td>\n",
       "            <td>1987-01-12</td>\n",
       "            <td>Kushtia</td>\n",
       "            <td>2500</td>\n",
       "            <td>440738447594</td>\n",
       "        </tr>\n",
       "        <tr>\n",
       "            <td>7</td>\n",
       "            <td>Ryan</td>\n",
       "            <td>Cynthia</td>\n",
       "            <td>1987-01-12</td>\n",
       "            <td>Kushtia</td>\n",
       "            <td>2500</td>\n",
       "            <td></td>\n",
       "        </tr>\n",
       "        <tr>\n",
       "            <td>8</td>\n",
       "            <td>Gary</td>\n",
       "            <td>Helen</td>\n",
       "            <td>1987-01-12</td>\n",
       "            <td>Kushtia</td>\n",
       "            <td>2500</td>\n",
       "            <td>0154</td>\n",
       "        </tr>\n",
       "    </tbody>\n",
       "</table>"
      ],
      "text/plain": [
       "[(5, 'Timothy', 'Rebecca', '1987-01-12', 'Kushtia', 5000, '4405738447458'),\n",
       " (6, 'Jason', 'Laura', '1987-01-12', 'Kushtia', 2500, '440738447594'),\n",
       " (7, 'Ryan', 'Cynthia', '1987-01-12', 'Kushtia', 2500, ''),\n",
       " (8, 'Gary', 'Helen', '1987-01-12', 'Kushtia', 2500, '0154')]"
      ]
     },
     "execution_count": 25,
     "metadata": {},
     "output_type": "execute_result"
    }
   ],
   "source": [
    "%%sql \n",
    "\n",
    "SELECT * \n",
    "from employeed\n",
    "WHERE district='Kushtia';"
   ]
  },
  {
   "cell_type": "code",
   "execution_count": 26,
   "metadata": {},
   "outputs": [
    {
     "name": "stdout",
     "output_type": "stream",
     "text": [
      " * sqlite://\n",
      "Done.\n"
     ]
    },
    {
     "data": {
      "text/html": [
       "<table>\n",
       "    <thead>\n",
       "        <tr>\n",
       "            <th>id</th>\n",
       "            <th>first_name</th>\n",
       "            <th>last_name</th>\n",
       "            <th>date_of_birth</th>\n",
       "            <th>district</th>\n",
       "            <th>salary</th>\n",
       "            <th>mobile</th>\n",
       "        </tr>\n",
       "    </thead>\n",
       "    <tbody>\n",
       "        <tr>\n",
       "            <td>1</td>\n",
       "            <td>George</td>\n",
       "            <td>Melissa</td>\n",
       "            <td>1987-01-01</td>\n",
       "            <td>Alabama</td>\n",
       "            <td>1000</td>\n",
       "            <td>15228817386</td>\n",
       "        </tr>\n",
       "        <tr>\n",
       "            <td>2</td>\n",
       "            <td>Edward</td>\n",
       "            <td>Deborah</td>\n",
       "            <td>1987-01-12</td>\n",
       "            <td>Alaska</td>\n",
       "            <td>2000</td>\n",
       "            <td>6990009999</td>\n",
       "        </tr>\n",
       "        <tr>\n",
       "            <td>3</td>\n",
       "            <td>Abdur Rahman</td>\n",
       "            <td>Abdullah</td>\n",
       "            <td>1989-09-23</td>\n",
       "            <td>Arizona</td>\n",
       "            <td>3000</td>\n",
       "            <td>4066969999</td>\n",
       "        </tr>\n",
       "        <tr>\n",
       "            <td>4</td>\n",
       "            <td>Ronald</td>\n",
       "            <td>Stephanie</td>\n",
       "            <td>2000-11-12</td>\n",
       "            <td>Arkansas</td>\n",
       "            <td>4000</td>\n",
       "            <td>2214710999</td>\n",
       "        </tr>\n",
       "        <tr>\n",
       "            <td>5</td>\n",
       "            <td>Timothy</td>\n",
       "            <td>Rebecca</td>\n",
       "            <td>1987-01-12</td>\n",
       "            <td>Kushtia</td>\n",
       "            <td>5000</td>\n",
       "            <td>4405738447458</td>\n",
       "        </tr>\n",
       "        <tr>\n",
       "            <td>6</td>\n",
       "            <td>Jason</td>\n",
       "            <td>Laura</td>\n",
       "            <td>1987-01-12</td>\n",
       "            <td>Kushtia</td>\n",
       "            <td>2500</td>\n",
       "            <td>440738447594</td>\n",
       "        </tr>\n",
       "        <tr>\n",
       "            <td>7</td>\n",
       "            <td>Ryan</td>\n",
       "            <td>Cynthia</td>\n",
       "            <td>1987-01-12</td>\n",
       "            <td>Kushtia</td>\n",
       "            <td>2500</td>\n",
       "            <td></td>\n",
       "        </tr>\n",
       "        <tr>\n",
       "            <td>8</td>\n",
       "            <td>Gary</td>\n",
       "            <td>Helen</td>\n",
       "            <td>1987-01-12</td>\n",
       "            <td>Kushtia</td>\n",
       "            <td>2500</td>\n",
       "            <td>0154</td>\n",
       "        </tr>\n",
       "    </tbody>\n",
       "</table>"
      ],
      "text/plain": [
       "[(1, 'George', 'Melissa', '1987-01-01', 'Alabama', 1000, '15228817386'),\n",
       " (2, 'Edward', 'Deborah', '1987-01-12', 'Alaska', 2000, '6990009999'),\n",
       " (3, 'Abdur Rahman', 'Abdullah', '1989-09-23', 'Arizona', 3000, '4066969999'),\n",
       " (4, 'Ronald', 'Stephanie', '2000-11-12', 'Arkansas', 4000, '2214710999'),\n",
       " (5, 'Timothy', 'Rebecca', '1987-01-12', 'Kushtia', 5000, '4405738447458'),\n",
       " (6, 'Jason', 'Laura', '1987-01-12', 'Kushtia', 2500, '440738447594'),\n",
       " (7, 'Ryan', 'Cynthia', '1987-01-12', 'Kushtia', 2500, ''),\n",
       " (8, 'Gary', 'Helen', '1987-01-12', 'Kushtia', 2500, '0154')]"
      ]
     },
     "execution_count": 26,
     "metadata": {},
     "output_type": "execute_result"
    }
   ],
   "source": [
    "%%sql \n",
    "\n",
    "SELECT * \n",
    "from employeed\n",
    "WHERE date_of_birth > '1980-01-01';"
   ]
  },
  {
   "cell_type": "code",
   "execution_count": 27,
   "metadata": {},
   "outputs": [
    {
     "name": "stdout",
     "output_type": "stream",
     "text": [
      " * sqlite://\n",
      "Done.\n"
     ]
    },
    {
     "data": {
      "text/html": [
       "<table>\n",
       "    <thead>\n",
       "        <tr>\n",
       "            <th>id</th>\n",
       "            <th>first_name</th>\n",
       "            <th>last_name</th>\n",
       "            <th>date_of_birth</th>\n",
       "            <th>district</th>\n",
       "            <th>salary</th>\n",
       "            <th>mobile</th>\n",
       "        </tr>\n",
       "    </thead>\n",
       "    <tbody>\n",
       "    </tbody>\n",
       "</table>"
      ],
      "text/plain": [
       "[]"
      ]
     },
     "execution_count": 27,
     "metadata": {},
     "output_type": "execute_result"
    }
   ],
   "source": [
    "%%sql \n",
    "\n",
    "SELECT * \n",
    "from employeed\n",
    "WHERE date_of_birth < '1980-01-01';"
   ]
  },
  {
   "cell_type": "code",
   "execution_count": 28,
   "metadata": {},
   "outputs": [
    {
     "name": "stdout",
     "output_type": "stream",
     "text": [
      " * sqlite://\n",
      "Done.\n"
     ]
    },
    {
     "data": {
      "text/html": [
       "<table>\n",
       "    <thead>\n",
       "        <tr>\n",
       "            <th>id</th>\n",
       "            <th>first_name</th>\n",
       "            <th>last_name</th>\n",
       "            <th>date_of_birth</th>\n",
       "            <th>district</th>\n",
       "            <th>salary</th>\n",
       "            <th>mobile</th>\n",
       "        </tr>\n",
       "    </thead>\n",
       "    <tbody>\n",
       "        <tr>\n",
       "            <td>2</td>\n",
       "            <td>Edward</td>\n",
       "            <td>Deborah</td>\n",
       "            <td>1987-01-12</td>\n",
       "            <td>Alaska</td>\n",
       "            <td>2000</td>\n",
       "            <td>6990009999</td>\n",
       "        </tr>\n",
       "        <tr>\n",
       "            <td>3</td>\n",
       "            <td>Abdur Rahman</td>\n",
       "            <td>Abdullah</td>\n",
       "            <td>1989-09-23</td>\n",
       "            <td>Arizona</td>\n",
       "            <td>3000</td>\n",
       "            <td>4066969999</td>\n",
       "        </tr>\n",
       "        <tr>\n",
       "            <td>4</td>\n",
       "            <td>Ronald</td>\n",
       "            <td>Stephanie</td>\n",
       "            <td>2000-11-12</td>\n",
       "            <td>Arkansas</td>\n",
       "            <td>4000</td>\n",
       "            <td>2214710999</td>\n",
       "        </tr>\n",
       "    </tbody>\n",
       "</table>"
      ],
      "text/plain": [
       "[(2, 'Edward', 'Deborah', '1987-01-12', 'Alaska', 2000, '6990009999'),\n",
       " (3, 'Abdur Rahman', 'Abdullah', '1989-09-23', 'Arizona', 3000, '4066969999'),\n",
       " (4, 'Ronald', 'Stephanie', '2000-11-12', 'Arkansas', 4000, '2214710999')]"
      ]
     },
     "execution_count": 28,
     "metadata": {},
     "output_type": "execute_result"
    }
   ],
   "source": [
    "%%sql \n",
    "\n",
    "SELECT * \n",
    "from employeed\n",
    "WHERE mobile LIKE'%99';"
   ]
  }
 ],
 "metadata": {
  "kernelspec": {
   "display_name": "Python 3",
   "language": "python",
   "name": "python3"
  },
  "language_info": {
   "codemirror_mode": {
    "name": "ipython",
    "version": 3
   },
   "file_extension": ".py",
   "mimetype": "text/x-python",
   "name": "python",
   "nbconvert_exporter": "python",
   "pygments_lexer": "ipython3",
   "version": "3.8.3"
  }
 },
 "nbformat": 4,
 "nbformat_minor": 4
}
