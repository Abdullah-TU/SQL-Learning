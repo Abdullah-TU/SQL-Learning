{
 "cells": [
  {
   "cell_type": "code",
   "execution_count": 1,
   "metadata": {},
   "outputs": [
    {
     "data": {
      "text/plain": [
       "'Connected: @None'"
      ]
     },
     "execution_count": 1,
     "metadata": {},
     "output_type": "execute_result"
    }
   ],
   "source": [
    "%load_ext sql\n",
    "%sql sqlite://"
   ]
  },
  {
   "cell_type": "code",
   "execution_count": 2,
   "metadata": {},
   "outputs": [
    {
     "name": "stdout",
     "output_type": "stream",
     "text": [
      " * sqlite://\n",
      "Done.\n",
      "1 rows affected.\n",
      "1 rows affected.\n",
      "1 rows affected.\n",
      "1 rows affected.\n",
      "1 rows affected.\n",
      "Done.\n"
     ]
    },
    {
     "data": {
      "text/html": [
       "<table>\n",
       "    <thead>\n",
       "        <tr>\n",
       "            <th>enum</th>\n",
       "            <th>firstname</th>\n",
       "            <th>lastname</th>\n",
       "            <th>bdate</th>\n",
       "            <th>locality</th>\n",
       "            <th>salary</th>\n",
       "            <th>phone</th>\n",
       "            <th>deptnum</th>\n",
       "            <th>super_enum</th>\n",
       "        </tr>\n",
       "    </thead>\n",
       "    <tbody>\n",
       "        <tr>\n",
       "            <td>88</td>\n",
       "            <td>Jukka</td>\n",
       "            <td>Susi</td>\n",
       "            <td>1987-01-12</td>\n",
       "            <td>Tampere</td>\n",
       "            <td>5500</td>\n",
       "            <td>044585663</td>\n",
       "            <td>1</td>\n",
       "            <td>89</td>\n",
       "        </tr>\n",
       "        <tr>\n",
       "            <td>33</td>\n",
       "            <td>Ville</td>\n",
       "            <td>Viima</td>\n",
       "            <td>1990-03-01</td>\n",
       "            <td>Nokia</td>\n",
       "            <td>4000.5</td>\n",
       "            <td>044585664</td>\n",
       "            <td>5</td>\n",
       "            <td>88</td>\n",
       "        </tr>\n",
       "        <tr>\n",
       "            <td>12</td>\n",
       "            <td>Pekka</td>\n",
       "            <td>Puro</td>\n",
       "            <td>1993-01-18</td>\n",
       "            <td>Tampere</td>\n",
       "            <td>3000</td>\n",
       "            <td>044585665</td>\n",
       "            <td>5</td>\n",
       "            <td>33</td>\n",
       "        </tr>\n",
       "        <tr>\n",
       "            <td>98</td>\n",
       "            <td>Jenni</td>\n",
       "            <td>Joki</td>\n",
       "            <td>2000-04-21</td>\n",
       "            <td>Lempäälä</td>\n",
       "            <td>4300</td>\n",
       "            <td>044585666</td>\n",
       "            <td>4</td>\n",
       "            <td>88</td>\n",
       "        </tr>\n",
       "        <tr>\n",
       "            <td>99</td>\n",
       "            <td>Alli</td>\n",
       "            <td>Kivi</td>\n",
       "            <td>1987-01-12</td>\n",
       "            <td>Nokia</td>\n",
       "            <td>2500</td>\n",
       "            <td>044585667</td>\n",
       "            <td>4</td>\n",
       "            <td>98</td>\n",
       "        </tr>\n",
       "    </tbody>\n",
       "</table>"
      ],
      "text/plain": [
       "[(88, 'Jukka', 'Susi', '1987-01-12', 'Tampere', 5500, '044585663', 1, 89),\n",
       " (33, 'Ville', 'Viima', '1990-03-01', 'Nokia', 4000.5, '044585664', 5, 88),\n",
       " (12, 'Pekka', 'Puro', '1993-01-18', 'Tampere', 3000, '044585665', 5, 33),\n",
       " (98, 'Jenni', 'Joki', '2000-04-21', 'Lempäälä', 4300, '044585666', 4, 88),\n",
       " (99, 'Alli', 'Kivi', '1987-01-12', 'Nokia', 2500, '044585667', 4, 98)]"
      ]
     },
     "execution_count": 2,
     "metadata": {},
     "output_type": "execute_result"
    }
   ],
   "source": [
    "%%sql \n",
    "\n",
    "CREATE TABLE employee(enum INT,\n",
    "                      firstname varchar(50) NOT NULL,\n",
    "                      lastname varchar(50) NOT NULL,\n",
    "                      bdate DATE NOT NULL,\n",
    "                      locality varchar(50) NOT NULL,\n",
    "                      salary NUMERIC(8,2),                      \n",
    "                      phone VARCHAR(50) NOT NULL,\n",
    "                      deptnum INT NOT NULL,\n",
    "                      super_enum INT,\n",
    "                      PRIMARY KEY(enum),\n",
    "                      FOREIGN KEY(deptnum) REFERENCES department(dnum),\n",
    "                      FOREIGN KEY(super_enum ) REFERENCES employee(enum));\n",
    "\n",
    "INSERT INTO employee VALUES(88,'Jukka','Susi','1987-01-12','Tampere',5500.00, '044585663', 1, 89);\n",
    "INSERT INTO employee VALUES(33,'Ville','Viima','1990-03-01','Nokia',4000.50, '044585664',5,88);\n",
    "INSERT INTO employee VALUES(12,'Pekka','Puro','1993-01-18','Tampere',3000.00, '044585665',5,33);\n",
    "INSERT INTO employee VALUES(98,'Jenni','Joki','2000-04-21','Lempäälä',4300.00, '044585666',4,88);\n",
    "INSERT INTO employee VALUES(99,'Alli','Kivi','1987-01-12','Nokia',2500.00, '044585667',4,98);\n",
    "\n",
    "SELECT * from employee;\n"
   ]
  },
  {
   "cell_type": "code",
   "execution_count": 3,
   "metadata": {},
   "outputs": [
    {
     "name": "stdout",
     "output_type": "stream",
     "text": [
      " * sqlite://\n",
      "Done.\n",
      "1 rows affected.\n",
      "1 rows affected.\n",
      "1 rows affected.\n",
      "Done.\n"
     ]
    },
    {
     "data": {
      "text/html": [
       "<table>\n",
       "    <thead>\n",
       "        <tr>\n",
       "            <th>dnum</th>\n",
       "            <th>dname</th>\n",
       "        </tr>\n",
       "    </thead>\n",
       "    <tbody>\n",
       "        <tr>\n",
       "            <td>1</td>\n",
       "            <td>Headquarters</td>\n",
       "        </tr>\n",
       "        <tr>\n",
       "            <td>4</td>\n",
       "            <td>Administration</td>\n",
       "        </tr>\n",
       "        <tr>\n",
       "            <td>5</td>\n",
       "            <td>Research</td>\n",
       "        </tr>\n",
       "    </tbody>\n",
       "</table>"
      ],
      "text/plain": [
       "[(1, 'Headquarters'), (4, 'Administration'), (5, 'Research')]"
      ]
     },
     "execution_count": 3,
     "metadata": {},
     "output_type": "execute_result"
    }
   ],
   "source": [
    "%%sql \n",
    "\n",
    "CREATE TABLE department(dnum INT,\n",
    "                        dname varchar(15) NOT NULL,               \n",
    "                        PRIMARY KEY(dnum),\n",
    "                        UNIQUE(dname));\n",
    "\n",
    "INSERT INTO department VALUES(1,'Headquarters');\n",
    "INSERT INTO department VALUES(4,'Administration');\n",
    "INSERT INTO department VALUES(5,'Research');\n",
    "\n",
    "SELECT * from department;"
   ]
  },
  {
   "cell_type": "code",
   "execution_count": 4,
   "metadata": {},
   "outputs": [
    {
     "name": "stdout",
     "output_type": "stream",
     "text": [
      " * sqlite://\n",
      "Done.\n",
      "1 rows affected.\n",
      "1 rows affected.\n",
      "1 rows affected.\n",
      "Done.\n"
     ]
    },
    {
     "data": {
      "text/html": [
       "<table>\n",
       "    <thead>\n",
       "        <tr>\n",
       "            <th>pnum</th>\n",
       "            <th>pname</th>\n",
       "        </tr>\n",
       "    </thead>\n",
       "    <tbody>\n",
       "        <tr>\n",
       "            <td>1</td>\n",
       "            <td>Product X</td>\n",
       "        </tr>\n",
       "        <tr>\n",
       "            <td>2</td>\n",
       "            <td>Product Y</td>\n",
       "        </tr>\n",
       "        <tr>\n",
       "            <td>3</td>\n",
       "            <td>Product Z</td>\n",
       "        </tr>\n",
       "    </tbody>\n",
       "</table>"
      ],
      "text/plain": [
       "[(1, 'Product X'), (2, 'Product Y'), (3, 'Product Z')]"
      ]
     },
     "execution_count": 4,
     "metadata": {},
     "output_type": "execute_result"
    }
   ],
   "source": [
    "%%sql \n",
    "\n",
    "CREATE TABLE project(pnum INT,  \n",
    "                     pname varchar(15) NOT NULL,                    \n",
    "                     PRIMARY KEY(pnum),\n",
    "                     UNIQUE(pname));\n",
    "\n",
    "INSERT INTO project VALUES(1,'Product X');\n",
    "INSERT INTO project VALUES(2,'Product Y');\n",
    "INSERT INTO project VALUES(3,'Product Z');\n",
    "\n",
    "SELECT * from project;"
   ]
  },
  {
   "cell_type": "code",
   "execution_count": 5,
   "metadata": {},
   "outputs": [
    {
     "name": "stdout",
     "output_type": "stream",
     "text": [
      " * sqlite://\n",
      "Done.\n",
      "1 rows affected.\n",
      "1 rows affected.\n",
      "1 rows affected.\n",
      "1 rows affected.\n",
      "1 rows affected.\n",
      "1 rows affected.\n",
      "1 rows affected.\n",
      "Done.\n"
     ]
    },
    {
     "data": {
      "text/html": [
       "<table>\n",
       "    <thead>\n",
       "        <tr>\n",
       "            <th>enum</th>\n",
       "            <th>pnum</th>\n",
       "            <th>hours</th>\n",
       "        </tr>\n",
       "    </thead>\n",
       "    <tbody>\n",
       "        <tr>\n",
       "            <td>12</td>\n",
       "            <td>1</td>\n",
       "            <td>32.5</td>\n",
       "        </tr>\n",
       "        <tr>\n",
       "            <td>12</td>\n",
       "            <td>2</td>\n",
       "            <td>7.5</td>\n",
       "        </tr>\n",
       "        <tr>\n",
       "            <td>33</td>\n",
       "            <td>2</td>\n",
       "            <td>10</td>\n",
       "        </tr>\n",
       "        <tr>\n",
       "            <td>33</td>\n",
       "            <td>3</td>\n",
       "            <td>10</td>\n",
       "        </tr>\n",
       "        <tr>\n",
       "            <td>99</td>\n",
       "            <td>3</td>\n",
       "            <td>30</td>\n",
       "        </tr>\n",
       "        <tr>\n",
       "            <td>99</td>\n",
       "            <td>1</td>\n",
       "            <td>10</td>\n",
       "        </tr>\n",
       "        <tr>\n",
       "            <td>98</td>\n",
       "            <td>2</td>\n",
       "            <td>15</td>\n",
       "        </tr>\n",
       "    </tbody>\n",
       "</table>"
      ],
      "text/plain": [
       "[(12, 1, 32.5),\n",
       " (12, 2, 7.5),\n",
       " (33, 2, 10),\n",
       " (33, 3, 10),\n",
       " (99, 3, 30),\n",
       " (99, 1, 10),\n",
       " (98, 2, 15)]"
      ]
     },
     "execution_count": 5,
     "metadata": {},
     "output_type": "execute_result"
    }
   ],
   "source": [
    "%%sql \n",
    "\n",
    "CREATE TABLE works_on(enum INT,\n",
    "                      pnum INT,  \n",
    "                      hours NUMERIC(5,1),                      \n",
    "                      PRIMARY KEY(enum,pnum),\n",
    "                      FOREIGN KEY(enum) REFERENCES employee(enum),\n",
    "                      FOREIGN KEY(pnum) REFERENCES project(pnum));\n",
    "\n",
    "INSERT INTO works_on VALUES(12,1,32.5);\n",
    "INSERT INTO works_on VALUES(12,2,7.5);\n",
    "INSERT INTO works_on VALUES(33,2,10.0);\n",
    "INSERT INTO works_on VALUES(33,3,10.0);\n",
    "INSERT INTO works_on VALUES(99,3,30.0);\n",
    "INSERT INTO works_on VALUES(99,1,10.0);\n",
    "INSERT INTO works_on VALUES(98,2,15.0);\n",
    "\n",
    "SELECT * from works_on;"
   ]
  },
  {
   "cell_type": "code",
   "execution_count": 6,
   "metadata": {},
   "outputs": [
    {
     "name": "stdout",
     "output_type": "stream",
     "text": [
      " * sqlite://\n",
      "1 rows affected.\n",
      "Done.\n"
     ]
    },
    {
     "data": {
      "text/html": [
       "<table>\n",
       "    <thead>\n",
       "        <tr>\n",
       "            <th>dnum</th>\n",
       "            <th>dname</th>\n",
       "        </tr>\n",
       "    </thead>\n",
       "    <tbody>\n",
       "        <tr>\n",
       "            <td>1</td>\n",
       "            <td>Headquarters</td>\n",
       "        </tr>\n",
       "        <tr>\n",
       "            <td>4</td>\n",
       "            <td>Administration</td>\n",
       "        </tr>\n",
       "        <tr>\n",
       "            <td>5</td>\n",
       "            <td>Research center</td>\n",
       "        </tr>\n",
       "    </tbody>\n",
       "</table>"
      ],
      "text/plain": [
       "[(1, 'Headquarters'), (4, 'Administration'), (5, 'Research center')]"
      ]
     },
     "execution_count": 6,
     "metadata": {},
     "output_type": "execute_result"
    }
   ],
   "source": [
    "%%sql \n",
    "\n",
    "UPDATE department SET dname = 'Research center' WHERE dnum = 5;\n",
    "\n",
    "SELECT * from department;\n"
   ]
  },
  {
   "cell_type": "code",
   "execution_count": 7,
   "metadata": {},
   "outputs": [
    {
     "name": "stdout",
     "output_type": "stream",
     "text": [
      " * sqlite://\n",
      "1 rows affected.\n",
      "Done.\n"
     ]
    },
    {
     "data": {
      "text/html": [
       "<table>\n",
       "    <thead>\n",
       "        <tr>\n",
       "            <th>enum</th>\n",
       "            <th>firstname</th>\n",
       "            <th>lastname</th>\n",
       "            <th>bdate</th>\n",
       "            <th>locality</th>\n",
       "            <th>salary</th>\n",
       "            <th>phone</th>\n",
       "            <th>deptnum</th>\n",
       "            <th>super_enum</th>\n",
       "        </tr>\n",
       "    </thead>\n",
       "    <tbody>\n",
       "        <tr>\n",
       "            <td>88</td>\n",
       "            <td>Jukka</td>\n",
       "            <td>Susi</td>\n",
       "            <td>1987-01-12</td>\n",
       "            <td>Tampere</td>\n",
       "            <td>5500</td>\n",
       "            <td>044585663</td>\n",
       "            <td>1</td>\n",
       "            <td>89</td>\n",
       "        </tr>\n",
       "        <tr>\n",
       "            <td>33</td>\n",
       "            <td>Ville</td>\n",
       "            <td>Viima</td>\n",
       "            <td>1990-03-01</td>\n",
       "            <td>Nokia</td>\n",
       "            <td>4000.5</td>\n",
       "            <td>044585664</td>\n",
       "            <td>5</td>\n",
       "            <td>88</td>\n",
       "        </tr>\n",
       "        <tr>\n",
       "            <td>12</td>\n",
       "            <td>Pekka</td>\n",
       "            <td>Puro</td>\n",
       "            <td>1993-01-18</td>\n",
       "            <td>Tampere</td>\n",
       "            <td>3000</td>\n",
       "            <td>044585665</td>\n",
       "            <td>5</td>\n",
       "            <td>33</td>\n",
       "        </tr>\n",
       "        <tr>\n",
       "            <td>98</td>\n",
       "            <td>Jenni</td>\n",
       "            <td>Joki</td>\n",
       "            <td>2000-04-21</td>\n",
       "            <td>Lempäälä</td>\n",
       "            <td>4300</td>\n",
       "            <td>044585666</td>\n",
       "            <td>4</td>\n",
       "            <td>88</td>\n",
       "        </tr>\n",
       "        <tr>\n",
       "            <td>99</td>\n",
       "            <td>Alli</td>\n",
       "            <td>Kivi</td>\n",
       "            <td>1987-01-12</td>\n",
       "            <td>Nokia</td>\n",
       "            <td>2500</td>\n",
       "            <td>044585667</td>\n",
       "            <td>5</td>\n",
       "            <td>33</td>\n",
       "        </tr>\n",
       "    </tbody>\n",
       "</table>"
      ],
      "text/plain": [
       "[(88, 'Jukka', 'Susi', '1987-01-12', 'Tampere', 5500, '044585663', 1, 89),\n",
       " (33, 'Ville', 'Viima', '1990-03-01', 'Nokia', 4000.5, '044585664', 5, 88),\n",
       " (12, 'Pekka', 'Puro', '1993-01-18', 'Tampere', 3000, '044585665', 5, 33),\n",
       " (98, 'Jenni', 'Joki', '2000-04-21', 'Lempäälä', 4300, '044585666', 4, 88),\n",
       " (99, 'Alli', 'Kivi', '1987-01-12', 'Nokia', 2500, '044585667', 5, 33)]"
      ]
     },
     "execution_count": 7,
     "metadata": {},
     "output_type": "execute_result"
    }
   ],
   "source": [
    "%%sql \n",
    "\n",
    "UPDATE employee SET deptnum =5, super_enum = 33 WHERE enum = 99;\n",
    "SELECT * from employee;"
   ]
  },
  {
   "cell_type": "code",
   "execution_count": 8,
   "metadata": {},
   "outputs": [
    {
     "name": "stdout",
     "output_type": "stream",
     "text": [
      " * sqlite://\n",
      "1 rows affected.\n",
      "Done.\n"
     ]
    },
    {
     "data": {
      "text/html": [
       "<table>\n",
       "    <thead>\n",
       "        <tr>\n",
       "            <th>enum</th>\n",
       "            <th>firstname</th>\n",
       "            <th>lastname</th>\n",
       "            <th>bdate</th>\n",
       "            <th>locality</th>\n",
       "            <th>salary</th>\n",
       "            <th>phone</th>\n",
       "            <th>deptnum</th>\n",
       "            <th>super_enum</th>\n",
       "        </tr>\n",
       "    </thead>\n",
       "    <tbody>\n",
       "        <tr>\n",
       "            <td>88</td>\n",
       "            <td>Jukka</td>\n",
       "            <td>Susi</td>\n",
       "            <td>1987-01-12</td>\n",
       "            <td>Tampere</td>\n",
       "            <td>5500</td>\n",
       "            <td>044585663</td>\n",
       "            <td>1</td>\n",
       "            <td>None</td>\n",
       "        </tr>\n",
       "        <tr>\n",
       "            <td>33</td>\n",
       "            <td>Ville</td>\n",
       "            <td>Viima</td>\n",
       "            <td>1990-03-01</td>\n",
       "            <td>Nokia</td>\n",
       "            <td>4000.5</td>\n",
       "            <td>044585664</td>\n",
       "            <td>5</td>\n",
       "            <td>88</td>\n",
       "        </tr>\n",
       "        <tr>\n",
       "            <td>12</td>\n",
       "            <td>Pekka</td>\n",
       "            <td>Puro</td>\n",
       "            <td>1993-01-18</td>\n",
       "            <td>Tampere</td>\n",
       "            <td>3000</td>\n",
       "            <td>044585665</td>\n",
       "            <td>5</td>\n",
       "            <td>33</td>\n",
       "        </tr>\n",
       "        <tr>\n",
       "            <td>98</td>\n",
       "            <td>Jenni</td>\n",
       "            <td>Joki</td>\n",
       "            <td>2000-04-21</td>\n",
       "            <td>Lempäälä</td>\n",
       "            <td>4300</td>\n",
       "            <td>044585666</td>\n",
       "            <td>4</td>\n",
       "            <td>88</td>\n",
       "        </tr>\n",
       "        <tr>\n",
       "            <td>99</td>\n",
       "            <td>Alli</td>\n",
       "            <td>Kivi</td>\n",
       "            <td>1987-01-12</td>\n",
       "            <td>Nokia</td>\n",
       "            <td>2500</td>\n",
       "            <td>044585667</td>\n",
       "            <td>5</td>\n",
       "            <td>33</td>\n",
       "        </tr>\n",
       "    </tbody>\n",
       "</table>"
      ],
      "text/plain": [
       "[(88, 'Jukka', 'Susi', '1987-01-12', 'Tampere', 5500, '044585663', 1, None),\n",
       " (33, 'Ville', 'Viima', '1990-03-01', 'Nokia', 4000.5, '044585664', 5, 88),\n",
       " (12, 'Pekka', 'Puro', '1993-01-18', 'Tampere', 3000, '044585665', 5, 33),\n",
       " (98, 'Jenni', 'Joki', '2000-04-21', 'Lempäälä', 4300, '044585666', 4, 88),\n",
       " (99, 'Alli', 'Kivi', '1987-01-12', 'Nokia', 2500, '044585667', 5, 33)]"
      ]
     },
     "execution_count": 8,
     "metadata": {},
     "output_type": "execute_result"
    }
   ],
   "source": [
    "%%sql \n",
    "\n",
    "UPDATE employee SET super_enum = NULL WHERE enum = 88;\n",
    "SELECT * from employee;"
   ]
  },
  {
   "cell_type": "code",
   "execution_count": 9,
   "metadata": {},
   "outputs": [
    {
     "name": "stdout",
     "output_type": "stream",
     "text": [
      " * sqlite://\n",
      "Done.\n"
     ]
    },
    {
     "data": {
      "text/html": [
       "<table>\n",
       "    <thead>\n",
       "        <tr>\n",
       "            <th>enum</th>\n",
       "            <th>firstname</th>\n",
       "            <th>lastname</th>\n",
       "            <th>bdate</th>\n",
       "            <th>locality</th>\n",
       "            <th>salary</th>\n",
       "            <th>phone</th>\n",
       "            <th>deptnum</th>\n",
       "            <th>super_enum</th>\n",
       "            <th>dnum</th>\n",
       "            <th>dname</th>\n",
       "        </tr>\n",
       "    </thead>\n",
       "    <tbody>\n",
       "        <tr>\n",
       "            <td>88</td>\n",
       "            <td>Jukka</td>\n",
       "            <td>Susi</td>\n",
       "            <td>1987-01-12</td>\n",
       "            <td>Tampere</td>\n",
       "            <td>5500</td>\n",
       "            <td>044585663</td>\n",
       "            <td>1</td>\n",
       "            <td>None</td>\n",
       "            <td>1</td>\n",
       "            <td>Headquarters</td>\n",
       "        </tr>\n",
       "        <tr>\n",
       "            <td>88</td>\n",
       "            <td>Jukka</td>\n",
       "            <td>Susi</td>\n",
       "            <td>1987-01-12</td>\n",
       "            <td>Tampere</td>\n",
       "            <td>5500</td>\n",
       "            <td>044585663</td>\n",
       "            <td>1</td>\n",
       "            <td>None</td>\n",
       "            <td>4</td>\n",
       "            <td>Administration</td>\n",
       "        </tr>\n",
       "        <tr>\n",
       "            <td>88</td>\n",
       "            <td>Jukka</td>\n",
       "            <td>Susi</td>\n",
       "            <td>1987-01-12</td>\n",
       "            <td>Tampere</td>\n",
       "            <td>5500</td>\n",
       "            <td>044585663</td>\n",
       "            <td>1</td>\n",
       "            <td>None</td>\n",
       "            <td>5</td>\n",
       "            <td>Research center</td>\n",
       "        </tr>\n",
       "        <tr>\n",
       "            <td>33</td>\n",
       "            <td>Ville</td>\n",
       "            <td>Viima</td>\n",
       "            <td>1990-03-01</td>\n",
       "            <td>Nokia</td>\n",
       "            <td>4000.5</td>\n",
       "            <td>044585664</td>\n",
       "            <td>5</td>\n",
       "            <td>88</td>\n",
       "            <td>1</td>\n",
       "            <td>Headquarters</td>\n",
       "        </tr>\n",
       "        <tr>\n",
       "            <td>33</td>\n",
       "            <td>Ville</td>\n",
       "            <td>Viima</td>\n",
       "            <td>1990-03-01</td>\n",
       "            <td>Nokia</td>\n",
       "            <td>4000.5</td>\n",
       "            <td>044585664</td>\n",
       "            <td>5</td>\n",
       "            <td>88</td>\n",
       "            <td>4</td>\n",
       "            <td>Administration</td>\n",
       "        </tr>\n",
       "        <tr>\n",
       "            <td>33</td>\n",
       "            <td>Ville</td>\n",
       "            <td>Viima</td>\n",
       "            <td>1990-03-01</td>\n",
       "            <td>Nokia</td>\n",
       "            <td>4000.5</td>\n",
       "            <td>044585664</td>\n",
       "            <td>5</td>\n",
       "            <td>88</td>\n",
       "            <td>5</td>\n",
       "            <td>Research center</td>\n",
       "        </tr>\n",
       "        <tr>\n",
       "            <td>12</td>\n",
       "            <td>Pekka</td>\n",
       "            <td>Puro</td>\n",
       "            <td>1993-01-18</td>\n",
       "            <td>Tampere</td>\n",
       "            <td>3000</td>\n",
       "            <td>044585665</td>\n",
       "            <td>5</td>\n",
       "            <td>33</td>\n",
       "            <td>1</td>\n",
       "            <td>Headquarters</td>\n",
       "        </tr>\n",
       "        <tr>\n",
       "            <td>12</td>\n",
       "            <td>Pekka</td>\n",
       "            <td>Puro</td>\n",
       "            <td>1993-01-18</td>\n",
       "            <td>Tampere</td>\n",
       "            <td>3000</td>\n",
       "            <td>044585665</td>\n",
       "            <td>5</td>\n",
       "            <td>33</td>\n",
       "            <td>4</td>\n",
       "            <td>Administration</td>\n",
       "        </tr>\n",
       "        <tr>\n",
       "            <td>12</td>\n",
       "            <td>Pekka</td>\n",
       "            <td>Puro</td>\n",
       "            <td>1993-01-18</td>\n",
       "            <td>Tampere</td>\n",
       "            <td>3000</td>\n",
       "            <td>044585665</td>\n",
       "            <td>5</td>\n",
       "            <td>33</td>\n",
       "            <td>5</td>\n",
       "            <td>Research center</td>\n",
       "        </tr>\n",
       "        <tr>\n",
       "            <td>98</td>\n",
       "            <td>Jenni</td>\n",
       "            <td>Joki</td>\n",
       "            <td>2000-04-21</td>\n",
       "            <td>Lempäälä</td>\n",
       "            <td>4300</td>\n",
       "            <td>044585666</td>\n",
       "            <td>4</td>\n",
       "            <td>88</td>\n",
       "            <td>1</td>\n",
       "            <td>Headquarters</td>\n",
       "        </tr>\n",
       "        <tr>\n",
       "            <td>98</td>\n",
       "            <td>Jenni</td>\n",
       "            <td>Joki</td>\n",
       "            <td>2000-04-21</td>\n",
       "            <td>Lempäälä</td>\n",
       "            <td>4300</td>\n",
       "            <td>044585666</td>\n",
       "            <td>4</td>\n",
       "            <td>88</td>\n",
       "            <td>4</td>\n",
       "            <td>Administration</td>\n",
       "        </tr>\n",
       "        <tr>\n",
       "            <td>98</td>\n",
       "            <td>Jenni</td>\n",
       "            <td>Joki</td>\n",
       "            <td>2000-04-21</td>\n",
       "            <td>Lempäälä</td>\n",
       "            <td>4300</td>\n",
       "            <td>044585666</td>\n",
       "            <td>4</td>\n",
       "            <td>88</td>\n",
       "            <td>5</td>\n",
       "            <td>Research center</td>\n",
       "        </tr>\n",
       "        <tr>\n",
       "            <td>99</td>\n",
       "            <td>Alli</td>\n",
       "            <td>Kivi</td>\n",
       "            <td>1987-01-12</td>\n",
       "            <td>Nokia</td>\n",
       "            <td>2500</td>\n",
       "            <td>044585667</td>\n",
       "            <td>5</td>\n",
       "            <td>33</td>\n",
       "            <td>1</td>\n",
       "            <td>Headquarters</td>\n",
       "        </tr>\n",
       "        <tr>\n",
       "            <td>99</td>\n",
       "            <td>Alli</td>\n",
       "            <td>Kivi</td>\n",
       "            <td>1987-01-12</td>\n",
       "            <td>Nokia</td>\n",
       "            <td>2500</td>\n",
       "            <td>044585667</td>\n",
       "            <td>5</td>\n",
       "            <td>33</td>\n",
       "            <td>4</td>\n",
       "            <td>Administration</td>\n",
       "        </tr>\n",
       "        <tr>\n",
       "            <td>99</td>\n",
       "            <td>Alli</td>\n",
       "            <td>Kivi</td>\n",
       "            <td>1987-01-12</td>\n",
       "            <td>Nokia</td>\n",
       "            <td>2500</td>\n",
       "            <td>044585667</td>\n",
       "            <td>5</td>\n",
       "            <td>33</td>\n",
       "            <td>5</td>\n",
       "            <td>Research center</td>\n",
       "        </tr>\n",
       "    </tbody>\n",
       "</table>"
      ],
      "text/plain": [
       "[(88, 'Jukka', 'Susi', '1987-01-12', 'Tampere', 5500, '044585663', 1, None, 1, 'Headquarters'),\n",
       " (88, 'Jukka', 'Susi', '1987-01-12', 'Tampere', 5500, '044585663', 1, None, 4, 'Administration'),\n",
       " (88, 'Jukka', 'Susi', '1987-01-12', 'Tampere', 5500, '044585663', 1, None, 5, 'Research center'),\n",
       " (33, 'Ville', 'Viima', '1990-03-01', 'Nokia', 4000.5, '044585664', 5, 88, 1, 'Headquarters'),\n",
       " (33, 'Ville', 'Viima', '1990-03-01', 'Nokia', 4000.5, '044585664', 5, 88, 4, 'Administration'),\n",
       " (33, 'Ville', 'Viima', '1990-03-01', 'Nokia', 4000.5, '044585664', 5, 88, 5, 'Research center'),\n",
       " (12, 'Pekka', 'Puro', '1993-01-18', 'Tampere', 3000, '044585665', 5, 33, 1, 'Headquarters'),\n",
       " (12, 'Pekka', 'Puro', '1993-01-18', 'Tampere', 3000, '044585665', 5, 33, 4, 'Administration'),\n",
       " (12, 'Pekka', 'Puro', '1993-01-18', 'Tampere', 3000, '044585665', 5, 33, 5, 'Research center'),\n",
       " (98, 'Jenni', 'Joki', '2000-04-21', 'Lempäälä', 4300, '044585666', 4, 88, 1, 'Headquarters'),\n",
       " (98, 'Jenni', 'Joki', '2000-04-21', 'Lempäälä', 4300, '044585666', 4, 88, 4, 'Administration'),\n",
       " (98, 'Jenni', 'Joki', '2000-04-21', 'Lempäälä', 4300, '044585666', 4, 88, 5, 'Research center'),\n",
       " (99, 'Alli', 'Kivi', '1987-01-12', 'Nokia', 2500, '044585667', 5, 33, 1, 'Headquarters'),\n",
       " (99, 'Alli', 'Kivi', '1987-01-12', 'Nokia', 2500, '044585667', 5, 33, 4, 'Administration'),\n",
       " (99, 'Alli', 'Kivi', '1987-01-12', 'Nokia', 2500, '044585667', 5, 33, 5, 'Research center')]"
      ]
     },
     "execution_count": 9,
     "metadata": {},
     "output_type": "execute_result"
    }
   ],
   "source": [
    "%%sql \n",
    "\n",
    "SELECT * from employee , department;"
   ]
  },
  {
   "cell_type": "code",
   "execution_count": 10,
   "metadata": {},
   "outputs": [
    {
     "name": "stdout",
     "output_type": "stream",
     "text": [
      " * sqlite://\n",
      "Done.\n"
     ]
    },
    {
     "data": {
      "text/html": [
       "<table>\n",
       "    <thead>\n",
       "        <tr>\n",
       "            <th>lastname</th>\n",
       "            <th>firstname</th>\n",
       "            <th>dname</th>\n",
       "        </tr>\n",
       "    </thead>\n",
       "    <tbody>\n",
       "        <tr>\n",
       "            <td>Susi</td>\n",
       "            <td>Jukka</td>\n",
       "            <td>Headquarters</td>\n",
       "        </tr>\n",
       "        <tr>\n",
       "            <td>Viima</td>\n",
       "            <td>Ville</td>\n",
       "            <td>Research center</td>\n",
       "        </tr>\n",
       "        <tr>\n",
       "            <td>Puro</td>\n",
       "            <td>Pekka</td>\n",
       "            <td>Research center</td>\n",
       "        </tr>\n",
       "        <tr>\n",
       "            <td>Joki</td>\n",
       "            <td>Jenni</td>\n",
       "            <td>Administration</td>\n",
       "        </tr>\n",
       "        <tr>\n",
       "            <td>Kivi</td>\n",
       "            <td>Alli</td>\n",
       "            <td>Research center</td>\n",
       "        </tr>\n",
       "    </tbody>\n",
       "</table>"
      ],
      "text/plain": [
       "[('Susi', 'Jukka', 'Headquarters'),\n",
       " ('Viima', 'Ville', 'Research center'),\n",
       " ('Puro', 'Pekka', 'Research center'),\n",
       " ('Joki', 'Jenni', 'Administration'),\n",
       " ('Kivi', 'Alli', 'Research center')]"
      ]
     },
     "execution_count": 10,
     "metadata": {},
     "output_type": "execute_result"
    }
   ],
   "source": [
    "%%sql\n",
    "\n",
    "SELECT lastname, firstname, dname\n",
    "From employee, department\n",
    "WHERE deptnum = dnum;"
   ]
  },
  {
   "cell_type": "code",
   "execution_count": 11,
   "metadata": {},
   "outputs": [
    {
     "name": "stdout",
     "output_type": "stream",
     "text": [
      " * sqlite://\n",
      "Done.\n"
     ]
    },
    {
     "data": {
      "text/html": [
       "<table>\n",
       "    <thead>\n",
       "        <tr>\n",
       "            <th>lastname</th>\n",
       "            <th>firstname</th>\n",
       "            <th>dname</th>\n",
       "        </tr>\n",
       "    </thead>\n",
       "    <tbody>\n",
       "        <tr>\n",
       "            <td>Susi</td>\n",
       "            <td>Jukka</td>\n",
       "            <td>Headquarters</td>\n",
       "        </tr>\n",
       "        <tr>\n",
       "            <td>Viima</td>\n",
       "            <td>Ville</td>\n",
       "            <td>Research center</td>\n",
       "        </tr>\n",
       "        <tr>\n",
       "            <td>Puro</td>\n",
       "            <td>Pekka</td>\n",
       "            <td>Research center</td>\n",
       "        </tr>\n",
       "        <tr>\n",
       "            <td>Joki</td>\n",
       "            <td>Jenni</td>\n",
       "            <td>Administration</td>\n",
       "        </tr>\n",
       "        <tr>\n",
       "            <td>Kivi</td>\n",
       "            <td>Alli</td>\n",
       "            <td>Research center</td>\n",
       "        </tr>\n",
       "    </tbody>\n",
       "</table>"
      ],
      "text/plain": [
       "[('Susi', 'Jukka', 'Headquarters'),\n",
       " ('Viima', 'Ville', 'Research center'),\n",
       " ('Puro', 'Pekka', 'Research center'),\n",
       " ('Joki', 'Jenni', 'Administration'),\n",
       " ('Kivi', 'Alli', 'Research center')]"
      ]
     },
     "execution_count": 11,
     "metadata": {},
     "output_type": "execute_result"
    }
   ],
   "source": [
    "%%sql\n",
    "SELECT employee.lastname, employee.firstname, department.dname\n",
    "FROM employee,department\n",
    "WHERE employee.deptnum = department.dnum;"
   ]
  },
  {
   "cell_type": "code",
   "execution_count": 12,
   "metadata": {},
   "outputs": [
    {
     "name": "stdout",
     "output_type": "stream",
     "text": [
      " * sqlite://\n",
      "Done.\n"
     ]
    },
    {
     "data": {
      "text/html": [
       "<table>\n",
       "    <thead>\n",
       "        <tr>\n",
       "            <th>lastname</th>\n",
       "            <th>firstname</th>\n",
       "            <th>dname</th>\n",
       "        </tr>\n",
       "    </thead>\n",
       "    <tbody>\n",
       "        <tr>\n",
       "            <td>Susi</td>\n",
       "            <td>Jukka</td>\n",
       "            <td>Headquarters</td>\n",
       "        </tr>\n",
       "        <tr>\n",
       "            <td>Viima</td>\n",
       "            <td>Ville</td>\n",
       "            <td>Research center</td>\n",
       "        </tr>\n",
       "        <tr>\n",
       "            <td>Puro</td>\n",
       "            <td>Pekka</td>\n",
       "            <td>Research center</td>\n",
       "        </tr>\n",
       "        <tr>\n",
       "            <td>Joki</td>\n",
       "            <td>Jenni</td>\n",
       "            <td>Administration</td>\n",
       "        </tr>\n",
       "        <tr>\n",
       "            <td>Kivi</td>\n",
       "            <td>Alli</td>\n",
       "            <td>Research center</td>\n",
       "        </tr>\n",
       "    </tbody>\n",
       "</table>"
      ],
      "text/plain": [
       "[('Susi', 'Jukka', 'Headquarters'),\n",
       " ('Viima', 'Ville', 'Research center'),\n",
       " ('Puro', 'Pekka', 'Research center'),\n",
       " ('Joki', 'Jenni', 'Administration'),\n",
       " ('Kivi', 'Alli', 'Research center')]"
      ]
     },
     "execution_count": 12,
     "metadata": {},
     "output_type": "execute_result"
    }
   ],
   "source": [
    "%%sql\n",
    "SELECT e.lastname,e.firstname, d.dname\n",
    "FROM employee AS e,department AS d\n",
    "WHERE e.deptnum = d.dnum;"
   ]
  },
  {
   "cell_type": "code",
   "execution_count": 13,
   "metadata": {},
   "outputs": [
    {
     "name": "stdout",
     "output_type": "stream",
     "text": [
      " * sqlite://\n",
      "Done.\n"
     ]
    },
    {
     "data": {
      "text/html": [
       "<table>\n",
       "    <thead>\n",
       "        <tr>\n",
       "            <th>lastname</th>\n",
       "            <th>firstname</th>\n",
       "            <th>locality</th>\n",
       "        </tr>\n",
       "    </thead>\n",
       "    <tbody>\n",
       "        <tr>\n",
       "            <td>Joki</td>\n",
       "            <td>Jenni</td>\n",
       "            <td>Lempäälä</td>\n",
       "        </tr>\n",
       "    </tbody>\n",
       "</table>"
      ],
      "text/plain": [
       "[('Joki', 'Jenni', 'Lempäälä')]"
      ]
     },
     "execution_count": 13,
     "metadata": {},
     "output_type": "execute_result"
    }
   ],
   "source": [
    "%%sql\n",
    "SELECT lastname,firstname, locality\n",
    "FROM employee ,department\n",
    "WHERE deptnum = dnum AND\n",
    "dname ='Administration';"
   ]
  },
  {
   "cell_type": "code",
   "execution_count": 14,
   "metadata": {},
   "outputs": [
    {
     "name": "stdout",
     "output_type": "stream",
     "text": [
      " * sqlite://\n",
      "Done.\n"
     ]
    },
    {
     "data": {
      "text/html": [
       "<table>\n",
       "    <thead>\n",
       "        <tr>\n",
       "            <th>lastname</th>\n",
       "            <th>locality</th>\n",
       "            <th>salary</th>\n",
       "        </tr>\n",
       "    </thead>\n",
       "    <tbody>\n",
       "        <tr>\n",
       "            <td>Susi</td>\n",
       "            <td>Tampere</td>\n",
       "            <td>5500</td>\n",
       "        </tr>\n",
       "    </tbody>\n",
       "</table>"
      ],
      "text/plain": [
       "[('Susi', 'Tampere', 5500)]"
      ]
     },
     "execution_count": 14,
     "metadata": {},
     "output_type": "execute_result"
    }
   ],
   "source": [
    "%%sql\n",
    "SELECT lastname,locality, salary \n",
    "FROM employee\n",
    "WHERE locality = 'Tampere' AND salary > 3000;"
   ]
  },
  {
   "cell_type": "code",
   "execution_count": 15,
   "metadata": {},
   "outputs": [
    {
     "name": "stdout",
     "output_type": "stream",
     "text": [
      " * sqlite://\n",
      "Done.\n"
     ]
    },
    {
     "data": {
      "text/html": [
       "<table>\n",
       "    <thead>\n",
       "        <tr>\n",
       "            <th>lastname</th>\n",
       "            <th>locality</th>\n",
       "            <th>salary</th>\n",
       "        </tr>\n",
       "    </thead>\n",
       "    <tbody>\n",
       "        <tr>\n",
       "            <td>Susi</td>\n",
       "            <td>Tampere</td>\n",
       "            <td>5500</td>\n",
       "        </tr>\n",
       "        <tr>\n",
       "            <td>Viima</td>\n",
       "            <td>Nokia</td>\n",
       "            <td>4000.5</td>\n",
       "        </tr>\n",
       "        <tr>\n",
       "            <td>Puro</td>\n",
       "            <td>Tampere</td>\n",
       "            <td>3000</td>\n",
       "        </tr>\n",
       "        <tr>\n",
       "            <td>Joki</td>\n",
       "            <td>Lempäälä</td>\n",
       "            <td>4300</td>\n",
       "        </tr>\n",
       "    </tbody>\n",
       "</table>"
      ],
      "text/plain": [
       "[('Susi', 'Tampere', 5500),\n",
       " ('Viima', 'Nokia', 4000.5),\n",
       " ('Puro', 'Tampere', 3000),\n",
       " ('Joki', 'Lempäälä', 4300)]"
      ]
     },
     "execution_count": 15,
     "metadata": {},
     "output_type": "execute_result"
    }
   ],
   "source": [
    "%%sql\n",
    "SELECT lastname,locality, salary \n",
    "FROM employee\n",
    "WHERE locality = 'Tampere' OR salary > 3000;"
   ]
  },
  {
   "cell_type": "code",
   "execution_count": 16,
   "metadata": {},
   "outputs": [
    {
     "name": "stdout",
     "output_type": "stream",
     "text": [
      " * sqlite://\n",
      "Done.\n"
     ]
    },
    {
     "data": {
      "text/html": [
       "<table>\n",
       "    <thead>\n",
       "        <tr>\n",
       "            <th>lastname</th>\n",
       "            <th>locality</th>\n",
       "            <th>salary</th>\n",
       "        </tr>\n",
       "    </thead>\n",
       "    <tbody>\n",
       "        <tr>\n",
       "            <td>Viima</td>\n",
       "            <td>Nokia</td>\n",
       "            <td>4000.5</td>\n",
       "        </tr>\n",
       "        <tr>\n",
       "            <td>Joki</td>\n",
       "            <td>Lempäälä</td>\n",
       "            <td>4300</td>\n",
       "        </tr>\n",
       "        <tr>\n",
       "            <td>Kivi</td>\n",
       "            <td>Nokia</td>\n",
       "            <td>2500</td>\n",
       "        </tr>\n",
       "    </tbody>\n",
       "</table>"
      ],
      "text/plain": [
       "[('Viima', 'Nokia', 4000.5),\n",
       " ('Joki', 'Lempäälä', 4300),\n",
       " ('Kivi', 'Nokia', 2500)]"
      ]
     },
     "execution_count": 16,
     "metadata": {},
     "output_type": "execute_result"
    }
   ],
   "source": [
    "%%sql\n",
    "SELECT lastname,locality, salary \n",
    "FROM employee\n",
    "WHERE NOT locality = 'Tampere';"
   ]
  },
  {
   "cell_type": "code",
   "execution_count": 17,
   "metadata": {},
   "outputs": [
    {
     "name": "stdout",
     "output_type": "stream",
     "text": [
      " * sqlite://\n",
      "Done.\n"
     ]
    },
    {
     "data": {
      "text/html": [
       "<table>\n",
       "    <thead>\n",
       "        <tr>\n",
       "            <th>lastname</th>\n",
       "            <th>locality</th>\n",
       "            <th>salary</th>\n",
       "        </tr>\n",
       "    </thead>\n",
       "    <tbody>\n",
       "        <tr>\n",
       "            <td>Viima</td>\n",
       "            <td>Nokia</td>\n",
       "            <td>4000.5</td>\n",
       "        </tr>\n",
       "        <tr>\n",
       "            <td>Kivi</td>\n",
       "            <td>Nokia</td>\n",
       "            <td>2500</td>\n",
       "        </tr>\n",
       "    </tbody>\n",
       "</table>"
      ],
      "text/plain": [
       "[('Viima', 'Nokia', 4000.5), ('Kivi', 'Nokia', 2500)]"
      ]
     },
     "execution_count": 17,
     "metadata": {},
     "output_type": "execute_result"
    }
   ],
   "source": [
    "%%sql\n",
    "SELECT lastname,locality, salary \n",
    "FROM employee\n",
    "WHERE locality = 'Nokia' OR locality = 'Tampere' AND salary < 3000;"
   ]
  },
  {
   "cell_type": "code",
   "execution_count": 18,
   "metadata": {},
   "outputs": [
    {
     "name": "stdout",
     "output_type": "stream",
     "text": [
      " * sqlite://\n",
      "Done.\n"
     ]
    },
    {
     "data": {
      "text/html": [
       "<table>\n",
       "    <thead>\n",
       "        <tr>\n",
       "            <th>lastname</th>\n",
       "            <th>locality</th>\n",
       "            <th>salary</th>\n",
       "        </tr>\n",
       "    </thead>\n",
       "    <tbody>\n",
       "        <tr>\n",
       "            <td>Kivi</td>\n",
       "            <td>Nokia</td>\n",
       "            <td>2500</td>\n",
       "        </tr>\n",
       "    </tbody>\n",
       "</table>"
      ],
      "text/plain": [
       "[('Kivi', 'Nokia', 2500)]"
      ]
     },
     "execution_count": 18,
     "metadata": {},
     "output_type": "execute_result"
    }
   ],
   "source": [
    "%%sql\n",
    "SELECT lastname,locality, salary \n",
    "FROM employee\n",
    "WHERE (locality = 'Nokia' OR locality = 'Tampere') AND salary < 3000;"
   ]
  },
  {
   "cell_type": "code",
   "execution_count": 19,
   "metadata": {},
   "outputs": [
    {
     "name": "stdout",
     "output_type": "stream",
     "text": [
      " * sqlite://\n",
      "Done.\n"
     ]
    },
    {
     "data": {
      "text/html": [
       "<table>\n",
       "    <thead>\n",
       "        <tr>\n",
       "            <th>lastname</th>\n",
       "            <th>locality</th>\n",
       "            <th>salary</th>\n",
       "        </tr>\n",
       "    </thead>\n",
       "    <tbody>\n",
       "        <tr>\n",
       "            <td>Susi</td>\n",
       "            <td>Tampere</td>\n",
       "            <td>5500</td>\n",
       "        </tr>\n",
       "        <tr>\n",
       "            <td>Viima</td>\n",
       "            <td>Nokia</td>\n",
       "            <td>4000.5</td>\n",
       "        </tr>\n",
       "    </tbody>\n",
       "</table>"
      ],
      "text/plain": [
       "[('Susi', 'Tampere', 5500), ('Viima', 'Nokia', 4000.5)]"
      ]
     },
     "execution_count": 19,
     "metadata": {},
     "output_type": "execute_result"
    }
   ],
   "source": [
    "%%sql\n",
    "SELECT lastname,locality, salary \n",
    "FROM employee\n",
    "WHERE (locality = 'Nokia' OR \n",
    "locality = 'Tampere') AND \n",
    "salary > 3000;"
   ]
  },
  {
   "cell_type": "code",
   "execution_count": 20,
   "metadata": {},
   "outputs": [
    {
     "name": "stdout",
     "output_type": "stream",
     "text": [
      " * sqlite://\n",
      "Done.\n"
     ]
    },
    {
     "data": {
      "text/html": [
       "<table>\n",
       "    <thead>\n",
       "        <tr>\n",
       "            <th>lastname</th>\n",
       "            <th>locality</th>\n",
       "            <th>salary</th>\n",
       "        </tr>\n",
       "    </thead>\n",
       "    <tbody>\n",
       "        <tr>\n",
       "            <td>Susi</td>\n",
       "            <td>Tampere</td>\n",
       "            <td>5500</td>\n",
       "        </tr>\n",
       "        <tr>\n",
       "            <td>Viima</td>\n",
       "            <td>Nokia</td>\n",
       "            <td>4000.5</td>\n",
       "        </tr>\n",
       "        <tr>\n",
       "            <td>Kivi</td>\n",
       "            <td>Nokia</td>\n",
       "            <td>2500</td>\n",
       "        </tr>\n",
       "    </tbody>\n",
       "</table>"
      ],
      "text/plain": [
       "[('Susi', 'Tampere', 5500),\n",
       " ('Viima', 'Nokia', 4000.5),\n",
       " ('Kivi', 'Nokia', 2500)]"
      ]
     },
     "execution_count": 20,
     "metadata": {},
     "output_type": "execute_result"
    }
   ],
   "source": [
    "%%sql\n",
    "SELECT lastname,locality, salary \n",
    "FROM employee\n",
    "WHERE locality = 'Nokia' OR locality = 'Tampere' AND salary > 3000;"
   ]
  },
  {
   "cell_type": "code",
   "execution_count": 21,
   "metadata": {},
   "outputs": [
    {
     "name": "stdout",
     "output_type": "stream",
     "text": [
      " * sqlite://\n",
      "Done.\n"
     ]
    },
    {
     "data": {
      "text/html": [
       "<table>\n",
       "    <thead>\n",
       "        <tr>\n",
       "            <th>lastname</th>\n",
       "            <th>locality</th>\n",
       "            <th>salary</th>\n",
       "        </tr>\n",
       "    </thead>\n",
       "    <tbody>\n",
       "        <tr>\n",
       "            <td>Susi</td>\n",
       "            <td>Tampere</td>\n",
       "            <td>5500</td>\n",
       "        </tr>\n",
       "        <tr>\n",
       "            <td>Viima</td>\n",
       "            <td>Nokia</td>\n",
       "            <td>4000.5</td>\n",
       "        </tr>\n",
       "    </tbody>\n",
       "</table>"
      ],
      "text/plain": [
       "[('Susi', 'Tampere', 5500), ('Viima', 'Nokia', 4000.5)]"
      ]
     },
     "execution_count": 21,
     "metadata": {},
     "output_type": "execute_result"
    }
   ],
   "source": [
    "%%sql\n",
    "SELECT lastname,locality, salary \n",
    "FROM employee\n",
    "WHERE (locality = 'Nokia' OR locality = 'Tampere') AND salary > 3000;"
   ]
  },
  {
   "cell_type": "markdown",
   "metadata": {},
   "source": [
    "- 1.Not\n",
    "- 2.AND\n",
    "- 3.OR\n"
   ]
  },
  {
   "cell_type": "code",
   "execution_count": 22,
   "metadata": {},
   "outputs": [
    {
     "name": "stdout",
     "output_type": "stream",
     "text": [
      " * sqlite://\n",
      "Done.\n"
     ]
    },
    {
     "data": {
      "text/html": [
       "<table>\n",
       "    <thead>\n",
       "        <tr>\n",
       "            <th>lastname</th>\n",
       "            <th>locality</th>\n",
       "            <th>salary</th>\n",
       "            <th>bdate</th>\n",
       "        </tr>\n",
       "    </thead>\n",
       "    <tbody>\n",
       "        <tr>\n",
       "            <td>Susi</td>\n",
       "            <td>Tampere</td>\n",
       "            <td>5500</td>\n",
       "            <td>1987-01-12</td>\n",
       "        </tr>\n",
       "        <tr>\n",
       "            <td>Viima</td>\n",
       "            <td>Nokia</td>\n",
       "            <td>4000.5</td>\n",
       "            <td>1990-03-01</td>\n",
       "        </tr>\n",
       "        <tr>\n",
       "            <td>Puro</td>\n",
       "            <td>Tampere</td>\n",
       "            <td>3000</td>\n",
       "            <td>1993-01-18</td>\n",
       "        </tr>\n",
       "        <tr>\n",
       "            <td>Joki</td>\n",
       "            <td>Lempäälä</td>\n",
       "            <td>4300</td>\n",
       "            <td>2000-04-21</td>\n",
       "        </tr>\n",
       "    </tbody>\n",
       "</table>"
      ],
      "text/plain": [
       "[('Susi', 'Tampere', 5500, '1987-01-12'),\n",
       " ('Viima', 'Nokia', 4000.5, '1990-03-01'),\n",
       " ('Puro', 'Tampere', 3000, '1993-01-18'),\n",
       " ('Joki', 'Lempäälä', 4300, '2000-04-21')]"
      ]
     },
     "execution_count": 22,
     "metadata": {},
     "output_type": "execute_result"
    }
   ],
   "source": [
    "%%sql\n",
    "SELECT lastname,locality, salary,bdate \n",
    "FROM employee\n",
    "WHERE locality = 'Tampere' OR \n",
    "salary > 3000 AND \n",
    "NOT bdate < '1960-01-01'; "
   ]
  },
  {
   "cell_type": "code",
   "execution_count": 23,
   "metadata": {},
   "outputs": [
    {
     "name": "stdout",
     "output_type": "stream",
     "text": [
      " * sqlite://\n",
      "Done.\n"
     ]
    },
    {
     "data": {
      "text/html": [
       "<table>\n",
       "    <thead>\n",
       "        <tr>\n",
       "            <th>lastname</th>\n",
       "            <th>locality</th>\n",
       "            <th>salary</th>\n",
       "            <th>bdate</th>\n",
       "        </tr>\n",
       "    </thead>\n",
       "    <tbody>\n",
       "        <tr>\n",
       "            <td>Susi</td>\n",
       "            <td>Tampere</td>\n",
       "            <td>5500</td>\n",
       "            <td>1987-01-12</td>\n",
       "        </tr>\n",
       "        <tr>\n",
       "            <td>Puro</td>\n",
       "            <td>Tampere</td>\n",
       "            <td>3000</td>\n",
       "            <td>1993-01-18</td>\n",
       "        </tr>\n",
       "    </tbody>\n",
       "</table>"
      ],
      "text/plain": [
       "[('Susi', 'Tampere', 5500, '1987-01-12'),\n",
       " ('Puro', 'Tampere', 3000, '1993-01-18')]"
      ]
     },
     "execution_count": 23,
     "metadata": {},
     "output_type": "execute_result"
    }
   ],
   "source": [
    "%%sql\n",
    "SELECT lastname,locality, salary,bdate \n",
    "FROM employee\n",
    "WHERE locality = 'Tampere' OR \n",
    "salary > 3000 AND \n",
    "NOT bdate > '1960-01-01'; "
   ]
  },
  {
   "cell_type": "code",
   "execution_count": 24,
   "metadata": {},
   "outputs": [
    {
     "name": "stdout",
     "output_type": "stream",
     "text": [
      " * sqlite://\n",
      "Done.\n"
     ]
    },
    {
     "data": {
      "text/html": [
       "<table>\n",
       "    <thead>\n",
       "        <tr>\n",
       "            <th>enum</th>\n",
       "            <th>lastname</th>\n",
       "            <th>firstname</th>\n",
       "        </tr>\n",
       "    </thead>\n",
       "    <tbody>\n",
       "        <tr>\n",
       "            <td>98</td>\n",
       "            <td>Joki</td>\n",
       "            <td>Jenni</td>\n",
       "        </tr>\n",
       "    </tbody>\n",
       "</table>"
      ],
      "text/plain": [
       "[(98, 'Joki', 'Jenni')]"
      ]
     },
     "execution_count": 24,
     "metadata": {},
     "output_type": "execute_result"
    }
   ],
   "source": [
    "%%sql\n",
    "SELECT enum , lastname , firstname\n",
    "FROM employee, department\n",
    "WHERE deptnum =dnum AND \n",
    "(dname ='Administration' OR \n",
    "dname ='Research'); "
   ]
  },
  {
   "cell_type": "code",
   "execution_count": 25,
   "metadata": {},
   "outputs": [
    {
     "ename": "SyntaxError",
     "evalue": "invalid syntax (<ipython-input-25-f0d2f53a984c>, line 1)",
     "output_type": "error",
     "traceback": [
      "\u001b[1;36m  File \u001b[1;32m\"<ipython-input-25-f0d2f53a984c>\"\u001b[1;36m, line \u001b[1;32m1\u001b[0m\n\u001b[1;33m    SELECT enum , lastname , firstname\u001b[0m\n\u001b[1;37m           ^\u001b[0m\n\u001b[1;31mSyntaxError\u001b[0m\u001b[1;31m:\u001b[0m invalid syntax\n"
     ]
    }
   ],
   "source": [
    "%%sql\n",
    "SELECT enum , lastname , firstname\n",
    "FROM employee, department\n",
    "WHERE deptnum = dnum AND dname = 'Administration' OR dname= 'Research;"
   ]
  },
  {
   "cell_type": "code",
   "execution_count": 32,
   "metadata": {},
   "outputs": [
    {
     "name": "stdout",
     "output_type": "stream",
     "text": [
      " * sqlite://\n",
      "Done.\n"
     ]
    },
    {
     "data": {
      "text/html": [
       "<table>\n",
       "    <thead>\n",
       "        <tr>\n",
       "            <th>enum</th>\n",
       "            <th>lastname</th>\n",
       "            <th>firstname</th>\n",
       "            <th>deptnum</th>\n",
       "            <th>dnum</th>\n",
       "            <th>dname</th>\n",
       "        </tr>\n",
       "    </thead>\n",
       "    <tbody>\n",
       "        <tr>\n",
       "            <td>88</td>\n",
       "            <td>Susi</td>\n",
       "            <td>Jukka</td>\n",
       "            <td>1</td>\n",
       "            <td>1</td>\n",
       "            <td>Headquarters</td>\n",
       "        </tr>\n",
       "        <tr>\n",
       "            <td>33</td>\n",
       "            <td>Viima</td>\n",
       "            <td>Ville</td>\n",
       "            <td>5</td>\n",
       "            <td>5</td>\n",
       "            <td>Research center</td>\n",
       "        </tr>\n",
       "        <tr>\n",
       "            <td>12</td>\n",
       "            <td>Puro</td>\n",
       "            <td>Pekka</td>\n",
       "            <td>5</td>\n",
       "            <td>5</td>\n",
       "            <td>Research center</td>\n",
       "        </tr>\n",
       "        <tr>\n",
       "            <td>98</td>\n",
       "            <td>Joki</td>\n",
       "            <td>Jenni</td>\n",
       "            <td>4</td>\n",
       "            <td>4</td>\n",
       "            <td>Administration</td>\n",
       "        </tr>\n",
       "        <tr>\n",
       "            <td>99</td>\n",
       "            <td>Kivi</td>\n",
       "            <td>Alli</td>\n",
       "            <td>5</td>\n",
       "            <td>5</td>\n",
       "            <td>Research center</td>\n",
       "        </tr>\n",
       "    </tbody>\n",
       "</table>"
      ],
      "text/plain": [
       "[(88, 'Susi', 'Jukka', 1, 1, 'Headquarters'),\n",
       " (33, 'Viima', 'Ville', 5, 5, 'Research center'),\n",
       " (12, 'Puro', 'Pekka', 5, 5, 'Research center'),\n",
       " (98, 'Joki', 'Jenni', 4, 4, 'Administration'),\n",
       " (99, 'Kivi', 'Alli', 5, 5, 'Research center')]"
      ]
     },
     "execution_count": 32,
     "metadata": {},
     "output_type": "execute_result"
    }
   ],
   "source": [
    "%%sql\n",
    "\n",
    "SELECT enum , lastname , firstname, deptnum,dnum, dname\n",
    "FROM employee INNER JOIN department ON deptnum = dnum;"
   ]
  },
  {
   "cell_type": "code",
   "execution_count": 33,
   "metadata": {},
   "outputs": [
    {
     "name": "stdout",
     "output_type": "stream",
     "text": [
      " * sqlite://\n",
      "Done.\n"
     ]
    },
    {
     "data": {
      "text/html": [
       "<table>\n",
       "    <thead>\n",
       "        <tr>\n",
       "            <th>enum</th>\n",
       "            <th>lastname</th>\n",
       "            <th>firstname</th>\n",
       "        </tr>\n",
       "    </thead>\n",
       "    <tbody>\n",
       "        <tr>\n",
       "            <td>98</td>\n",
       "            <td>Joki</td>\n",
       "            <td>Jenni</td>\n",
       "        </tr>\n",
       "    </tbody>\n",
       "</table>"
      ],
      "text/plain": [
       "[(98, 'Joki', 'Jenni')]"
      ]
     },
     "execution_count": 33,
     "metadata": {},
     "output_type": "execute_result"
    }
   ],
   "source": [
    "%%sql\n",
    "\n",
    "SELECT enum , lastname , firstname\n",
    "FROM employee INNER JOIN department ON deptnum = dnum\n",
    "WHERE dname = 'Administration' OR \n",
    "dname= 'Research';"
   ]
  },
  {
   "cell_type": "code",
   "execution_count": null,
   "metadata": {},
   "outputs": [],
   "source": []
  }
 ],
 "metadata": {
  "kernelspec": {
   "display_name": "Python 3",
   "language": "python",
   "name": "python3"
  },
  "language_info": {
   "codemirror_mode": {
    "name": "ipython",
    "version": 3
   },
   "file_extension": ".py",
   "mimetype": "text/x-python",
   "name": "python",
   "nbconvert_exporter": "python",
   "pygments_lexer": "ipython3",
   "version": "3.8.3"
  }
 },
 "nbformat": 4,
 "nbformat_minor": 4
}
