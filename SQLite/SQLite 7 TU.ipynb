{
 "cells": [
  {
   "cell_type": "code",
   "execution_count": 1,
   "metadata": {},
   "outputs": [
    {
     "data": {
      "text/plain": [
       "'Connected: @None'"
      ]
     },
     "execution_count": 1,
     "metadata": {},
     "output_type": "execute_result"
    }
   ],
   "source": [
    "%load_ext sql\n",
    "%sql sqlite://"
   ]
  },
  {
   "cell_type": "code",
   "execution_count": 2,
   "metadata": {},
   "outputs": [
    {
     "name": "stdout",
     "output_type": "stream",
     "text": [
      " * sqlite://\n",
      "Done.\n",
      "1 rows affected.\n",
      "1 rows affected.\n",
      "1 rows affected.\n",
      "1 rows affected.\n",
      "1 rows affected.\n",
      "Done.\n"
     ]
    },
    {
     "data": {
      "text/html": [
       "<table>\n",
       "    <thead>\n",
       "        <tr>\n",
       "            <th>enum</th>\n",
       "            <th>firstname</th>\n",
       "            <th>lastname</th>\n",
       "            <th>bdate</th>\n",
       "            <th>locality</th>\n",
       "            <th>salary</th>\n",
       "            <th>phone</th>\n",
       "            <th>deptnum</th>\n",
       "            <th>super_enum</th>\n",
       "        </tr>\n",
       "    </thead>\n",
       "    <tbody>\n",
       "        <tr>\n",
       "            <td>88</td>\n",
       "            <td>Jukka</td>\n",
       "            <td>Susi</td>\n",
       "            <td>1987-01-12</td>\n",
       "            <td>Tampere</td>\n",
       "            <td>5500</td>\n",
       "            <td>044585663</td>\n",
       "            <td>1</td>\n",
       "            <td>89</td>\n",
       "        </tr>\n",
       "        <tr>\n",
       "            <td>33</td>\n",
       "            <td>Ville</td>\n",
       "            <td>Viima</td>\n",
       "            <td>1990-03-01</td>\n",
       "            <td>Nokia</td>\n",
       "            <td>4000.5</td>\n",
       "            <td>044585664</td>\n",
       "            <td>5</td>\n",
       "            <td>88</td>\n",
       "        </tr>\n",
       "        <tr>\n",
       "            <td>12</td>\n",
       "            <td>Pekka</td>\n",
       "            <td>Puro</td>\n",
       "            <td>1993-01-18</td>\n",
       "            <td>Tampere</td>\n",
       "            <td>3000</td>\n",
       "            <td>044585665</td>\n",
       "            <td>5</td>\n",
       "            <td>33</td>\n",
       "        </tr>\n",
       "        <tr>\n",
       "            <td>98</td>\n",
       "            <td>Jenni</td>\n",
       "            <td>Joki</td>\n",
       "            <td>2000-04-21</td>\n",
       "            <td>Lempäälä</td>\n",
       "            <td>4300</td>\n",
       "            <td>044585666</td>\n",
       "            <td>4</td>\n",
       "            <td>88</td>\n",
       "        </tr>\n",
       "        <tr>\n",
       "            <td>99</td>\n",
       "            <td>Alli</td>\n",
       "            <td>Viima</td>\n",
       "            <td>1987-01-12</td>\n",
       "            <td>Nokia</td>\n",
       "            <td>2500</td>\n",
       "            <td>044585667</td>\n",
       "            <td>4</td>\n",
       "            <td>98</td>\n",
       "        </tr>\n",
       "    </tbody>\n",
       "</table>"
      ],
      "text/plain": [
       "[(88, 'Jukka', 'Susi', '1987-01-12', 'Tampere', 5500, '044585663', 1, 89),\n",
       " (33, 'Ville', 'Viima', '1990-03-01', 'Nokia', 4000.5, '044585664', 5, 88),\n",
       " (12, 'Pekka', 'Puro', '1993-01-18', 'Tampere', 3000, '044585665', 5, 33),\n",
       " (98, 'Jenni', 'Joki', '2000-04-21', 'Lempäälä', 4300, '044585666', 4, 88),\n",
       " (99, 'Alli', 'Viima', '1987-01-12', 'Nokia', 2500, '044585667', 4, 98)]"
      ]
     },
     "execution_count": 2,
     "metadata": {},
     "output_type": "execute_result"
    }
   ],
   "source": [
    "%%sql \n",
    "\n",
    "CREATE TABLE employee(enum INT,\n",
    "                      firstname varchar(50) NOT NULL,\n",
    "                      lastname varchar(50) NOT NULL,\n",
    "                      bdate DATE NOT NULL,\n",
    "                      locality varchar(50) NOT NULL,\n",
    "                      salary NUMERIC(8,2),                      \n",
    "                      phone VARCHAR(50) NOT NULL,\n",
    "                      deptnum INT NOT NULL,\n",
    "                      super_enum INT,\n",
    "                      PRIMARY KEY(enum),\n",
    "                      FOREIGN KEY(deptnum) REFERENCES department(dnum),\n",
    "                      FOREIGN KEY(super_enum ) REFERENCES employee(enum));\n",
    "\n",
    "INSERT INTO employee VALUES(88,'Jukka','Susi','1987-01-12','Tampere',5500.00, '044585663', 1, 89);\n",
    "INSERT INTO employee VALUES(33,'Ville','Viima','1990-03-01','Nokia',4000.50, '044585664',5,88);\n",
    "INSERT INTO employee VALUES(12,'Pekka','Puro','1993-01-18','Tampere',3000.00, '044585665',5,33);\n",
    "INSERT INTO employee VALUES(98,'Jenni','Joki','2000-04-21','Lempäälä',4300.00, '044585666',4,88);\n",
    "INSERT INTO employee VALUES(99,'Alli','Viima','1987-01-12','Nokia',2500.00, '044585667',4,98);\n",
    "\n",
    "SELECT * from employee;\n"
   ]
  },
  {
   "cell_type": "code",
   "execution_count": 3,
   "metadata": {},
   "outputs": [
    {
     "name": "stdout",
     "output_type": "stream",
     "text": [
      " * sqlite://\n",
      "Done.\n",
      "1 rows affected.\n",
      "1 rows affected.\n",
      "1 rows affected.\n",
      "Done.\n"
     ]
    },
    {
     "data": {
      "text/html": [
       "<table>\n",
       "    <thead>\n",
       "        <tr>\n",
       "            <th>dnum</th>\n",
       "            <th>dname</th>\n",
       "        </tr>\n",
       "    </thead>\n",
       "    <tbody>\n",
       "        <tr>\n",
       "            <td>1</td>\n",
       "            <td>Headquarters</td>\n",
       "        </tr>\n",
       "        <tr>\n",
       "            <td>4</td>\n",
       "            <td>Administration</td>\n",
       "        </tr>\n",
       "        <tr>\n",
       "            <td>5</td>\n",
       "            <td>Research</td>\n",
       "        </tr>\n",
       "    </tbody>\n",
       "</table>"
      ],
      "text/plain": [
       "[(1, 'Headquarters'), (4, 'Administration'), (5, 'Research')]"
      ]
     },
     "execution_count": 3,
     "metadata": {},
     "output_type": "execute_result"
    }
   ],
   "source": [
    "%%sql \n",
    "\n",
    "CREATE TABLE department(dnum INT,\n",
    "                        dname varchar(15) NOT NULL,               \n",
    "                        PRIMARY KEY(dnum),\n",
    "                        UNIQUE(dname));\n",
    "\n",
    "INSERT INTO department VALUES(1,'Headquarters');\n",
    "INSERT INTO department VALUES(4,'Administration');\n",
    "INSERT INTO department VALUES(5,'Research');\n",
    "\n",
    "SELECT * from department;"
   ]
  },
  {
   "cell_type": "code",
   "execution_count": 4,
   "metadata": {},
   "outputs": [
    {
     "name": "stdout",
     "output_type": "stream",
     "text": [
      " * sqlite://\n",
      "Done.\n",
      "1 rows affected.\n",
      "1 rows affected.\n",
      "1 rows affected.\n",
      "Done.\n"
     ]
    },
    {
     "data": {
      "text/html": [
       "<table>\n",
       "    <thead>\n",
       "        <tr>\n",
       "            <th>pnum</th>\n",
       "            <th>pname</th>\n",
       "        </tr>\n",
       "    </thead>\n",
       "    <tbody>\n",
       "        <tr>\n",
       "            <td>1</td>\n",
       "            <td>Product X</td>\n",
       "        </tr>\n",
       "        <tr>\n",
       "            <td>2</td>\n",
       "            <td>Product Y</td>\n",
       "        </tr>\n",
       "        <tr>\n",
       "            <td>3</td>\n",
       "            <td>Product Z</td>\n",
       "        </tr>\n",
       "    </tbody>\n",
       "</table>"
      ],
      "text/plain": [
       "[(1, 'Product X'), (2, 'Product Y'), (3, 'Product Z')]"
      ]
     },
     "execution_count": 4,
     "metadata": {},
     "output_type": "execute_result"
    }
   ],
   "source": [
    "%%sql \n",
    "\n",
    "CREATE TABLE project(pnum INT,  \n",
    "                     pname varchar(15) NOT NULL,                    \n",
    "                     PRIMARY KEY(pnum),\n",
    "                     UNIQUE(pname));\n",
    "\n",
    "INSERT INTO project VALUES(1,'Product X');\n",
    "INSERT INTO project VALUES(2,'Product Y');\n",
    "INSERT INTO project VALUES(3,'Product Z');\n",
    "\n",
    "SELECT * from project;"
   ]
  },
  {
   "cell_type": "code",
   "execution_count": 5,
   "metadata": {},
   "outputs": [
    {
     "name": "stdout",
     "output_type": "stream",
     "text": [
      " * sqlite://\n",
      "Done.\n",
      "1 rows affected.\n",
      "1 rows affected.\n",
      "1 rows affected.\n",
      "1 rows affected.\n",
      "1 rows affected.\n",
      "1 rows affected.\n",
      "1 rows affected.\n",
      "Done.\n"
     ]
    },
    {
     "data": {
      "text/html": [
       "<table>\n",
       "    <thead>\n",
       "        <tr>\n",
       "            <th>enum</th>\n",
       "            <th>pnum</th>\n",
       "            <th>hours</th>\n",
       "        </tr>\n",
       "    </thead>\n",
       "    <tbody>\n",
       "        <tr>\n",
       "            <td>12</td>\n",
       "            <td>1</td>\n",
       "            <td>32.5</td>\n",
       "        </tr>\n",
       "        <tr>\n",
       "            <td>12</td>\n",
       "            <td>2</td>\n",
       "            <td>7.5</td>\n",
       "        </tr>\n",
       "        <tr>\n",
       "            <td>33</td>\n",
       "            <td>2</td>\n",
       "            <td>10</td>\n",
       "        </tr>\n",
       "        <tr>\n",
       "            <td>33</td>\n",
       "            <td>3</td>\n",
       "            <td>10</td>\n",
       "        </tr>\n",
       "        <tr>\n",
       "            <td>99</td>\n",
       "            <td>3</td>\n",
       "            <td>30</td>\n",
       "        </tr>\n",
       "        <tr>\n",
       "            <td>99</td>\n",
       "            <td>1</td>\n",
       "            <td>10</td>\n",
       "        </tr>\n",
       "        <tr>\n",
       "            <td>98</td>\n",
       "            <td>2</td>\n",
       "            <td>15</td>\n",
       "        </tr>\n",
       "    </tbody>\n",
       "</table>"
      ],
      "text/plain": [
       "[(12, 1, 32.5),\n",
       " (12, 2, 7.5),\n",
       " (33, 2, 10),\n",
       " (33, 3, 10),\n",
       " (99, 3, 30),\n",
       " (99, 1, 10),\n",
       " (98, 2, 15)]"
      ]
     },
     "execution_count": 5,
     "metadata": {},
     "output_type": "execute_result"
    }
   ],
   "source": [
    "%%sql \n",
    "\n",
    "CREATE TABLE works_on(enum INT,\n",
    "                      pnum INT,  \n",
    "                      hours NUMERIC(5,1),                      \n",
    "                      PRIMARY KEY(enum,pnum),\n",
    "                      FOREIGN KEY(enum) REFERENCES employee(enum),\n",
    "                      FOREIGN KEY(pnum) REFERENCES project(pnum));\n",
    "\n",
    "INSERT INTO works_on VALUES(12,1,32.5);\n",
    "INSERT INTO works_on VALUES(12,2,7.5);\n",
    "INSERT INTO works_on VALUES(33,2,10.0);\n",
    "INSERT INTO works_on VALUES(33,3,10.0);\n",
    "INSERT INTO works_on VALUES(99,3,30.0);\n",
    "INSERT INTO works_on VALUES(99,1,10.0);\n",
    "INSERT INTO works_on VALUES(98,2,15.0);\n",
    "\n",
    "SELECT * from works_on;"
   ]
  },
  {
   "cell_type": "code",
   "execution_count": 6,
   "metadata": {},
   "outputs": [
    {
     "name": "stdout",
     "output_type": "stream",
     "text": [
      " * sqlite://\n",
      "1 rows affected.\n",
      "Done.\n"
     ]
    },
    {
     "data": {
      "text/html": [
       "<table>\n",
       "    <thead>\n",
       "        <tr>\n",
       "            <th>dnum</th>\n",
       "            <th>dname</th>\n",
       "        </tr>\n",
       "    </thead>\n",
       "    <tbody>\n",
       "        <tr>\n",
       "            <td>1</td>\n",
       "            <td>Headquarters</td>\n",
       "        </tr>\n",
       "        <tr>\n",
       "            <td>4</td>\n",
       "            <td>Administration</td>\n",
       "        </tr>\n",
       "        <tr>\n",
       "            <td>5</td>\n",
       "            <td>Research center</td>\n",
       "        </tr>\n",
       "    </tbody>\n",
       "</table>"
      ],
      "text/plain": [
       "[(1, 'Headquarters'), (4, 'Administration'), (5, 'Research center')]"
      ]
     },
     "execution_count": 6,
     "metadata": {},
     "output_type": "execute_result"
    }
   ],
   "source": [
    "%%sql \n",
    "\n",
    "UPDATE department SET dname = 'Research center' WHERE dnum = 5;\n",
    "\n",
    "SELECT * from department;\n"
   ]
  },
  {
   "cell_type": "code",
   "execution_count": 7,
   "metadata": {},
   "outputs": [
    {
     "name": "stdout",
     "output_type": "stream",
     "text": [
      " * sqlite://\n",
      "1 rows affected.\n",
      "Done.\n"
     ]
    },
    {
     "data": {
      "text/html": [
       "<table>\n",
       "    <thead>\n",
       "        <tr>\n",
       "            <th>enum</th>\n",
       "            <th>firstname</th>\n",
       "            <th>lastname</th>\n",
       "            <th>bdate</th>\n",
       "            <th>locality</th>\n",
       "            <th>salary</th>\n",
       "            <th>phone</th>\n",
       "            <th>deptnum</th>\n",
       "            <th>super_enum</th>\n",
       "        </tr>\n",
       "    </thead>\n",
       "    <tbody>\n",
       "        <tr>\n",
       "            <td>88</td>\n",
       "            <td>Jukka</td>\n",
       "            <td>Susi</td>\n",
       "            <td>1987-01-12</td>\n",
       "            <td>Tampere</td>\n",
       "            <td>5500</td>\n",
       "            <td>044585663</td>\n",
       "            <td>1</td>\n",
       "            <td>89</td>\n",
       "        </tr>\n",
       "        <tr>\n",
       "            <td>33</td>\n",
       "            <td>Ville</td>\n",
       "            <td>Viima</td>\n",
       "            <td>1990-03-01</td>\n",
       "            <td>Nokia</td>\n",
       "            <td>4000.5</td>\n",
       "            <td>044585664</td>\n",
       "            <td>5</td>\n",
       "            <td>88</td>\n",
       "        </tr>\n",
       "        <tr>\n",
       "            <td>12</td>\n",
       "            <td>Pekka</td>\n",
       "            <td>Puro</td>\n",
       "            <td>1993-01-18</td>\n",
       "            <td>Tampere</td>\n",
       "            <td>3000</td>\n",
       "            <td>044585665</td>\n",
       "            <td>5</td>\n",
       "            <td>33</td>\n",
       "        </tr>\n",
       "        <tr>\n",
       "            <td>98</td>\n",
       "            <td>Jenni</td>\n",
       "            <td>Joki</td>\n",
       "            <td>2000-04-21</td>\n",
       "            <td>Lempäälä</td>\n",
       "            <td>4300</td>\n",
       "            <td>044585666</td>\n",
       "            <td>4</td>\n",
       "            <td>88</td>\n",
       "        </tr>\n",
       "        <tr>\n",
       "            <td>99</td>\n",
       "            <td>Alli</td>\n",
       "            <td>Viima</td>\n",
       "            <td>1987-01-12</td>\n",
       "            <td>Nokia</td>\n",
       "            <td>2500</td>\n",
       "            <td>044585667</td>\n",
       "            <td>5</td>\n",
       "            <td>33</td>\n",
       "        </tr>\n",
       "    </tbody>\n",
       "</table>"
      ],
      "text/plain": [
       "[(88, 'Jukka', 'Susi', '1987-01-12', 'Tampere', 5500, '044585663', 1, 89),\n",
       " (33, 'Ville', 'Viima', '1990-03-01', 'Nokia', 4000.5, '044585664', 5, 88),\n",
       " (12, 'Pekka', 'Puro', '1993-01-18', 'Tampere', 3000, '044585665', 5, 33),\n",
       " (98, 'Jenni', 'Joki', '2000-04-21', 'Lempäälä', 4300, '044585666', 4, 88),\n",
       " (99, 'Alli', 'Viima', '1987-01-12', 'Nokia', 2500, '044585667', 5, 33)]"
      ]
     },
     "execution_count": 7,
     "metadata": {},
     "output_type": "execute_result"
    }
   ],
   "source": [
    "%%sql \n",
    "\n",
    "UPDATE employee SET deptnum =5, super_enum = 33 WHERE enum = 99;\n",
    "SELECT * from employee;"
   ]
  },
  {
   "cell_type": "code",
   "execution_count": 8,
   "metadata": {},
   "outputs": [
    {
     "name": "stdout",
     "output_type": "stream",
     "text": [
      " * sqlite://\n",
      "1 rows affected.\n",
      "Done.\n"
     ]
    },
    {
     "data": {
      "text/html": [
       "<table>\n",
       "    <thead>\n",
       "        <tr>\n",
       "            <th>enum</th>\n",
       "            <th>firstname</th>\n",
       "            <th>lastname</th>\n",
       "            <th>bdate</th>\n",
       "            <th>locality</th>\n",
       "            <th>salary</th>\n",
       "            <th>phone</th>\n",
       "            <th>deptnum</th>\n",
       "            <th>super_enum</th>\n",
       "        </tr>\n",
       "    </thead>\n",
       "    <tbody>\n",
       "        <tr>\n",
       "            <td>88</td>\n",
       "            <td>Jukka</td>\n",
       "            <td>Susi</td>\n",
       "            <td>1987-01-12</td>\n",
       "            <td>Tampere</td>\n",
       "            <td>5500</td>\n",
       "            <td>044585663</td>\n",
       "            <td>1</td>\n",
       "            <td>None</td>\n",
       "        </tr>\n",
       "        <tr>\n",
       "            <td>33</td>\n",
       "            <td>Ville</td>\n",
       "            <td>Viima</td>\n",
       "            <td>1990-03-01</td>\n",
       "            <td>Nokia</td>\n",
       "            <td>4000.5</td>\n",
       "            <td>044585664</td>\n",
       "            <td>5</td>\n",
       "            <td>88</td>\n",
       "        </tr>\n",
       "        <tr>\n",
       "            <td>12</td>\n",
       "            <td>Pekka</td>\n",
       "            <td>Puro</td>\n",
       "            <td>1993-01-18</td>\n",
       "            <td>Tampere</td>\n",
       "            <td>3000</td>\n",
       "            <td>044585665</td>\n",
       "            <td>5</td>\n",
       "            <td>33</td>\n",
       "        </tr>\n",
       "        <tr>\n",
       "            <td>98</td>\n",
       "            <td>Jenni</td>\n",
       "            <td>Joki</td>\n",
       "            <td>2000-04-21</td>\n",
       "            <td>Lempäälä</td>\n",
       "            <td>4300</td>\n",
       "            <td>044585666</td>\n",
       "            <td>4</td>\n",
       "            <td>88</td>\n",
       "        </tr>\n",
       "        <tr>\n",
       "            <td>99</td>\n",
       "            <td>Alli</td>\n",
       "            <td>Viima</td>\n",
       "            <td>1987-01-12</td>\n",
       "            <td>Nokia</td>\n",
       "            <td>2500</td>\n",
       "            <td>044585667</td>\n",
       "            <td>5</td>\n",
       "            <td>33</td>\n",
       "        </tr>\n",
       "    </tbody>\n",
       "</table>"
      ],
      "text/plain": [
       "[(88, 'Jukka', 'Susi', '1987-01-12', 'Tampere', 5500, '044585663', 1, None),\n",
       " (33, 'Ville', 'Viima', '1990-03-01', 'Nokia', 4000.5, '044585664', 5, 88),\n",
       " (12, 'Pekka', 'Puro', '1993-01-18', 'Tampere', 3000, '044585665', 5, 33),\n",
       " (98, 'Jenni', 'Joki', '2000-04-21', 'Lempäälä', 4300, '044585666', 4, 88),\n",
       " (99, 'Alli', 'Viima', '1987-01-12', 'Nokia', 2500, '044585667', 5, 33)]"
      ]
     },
     "execution_count": 8,
     "metadata": {},
     "output_type": "execute_result"
    }
   ],
   "source": [
    "%%sql \n",
    "\n",
    "UPDATE employee SET super_enum = NULL WHERE enum = 88;\n",
    "SELECT * from employee;"
   ]
  },
  {
   "cell_type": "code",
   "execution_count": 9,
   "metadata": {},
   "outputs": [
    {
     "name": "stdout",
     "output_type": "stream",
     "text": [
      " * sqlite://\n",
      "Done.\n"
     ]
    },
    {
     "data": {
      "text/html": [
       "<table>\n",
       "    <thead>\n",
       "        <tr>\n",
       "            <th>enum</th>\n",
       "            <th>firstname</th>\n",
       "            <th>lastname</th>\n",
       "            <th>bdate</th>\n",
       "            <th>locality</th>\n",
       "            <th>salary</th>\n",
       "            <th>phone</th>\n",
       "            <th>deptnum</th>\n",
       "            <th>super_enum</th>\n",
       "            <th>dnum</th>\n",
       "            <th>dname</th>\n",
       "        </tr>\n",
       "    </thead>\n",
       "    <tbody>\n",
       "        <tr>\n",
       "            <td>88</td>\n",
       "            <td>Jukka</td>\n",
       "            <td>Susi</td>\n",
       "            <td>1987-01-12</td>\n",
       "            <td>Tampere</td>\n",
       "            <td>5500</td>\n",
       "            <td>044585663</td>\n",
       "            <td>1</td>\n",
       "            <td>None</td>\n",
       "            <td>1</td>\n",
       "            <td>Headquarters</td>\n",
       "        </tr>\n",
       "        <tr>\n",
       "            <td>88</td>\n",
       "            <td>Jukka</td>\n",
       "            <td>Susi</td>\n",
       "            <td>1987-01-12</td>\n",
       "            <td>Tampere</td>\n",
       "            <td>5500</td>\n",
       "            <td>044585663</td>\n",
       "            <td>1</td>\n",
       "            <td>None</td>\n",
       "            <td>4</td>\n",
       "            <td>Administration</td>\n",
       "        </tr>\n",
       "        <tr>\n",
       "            <td>88</td>\n",
       "            <td>Jukka</td>\n",
       "            <td>Susi</td>\n",
       "            <td>1987-01-12</td>\n",
       "            <td>Tampere</td>\n",
       "            <td>5500</td>\n",
       "            <td>044585663</td>\n",
       "            <td>1</td>\n",
       "            <td>None</td>\n",
       "            <td>5</td>\n",
       "            <td>Research center</td>\n",
       "        </tr>\n",
       "        <tr>\n",
       "            <td>33</td>\n",
       "            <td>Ville</td>\n",
       "            <td>Viima</td>\n",
       "            <td>1990-03-01</td>\n",
       "            <td>Nokia</td>\n",
       "            <td>4000.5</td>\n",
       "            <td>044585664</td>\n",
       "            <td>5</td>\n",
       "            <td>88</td>\n",
       "            <td>1</td>\n",
       "            <td>Headquarters</td>\n",
       "        </tr>\n",
       "        <tr>\n",
       "            <td>33</td>\n",
       "            <td>Ville</td>\n",
       "            <td>Viima</td>\n",
       "            <td>1990-03-01</td>\n",
       "            <td>Nokia</td>\n",
       "            <td>4000.5</td>\n",
       "            <td>044585664</td>\n",
       "            <td>5</td>\n",
       "            <td>88</td>\n",
       "            <td>4</td>\n",
       "            <td>Administration</td>\n",
       "        </tr>\n",
       "        <tr>\n",
       "            <td>33</td>\n",
       "            <td>Ville</td>\n",
       "            <td>Viima</td>\n",
       "            <td>1990-03-01</td>\n",
       "            <td>Nokia</td>\n",
       "            <td>4000.5</td>\n",
       "            <td>044585664</td>\n",
       "            <td>5</td>\n",
       "            <td>88</td>\n",
       "            <td>5</td>\n",
       "            <td>Research center</td>\n",
       "        </tr>\n",
       "        <tr>\n",
       "            <td>12</td>\n",
       "            <td>Pekka</td>\n",
       "            <td>Puro</td>\n",
       "            <td>1993-01-18</td>\n",
       "            <td>Tampere</td>\n",
       "            <td>3000</td>\n",
       "            <td>044585665</td>\n",
       "            <td>5</td>\n",
       "            <td>33</td>\n",
       "            <td>1</td>\n",
       "            <td>Headquarters</td>\n",
       "        </tr>\n",
       "        <tr>\n",
       "            <td>12</td>\n",
       "            <td>Pekka</td>\n",
       "            <td>Puro</td>\n",
       "            <td>1993-01-18</td>\n",
       "            <td>Tampere</td>\n",
       "            <td>3000</td>\n",
       "            <td>044585665</td>\n",
       "            <td>5</td>\n",
       "            <td>33</td>\n",
       "            <td>4</td>\n",
       "            <td>Administration</td>\n",
       "        </tr>\n",
       "        <tr>\n",
       "            <td>12</td>\n",
       "            <td>Pekka</td>\n",
       "            <td>Puro</td>\n",
       "            <td>1993-01-18</td>\n",
       "            <td>Tampere</td>\n",
       "            <td>3000</td>\n",
       "            <td>044585665</td>\n",
       "            <td>5</td>\n",
       "            <td>33</td>\n",
       "            <td>5</td>\n",
       "            <td>Research center</td>\n",
       "        </tr>\n",
       "        <tr>\n",
       "            <td>98</td>\n",
       "            <td>Jenni</td>\n",
       "            <td>Joki</td>\n",
       "            <td>2000-04-21</td>\n",
       "            <td>Lempäälä</td>\n",
       "            <td>4300</td>\n",
       "            <td>044585666</td>\n",
       "            <td>4</td>\n",
       "            <td>88</td>\n",
       "            <td>1</td>\n",
       "            <td>Headquarters</td>\n",
       "        </tr>\n",
       "        <tr>\n",
       "            <td>98</td>\n",
       "            <td>Jenni</td>\n",
       "            <td>Joki</td>\n",
       "            <td>2000-04-21</td>\n",
       "            <td>Lempäälä</td>\n",
       "            <td>4300</td>\n",
       "            <td>044585666</td>\n",
       "            <td>4</td>\n",
       "            <td>88</td>\n",
       "            <td>4</td>\n",
       "            <td>Administration</td>\n",
       "        </tr>\n",
       "        <tr>\n",
       "            <td>98</td>\n",
       "            <td>Jenni</td>\n",
       "            <td>Joki</td>\n",
       "            <td>2000-04-21</td>\n",
       "            <td>Lempäälä</td>\n",
       "            <td>4300</td>\n",
       "            <td>044585666</td>\n",
       "            <td>4</td>\n",
       "            <td>88</td>\n",
       "            <td>5</td>\n",
       "            <td>Research center</td>\n",
       "        </tr>\n",
       "        <tr>\n",
       "            <td>99</td>\n",
       "            <td>Alli</td>\n",
       "            <td>Viima</td>\n",
       "            <td>1987-01-12</td>\n",
       "            <td>Nokia</td>\n",
       "            <td>2500</td>\n",
       "            <td>044585667</td>\n",
       "            <td>5</td>\n",
       "            <td>33</td>\n",
       "            <td>1</td>\n",
       "            <td>Headquarters</td>\n",
       "        </tr>\n",
       "        <tr>\n",
       "            <td>99</td>\n",
       "            <td>Alli</td>\n",
       "            <td>Viima</td>\n",
       "            <td>1987-01-12</td>\n",
       "            <td>Nokia</td>\n",
       "            <td>2500</td>\n",
       "            <td>044585667</td>\n",
       "            <td>5</td>\n",
       "            <td>33</td>\n",
       "            <td>4</td>\n",
       "            <td>Administration</td>\n",
       "        </tr>\n",
       "        <tr>\n",
       "            <td>99</td>\n",
       "            <td>Alli</td>\n",
       "            <td>Viima</td>\n",
       "            <td>1987-01-12</td>\n",
       "            <td>Nokia</td>\n",
       "            <td>2500</td>\n",
       "            <td>044585667</td>\n",
       "            <td>5</td>\n",
       "            <td>33</td>\n",
       "            <td>5</td>\n",
       "            <td>Research center</td>\n",
       "        </tr>\n",
       "    </tbody>\n",
       "</table>"
      ],
      "text/plain": [
       "[(88, 'Jukka', 'Susi', '1987-01-12', 'Tampere', 5500, '044585663', 1, None, 1, 'Headquarters'),\n",
       " (88, 'Jukka', 'Susi', '1987-01-12', 'Tampere', 5500, '044585663', 1, None, 4, 'Administration'),\n",
       " (88, 'Jukka', 'Susi', '1987-01-12', 'Tampere', 5500, '044585663', 1, None, 5, 'Research center'),\n",
       " (33, 'Ville', 'Viima', '1990-03-01', 'Nokia', 4000.5, '044585664', 5, 88, 1, 'Headquarters'),\n",
       " (33, 'Ville', 'Viima', '1990-03-01', 'Nokia', 4000.5, '044585664', 5, 88, 4, 'Administration'),\n",
       " (33, 'Ville', 'Viima', '1990-03-01', 'Nokia', 4000.5, '044585664', 5, 88, 5, 'Research center'),\n",
       " (12, 'Pekka', 'Puro', '1993-01-18', 'Tampere', 3000, '044585665', 5, 33, 1, 'Headquarters'),\n",
       " (12, 'Pekka', 'Puro', '1993-01-18', 'Tampere', 3000, '044585665', 5, 33, 4, 'Administration'),\n",
       " (12, 'Pekka', 'Puro', '1993-01-18', 'Tampere', 3000, '044585665', 5, 33, 5, 'Research center'),\n",
       " (98, 'Jenni', 'Joki', '2000-04-21', 'Lempäälä', 4300, '044585666', 4, 88, 1, 'Headquarters'),\n",
       " (98, 'Jenni', 'Joki', '2000-04-21', 'Lempäälä', 4300, '044585666', 4, 88, 4, 'Administration'),\n",
       " (98, 'Jenni', 'Joki', '2000-04-21', 'Lempäälä', 4300, '044585666', 4, 88, 5, 'Research center'),\n",
       " (99, 'Alli', 'Viima', '1987-01-12', 'Nokia', 2500, '044585667', 5, 33, 1, 'Headquarters'),\n",
       " (99, 'Alli', 'Viima', '1987-01-12', 'Nokia', 2500, '044585667', 5, 33, 4, 'Administration'),\n",
       " (99, 'Alli', 'Viima', '1987-01-12', 'Nokia', 2500, '044585667', 5, 33, 5, 'Research center')]"
      ]
     },
     "execution_count": 9,
     "metadata": {},
     "output_type": "execute_result"
    }
   ],
   "source": [
    "%%sql \n",
    "\n",
    "SELECT * from employee , department;"
   ]
  },
  {
   "cell_type": "code",
   "execution_count": 10,
   "metadata": {},
   "outputs": [
    {
     "name": "stdout",
     "output_type": "stream",
     "text": [
      " * sqlite://\n",
      "Done.\n"
     ]
    },
    {
     "data": {
      "text/html": [
       "<table>\n",
       "    <thead>\n",
       "        <tr>\n",
       "            <th>lastname</th>\n",
       "            <th>firstname</th>\n",
       "            <th>dname</th>\n",
       "        </tr>\n",
       "    </thead>\n",
       "    <tbody>\n",
       "        <tr>\n",
       "            <td>Susi</td>\n",
       "            <td>Jukka</td>\n",
       "            <td>Headquarters</td>\n",
       "        </tr>\n",
       "        <tr>\n",
       "            <td>Viima</td>\n",
       "            <td>Ville</td>\n",
       "            <td>Research center</td>\n",
       "        </tr>\n",
       "        <tr>\n",
       "            <td>Puro</td>\n",
       "            <td>Pekka</td>\n",
       "            <td>Research center</td>\n",
       "        </tr>\n",
       "        <tr>\n",
       "            <td>Joki</td>\n",
       "            <td>Jenni</td>\n",
       "            <td>Administration</td>\n",
       "        </tr>\n",
       "        <tr>\n",
       "            <td>Viima</td>\n",
       "            <td>Alli</td>\n",
       "            <td>Research center</td>\n",
       "        </tr>\n",
       "    </tbody>\n",
       "</table>"
      ],
      "text/plain": [
       "[('Susi', 'Jukka', 'Headquarters'),\n",
       " ('Viima', 'Ville', 'Research center'),\n",
       " ('Puro', 'Pekka', 'Research center'),\n",
       " ('Joki', 'Jenni', 'Administration'),\n",
       " ('Viima', 'Alli', 'Research center')]"
      ]
     },
     "execution_count": 10,
     "metadata": {},
     "output_type": "execute_result"
    }
   ],
   "source": [
    "%%sql\n",
    "\n",
    "SELECT lastname, firstname, dname\n",
    "From employee, department\n",
    "WHERE deptnum = dnum;"
   ]
  },
  {
   "cell_type": "code",
   "execution_count": 11,
   "metadata": {},
   "outputs": [
    {
     "name": "stdout",
     "output_type": "stream",
     "text": [
      " * sqlite://\n",
      "Done.\n"
     ]
    },
    {
     "data": {
      "text/html": [
       "<table>\n",
       "    <thead>\n",
       "        <tr>\n",
       "            <th>lastname</th>\n",
       "            <th>firstname</th>\n",
       "            <th>dname</th>\n",
       "        </tr>\n",
       "    </thead>\n",
       "    <tbody>\n",
       "        <tr>\n",
       "            <td>Susi</td>\n",
       "            <td>Jukka</td>\n",
       "            <td>Headquarters</td>\n",
       "        </tr>\n",
       "        <tr>\n",
       "            <td>Viima</td>\n",
       "            <td>Ville</td>\n",
       "            <td>Research center</td>\n",
       "        </tr>\n",
       "        <tr>\n",
       "            <td>Puro</td>\n",
       "            <td>Pekka</td>\n",
       "            <td>Research center</td>\n",
       "        </tr>\n",
       "        <tr>\n",
       "            <td>Joki</td>\n",
       "            <td>Jenni</td>\n",
       "            <td>Administration</td>\n",
       "        </tr>\n",
       "        <tr>\n",
       "            <td>Viima</td>\n",
       "            <td>Alli</td>\n",
       "            <td>Research center</td>\n",
       "        </tr>\n",
       "    </tbody>\n",
       "</table>"
      ],
      "text/plain": [
       "[('Susi', 'Jukka', 'Headquarters'),\n",
       " ('Viima', 'Ville', 'Research center'),\n",
       " ('Puro', 'Pekka', 'Research center'),\n",
       " ('Joki', 'Jenni', 'Administration'),\n",
       " ('Viima', 'Alli', 'Research center')]"
      ]
     },
     "execution_count": 11,
     "metadata": {},
     "output_type": "execute_result"
    }
   ],
   "source": [
    "%%sql\n",
    "SELECT employee.lastname, employee.firstname, department.dname\n",
    "FROM employee,department\n",
    "WHERE employee.deptnum = department.dnum;"
   ]
  },
  {
   "cell_type": "code",
   "execution_count": 12,
   "metadata": {},
   "outputs": [
    {
     "name": "stdout",
     "output_type": "stream",
     "text": [
      " * sqlite://\n",
      "Done.\n"
     ]
    },
    {
     "data": {
      "text/html": [
       "<table>\n",
       "    <thead>\n",
       "        <tr>\n",
       "            <th>lastname</th>\n",
       "            <th>firstname</th>\n",
       "            <th>dname</th>\n",
       "        </tr>\n",
       "    </thead>\n",
       "    <tbody>\n",
       "        <tr>\n",
       "            <td>Susi</td>\n",
       "            <td>Jukka</td>\n",
       "            <td>Headquarters</td>\n",
       "        </tr>\n",
       "        <tr>\n",
       "            <td>Viima</td>\n",
       "            <td>Ville</td>\n",
       "            <td>Research center</td>\n",
       "        </tr>\n",
       "        <tr>\n",
       "            <td>Puro</td>\n",
       "            <td>Pekka</td>\n",
       "            <td>Research center</td>\n",
       "        </tr>\n",
       "        <tr>\n",
       "            <td>Joki</td>\n",
       "            <td>Jenni</td>\n",
       "            <td>Administration</td>\n",
       "        </tr>\n",
       "        <tr>\n",
       "            <td>Viima</td>\n",
       "            <td>Alli</td>\n",
       "            <td>Research center</td>\n",
       "        </tr>\n",
       "    </tbody>\n",
       "</table>"
      ],
      "text/plain": [
       "[('Susi', 'Jukka', 'Headquarters'),\n",
       " ('Viima', 'Ville', 'Research center'),\n",
       " ('Puro', 'Pekka', 'Research center'),\n",
       " ('Joki', 'Jenni', 'Administration'),\n",
       " ('Viima', 'Alli', 'Research center')]"
      ]
     },
     "execution_count": 12,
     "metadata": {},
     "output_type": "execute_result"
    }
   ],
   "source": [
    "%%sql\n",
    "SELECT e.lastname,e.firstname, d.dname\n",
    "FROM employee AS e,department AS d\n",
    "WHERE e.deptnum = d.dnum;"
   ]
  },
  {
   "cell_type": "code",
   "execution_count": 13,
   "metadata": {},
   "outputs": [
    {
     "name": "stdout",
     "output_type": "stream",
     "text": [
      " * sqlite://\n",
      "Done.\n"
     ]
    },
    {
     "data": {
      "text/html": [
       "<table>\n",
       "    <thead>\n",
       "        <tr>\n",
       "            <th>lastname</th>\n",
       "            <th>firstname</th>\n",
       "            <th>locality</th>\n",
       "        </tr>\n",
       "    </thead>\n",
       "    <tbody>\n",
       "        <tr>\n",
       "            <td>Joki</td>\n",
       "            <td>Jenni</td>\n",
       "            <td>Lempäälä</td>\n",
       "        </tr>\n",
       "    </tbody>\n",
       "</table>"
      ],
      "text/plain": [
       "[('Joki', 'Jenni', 'Lempäälä')]"
      ]
     },
     "execution_count": 13,
     "metadata": {},
     "output_type": "execute_result"
    }
   ],
   "source": [
    "%%sql\n",
    "SELECT lastname,firstname, locality\n",
    "FROM employee ,department\n",
    "WHERE deptnum = dnum AND\n",
    "dname ='Administration';"
   ]
  },
  {
   "cell_type": "code",
   "execution_count": 14,
   "metadata": {},
   "outputs": [
    {
     "name": "stdout",
     "output_type": "stream",
     "text": [
      " * sqlite://\n",
      "Done.\n"
     ]
    },
    {
     "data": {
      "text/html": [
       "<table>\n",
       "    <thead>\n",
       "        <tr>\n",
       "            <th>lastname</th>\n",
       "            <th>locality</th>\n",
       "            <th>salary</th>\n",
       "        </tr>\n",
       "    </thead>\n",
       "    <tbody>\n",
       "        <tr>\n",
       "            <td>Susi</td>\n",
       "            <td>Tampere</td>\n",
       "            <td>5500</td>\n",
       "        </tr>\n",
       "    </tbody>\n",
       "</table>"
      ],
      "text/plain": [
       "[('Susi', 'Tampere', 5500)]"
      ]
     },
     "execution_count": 14,
     "metadata": {},
     "output_type": "execute_result"
    }
   ],
   "source": [
    "%%sql\n",
    "SELECT lastname,locality, salary \n",
    "FROM employee\n",
    "WHERE locality = 'Tampere' AND salary > 3000;"
   ]
  },
  {
   "cell_type": "code",
   "execution_count": 15,
   "metadata": {},
   "outputs": [
    {
     "name": "stdout",
     "output_type": "stream",
     "text": [
      " * sqlite://\n",
      "Done.\n"
     ]
    },
    {
     "data": {
      "text/html": [
       "<table>\n",
       "    <thead>\n",
       "        <tr>\n",
       "            <th>lastname</th>\n",
       "            <th>locality</th>\n",
       "            <th>salary</th>\n",
       "        </tr>\n",
       "    </thead>\n",
       "    <tbody>\n",
       "        <tr>\n",
       "            <td>Susi</td>\n",
       "            <td>Tampere</td>\n",
       "            <td>5500</td>\n",
       "        </tr>\n",
       "        <tr>\n",
       "            <td>Viima</td>\n",
       "            <td>Nokia</td>\n",
       "            <td>4000.5</td>\n",
       "        </tr>\n",
       "        <tr>\n",
       "            <td>Puro</td>\n",
       "            <td>Tampere</td>\n",
       "            <td>3000</td>\n",
       "        </tr>\n",
       "        <tr>\n",
       "            <td>Joki</td>\n",
       "            <td>Lempäälä</td>\n",
       "            <td>4300</td>\n",
       "        </tr>\n",
       "    </tbody>\n",
       "</table>"
      ],
      "text/plain": [
       "[('Susi', 'Tampere', 5500),\n",
       " ('Viima', 'Nokia', 4000.5),\n",
       " ('Puro', 'Tampere', 3000),\n",
       " ('Joki', 'Lempäälä', 4300)]"
      ]
     },
     "execution_count": 15,
     "metadata": {},
     "output_type": "execute_result"
    }
   ],
   "source": [
    "%%sql\n",
    "SELECT lastname,locality, salary \n",
    "FROM employee\n",
    "WHERE locality = 'Tampere' OR salary > 3000;"
   ]
  },
  {
   "cell_type": "code",
   "execution_count": 16,
   "metadata": {},
   "outputs": [
    {
     "name": "stdout",
     "output_type": "stream",
     "text": [
      " * sqlite://\n",
      "Done.\n"
     ]
    },
    {
     "data": {
      "text/html": [
       "<table>\n",
       "    <thead>\n",
       "        <tr>\n",
       "            <th>lastname</th>\n",
       "            <th>locality</th>\n",
       "            <th>salary</th>\n",
       "        </tr>\n",
       "    </thead>\n",
       "    <tbody>\n",
       "        <tr>\n",
       "            <td>Viima</td>\n",
       "            <td>Nokia</td>\n",
       "            <td>4000.5</td>\n",
       "        </tr>\n",
       "        <tr>\n",
       "            <td>Joki</td>\n",
       "            <td>Lempäälä</td>\n",
       "            <td>4300</td>\n",
       "        </tr>\n",
       "        <tr>\n",
       "            <td>Viima</td>\n",
       "            <td>Nokia</td>\n",
       "            <td>2500</td>\n",
       "        </tr>\n",
       "    </tbody>\n",
       "</table>"
      ],
      "text/plain": [
       "[('Viima', 'Nokia', 4000.5),\n",
       " ('Joki', 'Lempäälä', 4300),\n",
       " ('Viima', 'Nokia', 2500)]"
      ]
     },
     "execution_count": 16,
     "metadata": {},
     "output_type": "execute_result"
    }
   ],
   "source": [
    "%%sql\n",
    "SELECT lastname,locality, salary \n",
    "FROM employee\n",
    "WHERE NOT locality = 'Tampere';"
   ]
  },
  {
   "cell_type": "code",
   "execution_count": 17,
   "metadata": {},
   "outputs": [
    {
     "name": "stdout",
     "output_type": "stream",
     "text": [
      " * sqlite://\n",
      "Done.\n"
     ]
    },
    {
     "data": {
      "text/html": [
       "<table>\n",
       "    <thead>\n",
       "        <tr>\n",
       "            <th>lastname</th>\n",
       "            <th>locality</th>\n",
       "            <th>salary</th>\n",
       "        </tr>\n",
       "    </thead>\n",
       "    <tbody>\n",
       "        <tr>\n",
       "            <td>Viima</td>\n",
       "            <td>Nokia</td>\n",
       "            <td>4000.5</td>\n",
       "        </tr>\n",
       "        <tr>\n",
       "            <td>Viima</td>\n",
       "            <td>Nokia</td>\n",
       "            <td>2500</td>\n",
       "        </tr>\n",
       "    </tbody>\n",
       "</table>"
      ],
      "text/plain": [
       "[('Viima', 'Nokia', 4000.5), ('Viima', 'Nokia', 2500)]"
      ]
     },
     "execution_count": 17,
     "metadata": {},
     "output_type": "execute_result"
    }
   ],
   "source": [
    "%%sql\n",
    "SELECT lastname,locality, salary \n",
    "FROM employee\n",
    "WHERE locality = 'Nokia' OR locality = 'Tampere' AND salary < 3000;"
   ]
  },
  {
   "cell_type": "code",
   "execution_count": 18,
   "metadata": {},
   "outputs": [
    {
     "name": "stdout",
     "output_type": "stream",
     "text": [
      " * sqlite://\n",
      "Done.\n"
     ]
    },
    {
     "data": {
      "text/html": [
       "<table>\n",
       "    <thead>\n",
       "        <tr>\n",
       "            <th>lastname</th>\n",
       "            <th>locality</th>\n",
       "            <th>salary</th>\n",
       "        </tr>\n",
       "    </thead>\n",
       "    <tbody>\n",
       "        <tr>\n",
       "            <td>Viima</td>\n",
       "            <td>Nokia</td>\n",
       "            <td>2500</td>\n",
       "        </tr>\n",
       "    </tbody>\n",
       "</table>"
      ],
      "text/plain": [
       "[('Viima', 'Nokia', 2500)]"
      ]
     },
     "execution_count": 18,
     "metadata": {},
     "output_type": "execute_result"
    }
   ],
   "source": [
    "%%sql\n",
    "SELECT lastname,locality, salary \n",
    "FROM employee\n",
    "WHERE (locality = 'Nokia' OR locality = 'Tampere') AND salary < 3000;"
   ]
  },
  {
   "cell_type": "code",
   "execution_count": 19,
   "metadata": {},
   "outputs": [
    {
     "name": "stdout",
     "output_type": "stream",
     "text": [
      " * sqlite://\n",
      "Done.\n"
     ]
    },
    {
     "data": {
      "text/html": [
       "<table>\n",
       "    <thead>\n",
       "        <tr>\n",
       "            <th>lastname</th>\n",
       "            <th>locality</th>\n",
       "            <th>salary</th>\n",
       "        </tr>\n",
       "    </thead>\n",
       "    <tbody>\n",
       "        <tr>\n",
       "            <td>Susi</td>\n",
       "            <td>Tampere</td>\n",
       "            <td>5500</td>\n",
       "        </tr>\n",
       "        <tr>\n",
       "            <td>Viima</td>\n",
       "            <td>Nokia</td>\n",
       "            <td>4000.5</td>\n",
       "        </tr>\n",
       "    </tbody>\n",
       "</table>"
      ],
      "text/plain": [
       "[('Susi', 'Tampere', 5500), ('Viima', 'Nokia', 4000.5)]"
      ]
     },
     "execution_count": 19,
     "metadata": {},
     "output_type": "execute_result"
    }
   ],
   "source": [
    "%%sql\n",
    "SELECT lastname,locality, salary \n",
    "FROM employee\n",
    "WHERE (locality = 'Nokia' OR \n",
    "locality = 'Tampere') AND \n",
    "salary > 3000;"
   ]
  },
  {
   "cell_type": "code",
   "execution_count": 20,
   "metadata": {},
   "outputs": [
    {
     "name": "stdout",
     "output_type": "stream",
     "text": [
      " * sqlite://\n",
      "Done.\n"
     ]
    },
    {
     "data": {
      "text/html": [
       "<table>\n",
       "    <thead>\n",
       "        <tr>\n",
       "            <th>lastname</th>\n",
       "            <th>locality</th>\n",
       "            <th>salary</th>\n",
       "        </tr>\n",
       "    </thead>\n",
       "    <tbody>\n",
       "        <tr>\n",
       "            <td>Susi</td>\n",
       "            <td>Tampere</td>\n",
       "            <td>5500</td>\n",
       "        </tr>\n",
       "        <tr>\n",
       "            <td>Viima</td>\n",
       "            <td>Nokia</td>\n",
       "            <td>4000.5</td>\n",
       "        </tr>\n",
       "        <tr>\n",
       "            <td>Viima</td>\n",
       "            <td>Nokia</td>\n",
       "            <td>2500</td>\n",
       "        </tr>\n",
       "    </tbody>\n",
       "</table>"
      ],
      "text/plain": [
       "[('Susi', 'Tampere', 5500),\n",
       " ('Viima', 'Nokia', 4000.5),\n",
       " ('Viima', 'Nokia', 2500)]"
      ]
     },
     "execution_count": 20,
     "metadata": {},
     "output_type": "execute_result"
    }
   ],
   "source": [
    "%%sql\n",
    "SELECT lastname,locality, salary \n",
    "FROM employee\n",
    "WHERE locality = 'Nokia' OR locality = 'Tampere' AND salary > 3000;"
   ]
  },
  {
   "cell_type": "code",
   "execution_count": 21,
   "metadata": {},
   "outputs": [
    {
     "name": "stdout",
     "output_type": "stream",
     "text": [
      " * sqlite://\n",
      "Done.\n"
     ]
    },
    {
     "data": {
      "text/html": [
       "<table>\n",
       "    <thead>\n",
       "        <tr>\n",
       "            <th>lastname</th>\n",
       "            <th>locality</th>\n",
       "            <th>salary</th>\n",
       "        </tr>\n",
       "    </thead>\n",
       "    <tbody>\n",
       "        <tr>\n",
       "            <td>Susi</td>\n",
       "            <td>Tampere</td>\n",
       "            <td>5500</td>\n",
       "        </tr>\n",
       "        <tr>\n",
       "            <td>Viima</td>\n",
       "            <td>Nokia</td>\n",
       "            <td>4000.5</td>\n",
       "        </tr>\n",
       "    </tbody>\n",
       "</table>"
      ],
      "text/plain": [
       "[('Susi', 'Tampere', 5500), ('Viima', 'Nokia', 4000.5)]"
      ]
     },
     "execution_count": 21,
     "metadata": {},
     "output_type": "execute_result"
    }
   ],
   "source": [
    "%%sql\n",
    "SELECT lastname,locality, salary \n",
    "FROM employee\n",
    "WHERE (locality = 'Nokia' OR locality = 'Tampere') AND salary > 3000;"
   ]
  },
  {
   "cell_type": "markdown",
   "metadata": {},
   "source": [
    "- 1.Not\n",
    "- 2.AND\n",
    "- 3.OR\n"
   ]
  },
  {
   "cell_type": "code",
   "execution_count": 22,
   "metadata": {},
   "outputs": [
    {
     "name": "stdout",
     "output_type": "stream",
     "text": [
      " * sqlite://\n",
      "Done.\n"
     ]
    },
    {
     "data": {
      "text/html": [
       "<table>\n",
       "    <thead>\n",
       "        <tr>\n",
       "            <th>lastname</th>\n",
       "            <th>locality</th>\n",
       "            <th>salary</th>\n",
       "            <th>bdate</th>\n",
       "        </tr>\n",
       "    </thead>\n",
       "    <tbody>\n",
       "        <tr>\n",
       "            <td>Susi</td>\n",
       "            <td>Tampere</td>\n",
       "            <td>5500</td>\n",
       "            <td>1987-01-12</td>\n",
       "        </tr>\n",
       "        <tr>\n",
       "            <td>Viima</td>\n",
       "            <td>Nokia</td>\n",
       "            <td>4000.5</td>\n",
       "            <td>1990-03-01</td>\n",
       "        </tr>\n",
       "        <tr>\n",
       "            <td>Puro</td>\n",
       "            <td>Tampere</td>\n",
       "            <td>3000</td>\n",
       "            <td>1993-01-18</td>\n",
       "        </tr>\n",
       "        <tr>\n",
       "            <td>Joki</td>\n",
       "            <td>Lempäälä</td>\n",
       "            <td>4300</td>\n",
       "            <td>2000-04-21</td>\n",
       "        </tr>\n",
       "    </tbody>\n",
       "</table>"
      ],
      "text/plain": [
       "[('Susi', 'Tampere', 5500, '1987-01-12'),\n",
       " ('Viima', 'Nokia', 4000.5, '1990-03-01'),\n",
       " ('Puro', 'Tampere', 3000, '1993-01-18'),\n",
       " ('Joki', 'Lempäälä', 4300, '2000-04-21')]"
      ]
     },
     "execution_count": 22,
     "metadata": {},
     "output_type": "execute_result"
    }
   ],
   "source": [
    "%%sql\n",
    "SELECT lastname,locality, salary,bdate \n",
    "FROM employee\n",
    "WHERE locality = 'Tampere' OR \n",
    "salary > 3000 AND \n",
    "NOT bdate < '1960-01-01'; "
   ]
  },
  {
   "cell_type": "code",
   "execution_count": 23,
   "metadata": {},
   "outputs": [
    {
     "name": "stdout",
     "output_type": "stream",
     "text": [
      " * sqlite://\n",
      "Done.\n"
     ]
    },
    {
     "data": {
      "text/html": [
       "<table>\n",
       "    <thead>\n",
       "        <tr>\n",
       "            <th>lastname</th>\n",
       "            <th>locality</th>\n",
       "            <th>salary</th>\n",
       "            <th>bdate</th>\n",
       "        </tr>\n",
       "    </thead>\n",
       "    <tbody>\n",
       "        <tr>\n",
       "            <td>Susi</td>\n",
       "            <td>Tampere</td>\n",
       "            <td>5500</td>\n",
       "            <td>1987-01-12</td>\n",
       "        </tr>\n",
       "        <tr>\n",
       "            <td>Puro</td>\n",
       "            <td>Tampere</td>\n",
       "            <td>3000</td>\n",
       "            <td>1993-01-18</td>\n",
       "        </tr>\n",
       "    </tbody>\n",
       "</table>"
      ],
      "text/plain": [
       "[('Susi', 'Tampere', 5500, '1987-01-12'),\n",
       " ('Puro', 'Tampere', 3000, '1993-01-18')]"
      ]
     },
     "execution_count": 23,
     "metadata": {},
     "output_type": "execute_result"
    }
   ],
   "source": [
    "%%sql\n",
    "SELECT lastname,locality, salary,bdate \n",
    "FROM employee\n",
    "WHERE locality = 'Tampere' OR \n",
    "salary > 3000 AND \n",
    "NOT bdate > '1960-01-01'; "
   ]
  },
  {
   "cell_type": "code",
   "execution_count": 24,
   "metadata": {},
   "outputs": [
    {
     "name": "stdout",
     "output_type": "stream",
     "text": [
      " * sqlite://\n",
      "Done.\n"
     ]
    },
    {
     "data": {
      "text/html": [
       "<table>\n",
       "    <thead>\n",
       "        <tr>\n",
       "            <th>enum</th>\n",
       "            <th>lastname</th>\n",
       "            <th>firstname</th>\n",
       "        </tr>\n",
       "    </thead>\n",
       "    <tbody>\n",
       "        <tr>\n",
       "            <td>98</td>\n",
       "            <td>Joki</td>\n",
       "            <td>Jenni</td>\n",
       "        </tr>\n",
       "    </tbody>\n",
       "</table>"
      ],
      "text/plain": [
       "[(98, 'Joki', 'Jenni')]"
      ]
     },
     "execution_count": 24,
     "metadata": {},
     "output_type": "execute_result"
    }
   ],
   "source": [
    "%%sql\n",
    "SELECT enum , lastname , firstname\n",
    "FROM employee, department\n",
    "WHERE deptnum =dnum AND \n",
    "(dname ='Administration' OR \n",
    "dname ='Research'); "
   ]
  },
  {
   "cell_type": "code",
   "execution_count": 25,
   "metadata": {},
   "outputs": [
    {
     "name": "stdout",
     "output_type": "stream",
     "text": [
      " * sqlite://\n",
      "(sqlite3.OperationalError) unrecognized token: \"'Research;\"\n",
      "[SQL: SELECT enum , lastname , firstname\n",
      "FROM employee, department\n",
      "WHERE deptnum = dnum AND dname = 'Administration' OR dname= 'Research;]\n",
      "(Background on this error at: http://sqlalche.me/e/13/e3q8)\n"
     ]
    }
   ],
   "source": [
    "%%sql\n",
    "SELECT enum , lastname , firstname\n",
    "FROM employee, department\n",
    "WHERE deptnum = dnum AND dname = 'Administration' OR dname= 'Research;"
   ]
  },
  {
   "cell_type": "code",
   "execution_count": 26,
   "metadata": {},
   "outputs": [
    {
     "name": "stdout",
     "output_type": "stream",
     "text": [
      " * sqlite://\n",
      "Done.\n"
     ]
    },
    {
     "data": {
      "text/html": [
       "<table>\n",
       "    <thead>\n",
       "        <tr>\n",
       "            <th>enum</th>\n",
       "            <th>lastname</th>\n",
       "            <th>firstname</th>\n",
       "            <th>deptnum</th>\n",
       "            <th>dnum</th>\n",
       "            <th>dname</th>\n",
       "        </tr>\n",
       "    </thead>\n",
       "    <tbody>\n",
       "        <tr>\n",
       "            <td>88</td>\n",
       "            <td>Susi</td>\n",
       "            <td>Jukka</td>\n",
       "            <td>1</td>\n",
       "            <td>1</td>\n",
       "            <td>Headquarters</td>\n",
       "        </tr>\n",
       "        <tr>\n",
       "            <td>33</td>\n",
       "            <td>Viima</td>\n",
       "            <td>Ville</td>\n",
       "            <td>5</td>\n",
       "            <td>5</td>\n",
       "            <td>Research center</td>\n",
       "        </tr>\n",
       "        <tr>\n",
       "            <td>12</td>\n",
       "            <td>Puro</td>\n",
       "            <td>Pekka</td>\n",
       "            <td>5</td>\n",
       "            <td>5</td>\n",
       "            <td>Research center</td>\n",
       "        </tr>\n",
       "        <tr>\n",
       "            <td>98</td>\n",
       "            <td>Joki</td>\n",
       "            <td>Jenni</td>\n",
       "            <td>4</td>\n",
       "            <td>4</td>\n",
       "            <td>Administration</td>\n",
       "        </tr>\n",
       "        <tr>\n",
       "            <td>99</td>\n",
       "            <td>Viima</td>\n",
       "            <td>Alli</td>\n",
       "            <td>5</td>\n",
       "            <td>5</td>\n",
       "            <td>Research center</td>\n",
       "        </tr>\n",
       "    </tbody>\n",
       "</table>"
      ],
      "text/plain": [
       "[(88, 'Susi', 'Jukka', 1, 1, 'Headquarters'),\n",
       " (33, 'Viima', 'Ville', 5, 5, 'Research center'),\n",
       " (12, 'Puro', 'Pekka', 5, 5, 'Research center'),\n",
       " (98, 'Joki', 'Jenni', 4, 4, 'Administration'),\n",
       " (99, 'Viima', 'Alli', 5, 5, 'Research center')]"
      ]
     },
     "execution_count": 26,
     "metadata": {},
     "output_type": "execute_result"
    }
   ],
   "source": [
    "%%sql\n",
    "\n",
    "SELECT enum , lastname , firstname, deptnum,dnum, dname\n",
    "FROM employee INNER JOIN department ON deptnum = dnum;"
   ]
  },
  {
   "cell_type": "code",
   "execution_count": 27,
   "metadata": {},
   "outputs": [
    {
     "name": "stdout",
     "output_type": "stream",
     "text": [
      " * sqlite://\n",
      "Done.\n"
     ]
    },
    {
     "data": {
      "text/html": [
       "<table>\n",
       "    <thead>\n",
       "        <tr>\n",
       "            <th>enum</th>\n",
       "            <th>lastname</th>\n",
       "            <th>firstname</th>\n",
       "        </tr>\n",
       "    </thead>\n",
       "    <tbody>\n",
       "        <tr>\n",
       "            <td>98</td>\n",
       "            <td>Joki</td>\n",
       "            <td>Jenni</td>\n",
       "        </tr>\n",
       "    </tbody>\n",
       "</table>"
      ],
      "text/plain": [
       "[(98, 'Joki', 'Jenni')]"
      ]
     },
     "execution_count": 27,
     "metadata": {},
     "output_type": "execute_result"
    }
   ],
   "source": [
    "%%sql\n",
    "\n",
    "SELECT enum , lastname , firstname\n",
    "FROM employee INNER JOIN department ON deptnum = dnum\n",
    "WHERE dname = 'Administration' OR \n",
    "dname= 'Research';"
   ]
  },
  {
   "cell_type": "code",
   "execution_count": 28,
   "metadata": {},
   "outputs": [
    {
     "name": "stdout",
     "output_type": "stream",
     "text": [
      " * sqlite://\n",
      "Done.\n"
     ]
    },
    {
     "data": {
      "text/html": [
       "<table>\n",
       "    <thead>\n",
       "        <tr>\n",
       "            <th>locality</th>\n",
       "        </tr>\n",
       "    </thead>\n",
       "    <tbody>\n",
       "        <tr>\n",
       "            <td>Tampere</td>\n",
       "        </tr>\n",
       "        <tr>\n",
       "            <td>Nokia</td>\n",
       "        </tr>\n",
       "        <tr>\n",
       "            <td>Tampere</td>\n",
       "        </tr>\n",
       "        <tr>\n",
       "            <td>Lempäälä</td>\n",
       "        </tr>\n",
       "        <tr>\n",
       "            <td>Nokia</td>\n",
       "        </tr>\n",
       "    </tbody>\n",
       "</table>"
      ],
      "text/plain": [
       "[('Tampere',), ('Nokia',), ('Tampere',), ('Lempäälä',), ('Nokia',)]"
      ]
     },
     "execution_count": 28,
     "metadata": {},
     "output_type": "execute_result"
    }
   ],
   "source": [
    "%%sql\n",
    "SELECT locality\n",
    "FROM employee;"
   ]
  },
  {
   "cell_type": "code",
   "execution_count": 29,
   "metadata": {},
   "outputs": [
    {
     "name": "stdout",
     "output_type": "stream",
     "text": [
      " * sqlite://\n",
      "Done.\n"
     ]
    },
    {
     "data": {
      "text/html": [
       "<table>\n",
       "    <thead>\n",
       "        <tr>\n",
       "            <th>locality</th>\n",
       "        </tr>\n",
       "    </thead>\n",
       "    <tbody>\n",
       "        <tr>\n",
       "            <td>Tampere</td>\n",
       "        </tr>\n",
       "        <tr>\n",
       "            <td>Nokia</td>\n",
       "        </tr>\n",
       "        <tr>\n",
       "            <td>Lempäälä</td>\n",
       "        </tr>\n",
       "    </tbody>\n",
       "</table>"
      ],
      "text/plain": [
       "[('Tampere',), ('Nokia',), ('Lempäälä',)]"
      ]
     },
     "execution_count": 29,
     "metadata": {},
     "output_type": "execute_result"
    }
   ],
   "source": [
    "%%sql\n",
    "SELECT DISTINCT locality\n",
    "FROM employee;"
   ]
  },
  {
   "cell_type": "code",
   "execution_count": 30,
   "metadata": {},
   "outputs": [
    {
     "name": "stdout",
     "output_type": "stream",
     "text": [
      " * sqlite://\n",
      "Done.\n"
     ]
    },
    {
     "data": {
      "text/html": [
       "<table>\n",
       "    <thead>\n",
       "        <tr>\n",
       "            <th>enum</th>\n",
       "            <th>lastname</th>\n",
       "        </tr>\n",
       "    </thead>\n",
       "    <tbody>\n",
       "        <tr>\n",
       "            <td>88</td>\n",
       "            <td>Susi</td>\n",
       "        </tr>\n",
       "        <tr>\n",
       "            <td>12</td>\n",
       "            <td>Puro</td>\n",
       "        </tr>\n",
       "        <tr>\n",
       "            <td>98</td>\n",
       "            <td>Joki</td>\n",
       "        </tr>\n",
       "    </tbody>\n",
       "</table>"
      ],
      "text/plain": [
       "[(88, 'Susi'), (12, 'Puro'), (98, 'Joki')]"
      ]
     },
     "execution_count": 30,
     "metadata": {},
     "output_type": "execute_result"
    }
   ],
   "source": [
    "%%sql\n",
    "\n",
    "SELECT enum , lastname\n",
    "FROM employee\n",
    "WHERE locality IN ('Lempäälä', 'Parkano', 'Tampere');"
   ]
  },
  {
   "cell_type": "code",
   "execution_count": 31,
   "metadata": {},
   "outputs": [],
   "source": [
    "### Value combination does not work in sqlite"
   ]
  },
  {
   "cell_type": "code",
   "execution_count": 32,
   "metadata": {},
   "outputs": [
    {
     "name": "stdout",
     "output_type": "stream",
     "text": [
      " * sqlite://\n",
      "(sqlite3.OperationalError) row value misused\n",
      "[SQL: SELECT enum , lastname\n",
      "FROM employee\n",
      "WHERE (lastname , locality ) IN (('Viima', 'Nokia'),\n",
      "                                 ('Viima', 'Tampere'));]\n",
      "(Background on this error at: http://sqlalche.me/e/13/e3q8)\n"
     ]
    }
   ],
   "source": [
    "%%sql\n",
    "SELECT enum , lastname\n",
    "FROM employee\n",
    "WHERE (lastname , locality ) IN (('Viima', 'Nokia'),\n",
    "                                 ('Viima', 'Tampere'));"
   ]
  },
  {
   "cell_type": "code",
   "execution_count": 33,
   "metadata": {},
   "outputs": [
    {
     "name": "stdout",
     "output_type": "stream",
     "text": [
      " * sqlite://\n",
      "(sqlite3.OperationalError) near \"NUL\": syntax error\n",
      "[SQL: CREATE TABLE table1( nimi varchar(15) NOT NUL);]\n",
      "(Background on this error at: http://sqlalche.me/e/13/e3q8)\n"
     ]
    }
   ],
   "source": [
    "%%sql \n",
    "\n",
    "CREATE TABLE table1( nimi varchar(15) NOT NUL);\n",
    "\n",
    "INSERT INTO table1 VALUES('Alfred');\n",
    "INSERT INTO table1 VALUES('Bertta');\n",
    "INSERT INTO table1 VALUES('Bertta');\n",
    "INSERT INTO table1 VALUES('Cecilia');\n",
    "INSERT INTO table1 VALUES('Cecilia');\n",
    "INSERT INTO table1 VALUES('Cecilia');                \n",
    "\n",
    "SELECT * from table1;"
   ]
  },
  {
   "cell_type": "code",
   "execution_count": 34,
   "metadata": {},
   "outputs": [
    {
     "name": "stdout",
     "output_type": "stream",
     "text": [
      " * sqlite://\n",
      "Done.\n",
      "1 rows affected.\n",
      "1 rows affected.\n",
      "1 rows affected.\n",
      "1 rows affected.\n",
      "1 rows affected.\n",
      "1 rows affected.\n",
      "Done.\n"
     ]
    },
    {
     "data": {
      "text/html": [
       "<table>\n",
       "    <thead>\n",
       "        <tr>\n",
       "            <th>nimi</th>\n",
       "        </tr>\n",
       "    </thead>\n",
       "    <tbody>\n",
       "        <tr>\n",
       "            <td>Alfred</td>\n",
       "        </tr>\n",
       "        <tr>\n",
       "            <td>Bertta</td>\n",
       "        </tr>\n",
       "        <tr>\n",
       "            <td>Bertta</td>\n",
       "        </tr>\n",
       "        <tr>\n",
       "            <td>Cecilia</td>\n",
       "        </tr>\n",
       "        <tr>\n",
       "            <td>Cecilia</td>\n",
       "        </tr>\n",
       "        <tr>\n",
       "            <td>Cecilia</td>\n",
       "        </tr>\n",
       "    </tbody>\n",
       "</table>"
      ],
      "text/plain": [
       "[('Alfred',),\n",
       " ('Bertta',),\n",
       " ('Bertta',),\n",
       " ('Cecilia',),\n",
       " ('Cecilia',),\n",
       " ('Cecilia',)]"
      ]
     },
     "execution_count": 34,
     "metadata": {},
     "output_type": "execute_result"
    }
   ],
   "source": [
    "%%sql \n",
    "\n",
    "CREATE TABLE table1(nimi varchar(50) NOT NULL);\n",
    "\n",
    "INSERT INTO table1 VALUES('Alfred');\n",
    "INSERT INTO table1 VALUES('Bertta');\n",
    "INSERT INTO table1 VALUES('Bertta');\n",
    "INSERT INTO table1 VALUES('Cecilia');\n",
    "INSERT INTO table1 VALUES('Cecilia');\n",
    "INSERT INTO table1 VALUES('Cecilia');  \n",
    "\n",
    "SELECT * from table1;\n"
   ]
  },
  {
   "cell_type": "code",
   "execution_count": 35,
   "metadata": {},
   "outputs": [
    {
     "name": "stdout",
     "output_type": "stream",
     "text": [
      " * sqlite://\n",
      "Done.\n",
      "1 rows affected.\n",
      "1 rows affected.\n",
      "1 rows affected.\n",
      "Done.\n"
     ]
    },
    {
     "data": {
      "text/html": [
       "<table>\n",
       "    <thead>\n",
       "        <tr>\n",
       "            <th>nimi</th>\n",
       "        </tr>\n",
       "    </thead>\n",
       "    <tbody>\n",
       "        <tr>\n",
       "            <td>Alfred</td>\n",
       "        </tr>\n",
       "        <tr>\n",
       "            <td>Cecilia</td>\n",
       "        </tr>\n",
       "        <tr>\n",
       "            <td>Cecilia</td>\n",
       "        </tr>\n",
       "    </tbody>\n",
       "</table>"
      ],
      "text/plain": [
       "[('Alfred',), ('Cecilia',), ('Cecilia',)]"
      ]
     },
     "execution_count": 35,
     "metadata": {},
     "output_type": "execute_result"
    }
   ],
   "source": [
    "%%sql \n",
    "\n",
    "CREATE TABLE table2(nimi varchar(50) NOT NULL);\n",
    "\n",
    "INSERT INTO table2 VALUES('Alfred');\n",
    "INSERT INTO table2 VALUES('Cecilia');\n",
    "INSERT INTO table2 VALUES('Cecilia');\n",
    "\n",
    "\n",
    "SELECT * from table2;\n"
   ]
  },
  {
   "cell_type": "code",
   "execution_count": 36,
   "metadata": {},
   "outputs": [
    {
     "name": "stdout",
     "output_type": "stream",
     "text": [
      " * sqlite://\n",
      "Done.\n"
     ]
    },
    {
     "data": {
      "text/html": [
       "<table>\n",
       "    <thead>\n",
       "        <tr>\n",
       "            <th>nimi</th>\n",
       "        </tr>\n",
       "    </thead>\n",
       "    <tbody>\n",
       "        <tr>\n",
       "            <td>Alfred</td>\n",
       "        </tr>\n",
       "        <tr>\n",
       "            <td>Bertta</td>\n",
       "        </tr>\n",
       "        <tr>\n",
       "            <td>Cecilia</td>\n",
       "        </tr>\n",
       "    </tbody>\n",
       "</table>"
      ],
      "text/plain": [
       "[('Alfred',), ('Bertta',), ('Cecilia',)]"
      ]
     },
     "execution_count": 36,
     "metadata": {},
     "output_type": "execute_result"
    }
   ],
   "source": [
    "%%sql \n",
    "\n",
    "SELECT nimi\n",
    "FROM table1\n",
    "UNION\n",
    "SELECT nimi\n",
    "FROM table2;"
   ]
  },
  {
   "cell_type": "code",
   "execution_count": 37,
   "metadata": {},
   "outputs": [
    {
     "name": "stdout",
     "output_type": "stream",
     "text": [
      " * sqlite://\n",
      "Done.\n"
     ]
    },
    {
     "data": {
      "text/html": [
       "<table>\n",
       "    <thead>\n",
       "        <tr>\n",
       "            <th>nimi</th>\n",
       "        </tr>\n",
       "    </thead>\n",
       "    <tbody>\n",
       "        <tr>\n",
       "            <td>Alfred</td>\n",
       "        </tr>\n",
       "        <tr>\n",
       "            <td>Cecilia</td>\n",
       "        </tr>\n",
       "    </tbody>\n",
       "</table>"
      ],
      "text/plain": [
       "[('Alfred',), ('Cecilia',)]"
      ]
     },
     "execution_count": 37,
     "metadata": {},
     "output_type": "execute_result"
    }
   ],
   "source": [
    "%%sql \n",
    "SELECT nimi\n",
    "FROM table1\n",
    "INTERSECT\n",
    "SELECT nimi\n",
    "FROM table2;"
   ]
  },
  {
   "cell_type": "code",
   "execution_count": 38,
   "metadata": {},
   "outputs": [
    {
     "name": "stdout",
     "output_type": "stream",
     "text": [
      " * sqlite://\n",
      "Done.\n"
     ]
    },
    {
     "data": {
      "text/html": [
       "<table>\n",
       "    <thead>\n",
       "        <tr>\n",
       "            <th>nimi</th>\n",
       "        </tr>\n",
       "    </thead>\n",
       "    <tbody>\n",
       "        <tr>\n",
       "            <td>Bertta</td>\n",
       "        </tr>\n",
       "    </tbody>\n",
       "</table>"
      ],
      "text/plain": [
       "[('Bertta',)]"
      ]
     },
     "execution_count": 38,
     "metadata": {},
     "output_type": "execute_result"
    }
   ],
   "source": [
    "%%sql \n",
    "SELECT nimi\n",
    "FROM table1\n",
    "EXCEPT\n",
    "SELECT nimi\n",
    "FROM table2;"
   ]
  },
  {
   "cell_type": "code",
   "execution_count": 39,
   "metadata": {},
   "outputs": [
    {
     "name": "stdout",
     "output_type": "stream",
     "text": [
      " * sqlite://\n",
      "Done.\n"
     ]
    },
    {
     "data": {
      "text/html": [
       "<table>\n",
       "    <thead>\n",
       "        <tr>\n",
       "            <th>nimi</th>\n",
       "        </tr>\n",
       "    </thead>\n",
       "    <tbody>\n",
       "        <tr>\n",
       "            <td>Alfred</td>\n",
       "        </tr>\n",
       "        <tr>\n",
       "            <td>Bertta</td>\n",
       "        </tr>\n",
       "        <tr>\n",
       "            <td>Bertta</td>\n",
       "        </tr>\n",
       "        <tr>\n",
       "            <td>Cecilia</td>\n",
       "        </tr>\n",
       "        <tr>\n",
       "            <td>Cecilia</td>\n",
       "        </tr>\n",
       "        <tr>\n",
       "            <td>Cecilia</td>\n",
       "        </tr>\n",
       "        <tr>\n",
       "            <td>Alfred</td>\n",
       "        </tr>\n",
       "        <tr>\n",
       "            <td>Cecilia</td>\n",
       "        </tr>\n",
       "        <tr>\n",
       "            <td>Cecilia</td>\n",
       "        </tr>\n",
       "    </tbody>\n",
       "</table>"
      ],
      "text/plain": [
       "[('Alfred',),\n",
       " ('Bertta',),\n",
       " ('Bertta',),\n",
       " ('Cecilia',),\n",
       " ('Cecilia',),\n",
       " ('Cecilia',),\n",
       " ('Alfred',),\n",
       " ('Cecilia',),\n",
       " ('Cecilia',)]"
      ]
     },
     "execution_count": 39,
     "metadata": {},
     "output_type": "execute_result"
    }
   ],
   "source": [
    "%%sql \n",
    "\n",
    "SELECT nimi\n",
    "FROM table1\n",
    "UNION ALL\n",
    "SELECT nimi\n",
    "FROM table2;"
   ]
  },
  {
   "cell_type": "code",
   "execution_count": 40,
   "metadata": {},
   "outputs": [
    {
     "name": "stdout",
     "output_type": "stream",
     "text": [
      " * sqlite://\n",
      "Done.\n"
     ]
    },
    {
     "data": {
      "text/html": [
       "<table>\n",
       "    <thead>\n",
       "        <tr>\n",
       "            <th>nimi</th>\n",
       "        </tr>\n",
       "    </thead>\n",
       "    <tbody>\n",
       "        <tr>\n",
       "            <td>Alfred</td>\n",
       "        </tr>\n",
       "        <tr>\n",
       "            <td>Bertta</td>\n",
       "        </tr>\n",
       "        <tr>\n",
       "            <td>Cecilia</td>\n",
       "        </tr>\n",
       "    </tbody>\n",
       "</table>"
      ],
      "text/plain": [
       "[('Alfred',), ('Bertta',), ('Cecilia',)]"
      ]
     },
     "execution_count": 40,
     "metadata": {},
     "output_type": "execute_result"
    }
   ],
   "source": [
    "%%sql \n",
    "\n",
    "SELECT nimi\n",
    "FROM table1\n",
    "UNION\n",
    "SELECT nimi\n",
    "FROM table2;"
   ]
  },
  {
   "cell_type": "code",
   "execution_count": 41,
   "metadata": {},
   "outputs": [
    {
     "name": "stdout",
     "output_type": "stream",
     "text": [
      " * sqlite://\n",
      "Done.\n"
     ]
    },
    {
     "data": {
      "text/html": [
       "<table>\n",
       "    <thead>\n",
       "        <tr>\n",
       "            <th>nimi</th>\n",
       "        </tr>\n",
       "    </thead>\n",
       "    <tbody>\n",
       "        <tr>\n",
       "            <td>Alfred</td>\n",
       "        </tr>\n",
       "        <tr>\n",
       "            <td>Cecilia</td>\n",
       "        </tr>\n",
       "    </tbody>\n",
       "</table>"
      ],
      "text/plain": [
       "[('Alfred',), ('Cecilia',)]"
      ]
     },
     "execution_count": 41,
     "metadata": {},
     "output_type": "execute_result"
    }
   ],
   "source": [
    "%%sql \n",
    "SELECT nimi\n",
    "FROM table1\n",
    "INTERSECT\n",
    "SELECT nimi\n",
    "FROM table2;"
   ]
  },
  {
   "cell_type": "code",
   "execution_count": 42,
   "metadata": {},
   "outputs": [
    {
     "name": "stdout",
     "output_type": "stream",
     "text": [
      " * sqlite://\n",
      "(sqlite3.OperationalError) near \"ALL\": syntax error\n",
      "[SQL: SELECT nimi\n",
      "FROM table1\n",
      "INTERSECT ALL\n",
      "SELECT nimi\n",
      "FROM table2;]\n",
      "(Background on this error at: http://sqlalche.me/e/13/e3q8)\n"
     ]
    }
   ],
   "source": [
    "%%sql \n",
    "SELECT nimi\n",
    "FROM table1\n",
    "INTERSECT ALL\n",
    "SELECT nimi\n",
    "FROM table2;"
   ]
  },
  {
   "cell_type": "code",
   "execution_count": 43,
   "metadata": {},
   "outputs": [
    {
     "name": "stdout",
     "output_type": "stream",
     "text": [
      " * sqlite://\n",
      "Done.\n"
     ]
    },
    {
     "data": {
      "text/html": [
       "<table>\n",
       "    <thead>\n",
       "        <tr>\n",
       "            <th>nimi</th>\n",
       "        </tr>\n",
       "    </thead>\n",
       "    <tbody>\n",
       "        <tr>\n",
       "            <td>Bertta</td>\n",
       "        </tr>\n",
       "    </tbody>\n",
       "</table>"
      ],
      "text/plain": [
       "[('Bertta',)]"
      ]
     },
     "execution_count": 43,
     "metadata": {},
     "output_type": "execute_result"
    }
   ],
   "source": [
    "%%sql\n",
    "SELECT nimi\n",
    "FROM table1\n",
    "EXCEPT\n",
    "SELECT nimi\n",
    "FROM table2;"
   ]
  },
  {
   "cell_type": "code",
   "execution_count": 44,
   "metadata": {},
   "outputs": [
    {
     "name": "stdout",
     "output_type": "stream",
     "text": [
      " * sqlite://\n",
      "(sqlite3.OperationalError) near \"ALL\": syntax error\n",
      "[SQL: SELECT nimi\n",
      "FROM table1\n",
      "EXCEPT ALL\n",
      "SELECT nimi\n",
      "FROM table2;]\n",
      "(Background on this error at: http://sqlalche.me/e/13/e3q8)\n"
     ]
    }
   ],
   "source": [
    "%%sql\n",
    "\n",
    "SELECT nimi\n",
    "FROM table1\n",
    "EXCEPT ALL\n",
    "SELECT nimi\n",
    "FROM table2;\n"
   ]
  },
  {
   "cell_type": "markdown",
   "metadata": {},
   "source": [
    "# Aggregate functions"
   ]
  },
  {
   "cell_type": "markdown",
   "metadata": {},
   "source": [
    "Aggregate functions are used to summarise information in\n",
    "database tables.\n",
    "- COUNT: number of rows or values\n",
    "- SUM: sum of values\n",
    "- MAX: maximum of values\n",
    "- MIN: minimum of values\n",
    "- AVG: average of values"
   ]
  },
  {
   "cell_type": "code",
   "execution_count": 45,
   "metadata": {},
   "outputs": [
    {
     "name": "stdout",
     "output_type": "stream",
     "text": [
      " * sqlite://\n",
      "Done.\n"
     ]
    },
    {
     "data": {
      "text/html": [
       "<table>\n",
       "    <thead>\n",
       "        <tr>\n",
       "            <th>AVG(salary)</th>\n",
       "            <th>SUM(salary)</th>\n",
       "            <th>COUNT(salary)</th>\n",
       "        </tr>\n",
       "    </thead>\n",
       "    <tbody>\n",
       "        <tr>\n",
       "            <td>3860.1</td>\n",
       "            <td>19300.5</td>\n",
       "            <td>5</td>\n",
       "        </tr>\n",
       "    </tbody>\n",
       "</table>"
      ],
      "text/plain": [
       "[(3860.1, 19300.5, 5)]"
      ]
     },
     "execution_count": 45,
     "metadata": {},
     "output_type": "execute_result"
    }
   ],
   "source": [
    "%%sql\n",
    "SELECT AVG(salary), SUM(salary), COUNT(salary)\n",
    "FROM employee;"
   ]
  },
  {
   "cell_type": "code",
   "execution_count": 46,
   "metadata": {},
   "outputs": [
    {
     "name": "stdout",
     "output_type": "stream",
     "text": [
      " * sqlite://\n",
      "Done.\n"
     ]
    },
    {
     "data": {
      "text/html": [
       "<table>\n",
       "    <thead>\n",
       "        <tr>\n",
       "            <th>salary_avg</th>\n",
       "            <th>salary_sum</th>\n",
       "            <th>salary_no</th>\n",
       "        </tr>\n",
       "    </thead>\n",
       "    <tbody>\n",
       "        <tr>\n",
       "            <td>3860.1</td>\n",
       "            <td>19300.5</td>\n",
       "            <td>5</td>\n",
       "        </tr>\n",
       "    </tbody>\n",
       "</table>"
      ],
      "text/plain": [
       "[(3860.1, 19300.5, 5)]"
      ]
     },
     "execution_count": 46,
     "metadata": {},
     "output_type": "execute_result"
    }
   ],
   "source": [
    "%%sql\n",
    "SELECT AVG(salary) AS salary_avg,\n",
    "SUM(salary) AS salary_sum,\n",
    "COUNT(salary) AS salary_no\n",
    "FROM employee;"
   ]
  },
  {
   "cell_type": "code",
   "execution_count": 47,
   "metadata": {},
   "outputs": [
    {
     "name": "stdout",
     "output_type": "stream",
     "text": [
      " * sqlite://\n",
      "Done.\n"
     ]
    },
    {
     "data": {
      "text/html": [
       "<table>\n",
       "    <thead>\n",
       "        <tr>\n",
       "            <th>avg_salary</th>\n",
       "        </tr>\n",
       "    </thead>\n",
       "    <tbody>\n",
       "        <tr>\n",
       "            <td>3860.1</td>\n",
       "        </tr>\n",
       "    </tbody>\n",
       "</table>"
      ],
      "text/plain": [
       "[(3860.1,)]"
      ]
     },
     "execution_count": 47,
     "metadata": {},
     "output_type": "execute_result"
    }
   ],
   "source": [
    "%%sql\n",
    "SELECT ROUND(AVG(salary),2) AS avg_salary\n",
    "FROM employee;"
   ]
  },
  {
   "cell_type": "code",
   "execution_count": 48,
   "metadata": {},
   "outputs": [
    {
     "name": "stdout",
     "output_type": "stream",
     "text": [
      " * sqlite://\n",
      "Done.\n"
     ]
    },
    {
     "data": {
      "text/html": [
       "<table>\n",
       "    <thead>\n",
       "        <tr>\n",
       "            <th>count</th>\n",
       "        </tr>\n",
       "    </thead>\n",
       "    <tbody>\n",
       "        <tr>\n",
       "            <td>5</td>\n",
       "        </tr>\n",
       "    </tbody>\n",
       "</table>"
      ],
      "text/plain": [
       "[(5,)]"
      ]
     },
     "execution_count": 48,
     "metadata": {},
     "output_type": "execute_result"
    }
   ],
   "source": [
    "%%sql\n",
    "SELECT COUNT(*) AS count\n",
    "FROM employee;"
   ]
  },
  {
   "cell_type": "code",
   "execution_count": 49,
   "metadata": {},
   "outputs": [
    {
     "name": "stdout",
     "output_type": "stream",
     "text": [
      " * sqlite://\n",
      "Done.\n"
     ]
    },
    {
     "data": {
      "text/html": [
       "<table>\n",
       "    <thead>\n",
       "        <tr>\n",
       "            <th>salary_count</th>\n",
       "        </tr>\n",
       "    </thead>\n",
       "    <tbody>\n",
       "        <tr>\n",
       "            <td>5</td>\n",
       "        </tr>\n",
       "    </tbody>\n",
       "</table>"
      ],
      "text/plain": [
       "[(5,)]"
      ]
     },
     "execution_count": 49,
     "metadata": {},
     "output_type": "execute_result"
    }
   ],
   "source": [
    "%%sql\n",
    "SELECT COUNT(salary) as salary_count\n",
    "FROM employee;"
   ]
  },
  {
   "cell_type": "code",
   "execution_count": 50,
   "metadata": {},
   "outputs": [
    {
     "name": "stdout",
     "output_type": "stream",
     "text": [
      " * sqlite://\n",
      "Done.\n"
     ]
    },
    {
     "data": {
      "text/html": [
       "<table>\n",
       "    <thead>\n",
       "        <tr>\n",
       "            <th>super_enum</th>\n",
       "        </tr>\n",
       "    </thead>\n",
       "    <tbody>\n",
       "        <tr>\n",
       "            <td>4</td>\n",
       "        </tr>\n",
       "    </tbody>\n",
       "</table>"
      ],
      "text/plain": [
       "[(4,)]"
      ]
     },
     "execution_count": 50,
     "metadata": {},
     "output_type": "execute_result"
    }
   ],
   "source": [
    "%%sql\n",
    "SELECT COUNT(super_enum) as super_enum\n",
    "FROM employee;"
   ]
  },
  {
   "cell_type": "code",
   "execution_count": 51,
   "metadata": {},
   "outputs": [
    {
     "name": "stdout",
     "output_type": "stream",
     "text": [
      " * sqlite://\n",
      "Done.\n"
     ]
    },
    {
     "data": {
      "text/html": [
       "<table>\n",
       "    <thead>\n",
       "        <tr>\n",
       "            <th>localities</th>\n",
       "        </tr>\n",
       "    </thead>\n",
       "    <tbody>\n",
       "        <tr>\n",
       "            <td>3</td>\n",
       "        </tr>\n",
       "    </tbody>\n",
       "</table>"
      ],
      "text/plain": [
       "[(3,)]"
      ]
     },
     "execution_count": 51,
     "metadata": {},
     "output_type": "execute_result"
    }
   ],
   "source": [
    "%%sql\n",
    "SELECT COUNT(DISTINCT locality) AS localities\n",
    "FROM employee;"
   ]
  },
  {
   "cell_type": "code",
   "execution_count": 52,
   "metadata": {},
   "outputs": [
    {
     "name": "stdout",
     "output_type": "stream",
     "text": [
      " * sqlite://\n",
      "Done.\n"
     ]
    },
    {
     "data": {
      "text/html": [
       "<table>\n",
       "    <thead>\n",
       "        <tr>\n",
       "            <th>locality</th>\n",
       "            <th>e_no</th>\n",
       "        </tr>\n",
       "    </thead>\n",
       "    <tbody>\n",
       "        <tr>\n",
       "            <td>Lempäälä</td>\n",
       "            <td>1</td>\n",
       "        </tr>\n",
       "        <tr>\n",
       "            <td>Nokia</td>\n",
       "            <td>2</td>\n",
       "        </tr>\n",
       "        <tr>\n",
       "            <td>Tampere</td>\n",
       "            <td>2</td>\n",
       "        </tr>\n",
       "    </tbody>\n",
       "</table>"
      ],
      "text/plain": [
       "[('Lempäälä', 1), ('Nokia', 2), ('Tampere', 2)]"
      ]
     },
     "execution_count": 52,
     "metadata": {},
     "output_type": "execute_result"
    }
   ],
   "source": [
    "%%sql\n",
    "SELECT locality, COUNT(locality) AS e_no\n",
    "FROM employee\n",
    "GROUP BY locality;"
   ]
  },
  {
   "cell_type": "code",
   "execution_count": 53,
   "metadata": {},
   "outputs": [
    {
     "name": "stdout",
     "output_type": "stream",
     "text": [
      " * sqlite://\n",
      "Done.\n"
     ]
    },
    {
     "data": {
      "text/html": [
       "<table>\n",
       "    <thead>\n",
       "        <tr>\n",
       "            <th>locality</th>\n",
       "            <th>e_no</th>\n",
       "        </tr>\n",
       "    </thead>\n",
       "    <tbody>\n",
       "        <tr>\n",
       "            <td>Nokia</td>\n",
       "            <td>2</td>\n",
       "        </tr>\n",
       "        <tr>\n",
       "            <td>Tampere</td>\n",
       "            <td>2</td>\n",
       "        </tr>\n",
       "    </tbody>\n",
       "</table>"
      ],
      "text/plain": [
       "[('Nokia', 2), ('Tampere', 2)]"
      ]
     },
     "execution_count": 53,
     "metadata": {},
     "output_type": "execute_result"
    }
   ],
   "source": [
    "%%sql\n",
    "\n",
    "SELECT locality, COUNT(locality) AS e_no\n",
    "FROM employee\n",
    "GROUP BY locality\n",
    "HAVING COUNT(*) > 1;"
   ]
  },
  {
   "cell_type": "code",
   "execution_count": 54,
   "metadata": {},
   "outputs": [
    {
     "name": "stdout",
     "output_type": "stream",
     "text": [
      " * sqlite://\n",
      "Done.\n"
     ]
    },
    {
     "data": {
      "text/html": [
       "<table>\n",
       "    <thead>\n",
       "        <tr>\n",
       "            <th>locality</th>\n",
       "            <th>e_no</th>\n",
       "        </tr>\n",
       "    </thead>\n",
       "    <tbody>\n",
       "        <tr>\n",
       "            <td>Lempäälä</td>\n",
       "            <td>1</td>\n",
       "        </tr>\n",
       "    </tbody>\n",
       "</table>"
      ],
      "text/plain": [
       "[('Lempäälä', 1)]"
      ]
     },
     "execution_count": 54,
     "metadata": {},
     "output_type": "execute_result"
    }
   ],
   "source": [
    "%%sql\n",
    "\n",
    "SELECT locality, COUNT(locality) AS e_no\n",
    "FROM employee\n",
    "GROUP BY locality\n",
    "HAVING COUNT(*) < 2;"
   ]
  },
  {
   "cell_type": "code",
   "execution_count": 55,
   "metadata": {},
   "outputs": [
    {
     "name": "stdout",
     "output_type": "stream",
     "text": [
      " * sqlite://\n",
      "(sqlite3.OperationalError) table project already exists\n",
      "[SQL: CREATE TABLE project(pnum INT,  \n",
      "                     pname varchar(15) NOT NULL,                    \n",
      "                     PRIMARY KEY(pnum),\n",
      "                     UNIQUE(pname));]\n",
      "(Background on this error at: http://sqlalche.me/e/13/e3q8)\n"
     ]
    }
   ],
   "source": [
    "%%sql \n",
    "\n",
    "CREATE TABLE project(pnum INT,  \n",
    "                     pname varchar(15) NOT NULL,                    \n",
    "                     PRIMARY KEY(pnum),\n",
    "                     UNIQUE(pname));\n",
    "\n",
    "INSERT INTO project VALUES(1,'Product X');\n",
    "INSERT INTO project VALUES(2,'Product Y');\n",
    "INSERT INTO project VALUES(3,'Product Z');\n",
    "\n",
    "SELECT * from project;"
   ]
  },
  {
   "cell_type": "code",
   "execution_count": 56,
   "metadata": {},
   "outputs": [
    {
     "name": "stdout",
     "output_type": "stream",
     "text": [
      " * sqlite://\n",
      "(sqlite3.OperationalError) no such column: project.dnum\n",
      "[SQL: SELECT department.dnum ,department.dname , COUNT(*) AS projects_no\n",
      "FROM department , project \n",
      "WHERE department.dnum = project.dnum\n",
      "GROUP BY department.dnum , department.dname\n",
      "HAVING COUNT(*) > 1 \n",
      "ORDER BY department.dname;]\n",
      "(Background on this error at: http://sqlalche.me/e/13/e3q8)\n"
     ]
    }
   ],
   "source": [
    "%%sql\n",
    "\n",
    "SELECT department.dnum ,department.dname , COUNT(*) AS projects_no\n",
    "FROM department , project \n",
    "WHERE department.dnum = project.dnum\n",
    "GROUP BY department.dnum , department.dname\n",
    "HAVING COUNT(*) > 1 \n",
    "ORDER BY department.dname;"
   ]
  },
  {
   "cell_type": "code",
   "execution_count": 57,
   "metadata": {},
   "outputs": [
    {
     "name": "stdout",
     "output_type": "stream",
     "text": [
      " * sqlite://\n",
      "Done.\n"
     ]
    },
    {
     "data": {
      "text/html": [
       "<table>\n",
       "    <thead>\n",
       "        <tr>\n",
       "            <th>firstname</th>\n",
       "        </tr>\n",
       "    </thead>\n",
       "    <tbody>\n",
       "        <tr>\n",
       "            <td>Pekka</td>\n",
       "        </tr>\n",
       "        <tr>\n",
       "            <td>Jenni</td>\n",
       "        </tr>\n",
       "    </tbody>\n",
       "</table>"
      ],
      "text/plain": [
       "[('Pekka',), ('Jenni',)]"
      ]
     },
     "execution_count": 57,
     "metadata": {},
     "output_type": "execute_result"
    }
   ],
   "source": [
    "%%sql\n",
    "\n",
    "SELECT firstname\n",
    "FROM employee\n",
    "WHERE firstname LIKE '_e%';"
   ]
  },
  {
   "cell_type": "code",
   "execution_count": 58,
   "metadata": {},
   "outputs": [
    {
     "name": "stdout",
     "output_type": "stream",
     "text": [
      " * sqlite://\n",
      "Done.\n"
     ]
    },
    {
     "data": {
      "text/html": [
       "<table>\n",
       "    <thead>\n",
       "        <tr>\n",
       "            <th>firstname</th>\n",
       "        </tr>\n",
       "    </thead>\n",
       "    <tbody>\n",
       "        <tr>\n",
       "            <td>Alli</td>\n",
       "        </tr>\n",
       "    </tbody>\n",
       "</table>"
      ],
      "text/plain": [
       "[('Alli',)]"
      ]
     },
     "execution_count": 58,
     "metadata": {},
     "output_type": "execute_result"
    }
   ],
   "source": [
    "%%sql\n",
    "\n",
    "SELECT firstname\n",
    "FROM employee\n",
    "WHERE firstname NOT LIKE '_____';"
   ]
  },
  {
   "cell_type": "code",
   "execution_count": 59,
   "metadata": {},
   "outputs": [
    {
     "name": "stdout",
     "output_type": "stream",
     "text": [
      " * sqlite://\n",
      "Done.\n"
     ]
    },
    {
     "data": {
      "text/html": [
       "<table>\n",
       "    <thead>\n",
       "        <tr>\n",
       "            <th>firstname</th>\n",
       "            <th>lastname</th>\n",
       "            <th>enum</th>\n",
       "        </tr>\n",
       "    </thead>\n",
       "    <tbody>\n",
       "        <tr>\n",
       "            <td>Jukka</td>\n",
       "            <td>Susi</td>\n",
       "            <td>88</td>\n",
       "        </tr>\n",
       "        <tr>\n",
       "            <td>Jenni</td>\n",
       "            <td>Joki</td>\n",
       "            <td>98</td>\n",
       "        </tr>\n",
       "        <tr>\n",
       "            <td>Alli</td>\n",
       "            <td>Viima</td>\n",
       "            <td>99</td>\n",
       "        </tr>\n",
       "    </tbody>\n",
       "</table>"
      ],
      "text/plain": [
       "[('Jukka', 'Susi', 88), ('Jenni', 'Joki', 98), ('Alli', 'Viima', 99)]"
      ]
     },
     "execution_count": 59,
     "metadata": {},
     "output_type": "execute_result"
    }
   ],
   "source": [
    "%%sql\n",
    "SELECT firstname, lastname, enum\n",
    "FROM employee\n",
    "WHERE enum BETWEEN 50 AND 99;"
   ]
  },
  {
   "cell_type": "code",
   "execution_count": 60,
   "metadata": {},
   "outputs": [
    {
     "name": "stdout",
     "output_type": "stream",
     "text": [
      " * sqlite://\n",
      "Done.\n"
     ]
    },
    {
     "data": {
      "text/html": [
       "<table>\n",
       "    <thead>\n",
       "        <tr>\n",
       "            <th>lastname</th>\n",
       "            <th>firstname</th>\n",
       "        </tr>\n",
       "    </thead>\n",
       "    <tbody>\n",
       "        <tr>\n",
       "            <td>Joki</td>\n",
       "            <td>Jenni</td>\n",
       "        </tr>\n",
       "    </tbody>\n",
       "</table>"
      ],
      "text/plain": [
       "[('Joki', 'Jenni')]"
      ]
     },
     "execution_count": 60,
     "metadata": {},
     "output_type": "execute_result"
    }
   ],
   "source": [
    "%%sql\n",
    "\n",
    "SELECT lastname, firstname\n",
    "FROM employee\n",
    "WHERE lastname BETWEEN 'Joki' AND 'Joki' ;"
   ]
  },
  {
   "cell_type": "code",
   "execution_count": 61,
   "metadata": {},
   "outputs": [
    {
     "name": "stdout",
     "output_type": "stream",
     "text": [
      " * sqlite://\n",
      "Done.\n"
     ]
    },
    {
     "data": {
      "text/html": [
       "<table>\n",
       "    <thead>\n",
       "        <tr>\n",
       "            <th>firstname</th>\n",
       "            <th>lastname</th>\n",
       "        </tr>\n",
       "    </thead>\n",
       "    <tbody>\n",
       "        <tr>\n",
       "            <td>Jukka</td>\n",
       "            <td>Susi</td>\n",
       "        </tr>\n",
       "        <tr>\n",
       "            <td>Jenni</td>\n",
       "            <td>Joki</td>\n",
       "        </tr>\n",
       "    </tbody>\n",
       "</table>"
      ],
      "text/plain": [
       "[('Jukka', 'Susi'), ('Jenni', 'Joki')]"
      ]
     },
     "execution_count": 61,
     "metadata": {},
     "output_type": "execute_result"
    }
   ],
   "source": [
    "%%sql\n",
    "\n",
    "SELECT firstname, lastname\n",
    "FROM employee\n",
    "WHERE salary + 200 >= 4500;"
   ]
  },
  {
   "cell_type": "code",
   "execution_count": 62,
   "metadata": {},
   "outputs": [
    {
     "name": "stdout",
     "output_type": "stream",
     "text": [
      " * sqlite://\n",
      "5 rows affected.\n"
     ]
    },
    {
     "data": {
      "text/plain": [
       "[]"
      ]
     },
     "execution_count": 62,
     "metadata": {},
     "output_type": "execute_result"
    }
   ],
   "source": [
    "%%sql\n",
    "\n",
    "UPDATE employee\n",
    "SET salary = salary + 100;"
   ]
  },
  {
   "cell_type": "code",
   "execution_count": 63,
   "metadata": {},
   "outputs": [
    {
     "name": "stdout",
     "output_type": "stream",
     "text": [
      " * sqlite://\n",
      "Done.\n"
     ]
    },
    {
     "data": {
      "text/html": [
       "<table>\n",
       "    <thead>\n",
       "        <tr>\n",
       "            <th>enum</th>\n",
       "            <th>firstname</th>\n",
       "            <th>lastname</th>\n",
       "            <th>bdate</th>\n",
       "            <th>locality</th>\n",
       "            <th>salary</th>\n",
       "            <th>phone</th>\n",
       "            <th>deptnum</th>\n",
       "            <th>super_enum</th>\n",
       "        </tr>\n",
       "    </thead>\n",
       "    <tbody>\n",
       "        <tr>\n",
       "            <td>88</td>\n",
       "            <td>Jukka</td>\n",
       "            <td>Susi</td>\n",
       "            <td>1987-01-12</td>\n",
       "            <td>Tampere</td>\n",
       "            <td>5600</td>\n",
       "            <td>044585663</td>\n",
       "            <td>1</td>\n",
       "            <td>None</td>\n",
       "        </tr>\n",
       "        <tr>\n",
       "            <td>33</td>\n",
       "            <td>Ville</td>\n",
       "            <td>Viima</td>\n",
       "            <td>1990-03-01</td>\n",
       "            <td>Nokia</td>\n",
       "            <td>4100.5</td>\n",
       "            <td>044585664</td>\n",
       "            <td>5</td>\n",
       "            <td>88</td>\n",
       "        </tr>\n",
       "        <tr>\n",
       "            <td>12</td>\n",
       "            <td>Pekka</td>\n",
       "            <td>Puro</td>\n",
       "            <td>1993-01-18</td>\n",
       "            <td>Tampere</td>\n",
       "            <td>3100</td>\n",
       "            <td>044585665</td>\n",
       "            <td>5</td>\n",
       "            <td>33</td>\n",
       "        </tr>\n",
       "        <tr>\n",
       "            <td>98</td>\n",
       "            <td>Jenni</td>\n",
       "            <td>Joki</td>\n",
       "            <td>2000-04-21</td>\n",
       "            <td>Lempäälä</td>\n",
       "            <td>4400</td>\n",
       "            <td>044585666</td>\n",
       "            <td>4</td>\n",
       "            <td>88</td>\n",
       "        </tr>\n",
       "        <tr>\n",
       "            <td>99</td>\n",
       "            <td>Alli</td>\n",
       "            <td>Viima</td>\n",
       "            <td>1987-01-12</td>\n",
       "            <td>Nokia</td>\n",
       "            <td>2600</td>\n",
       "            <td>044585667</td>\n",
       "            <td>5</td>\n",
       "            <td>33</td>\n",
       "        </tr>\n",
       "    </tbody>\n",
       "</table>"
      ],
      "text/plain": [
       "[(88, 'Jukka', 'Susi', '1987-01-12', 'Tampere', 5600, '044585663', 1, None),\n",
       " (33, 'Ville', 'Viima', '1990-03-01', 'Nokia', 4100.5, '044585664', 5, 88),\n",
       " (12, 'Pekka', 'Puro', '1993-01-18', 'Tampere', 3100, '044585665', 5, 33),\n",
       " (98, 'Jenni', 'Joki', '2000-04-21', 'Lempäälä', 4400, '044585666', 4, 88),\n",
       " (99, 'Alli', 'Viima', '1987-01-12', 'Nokia', 2600, '044585667', 5, 33)]"
      ]
     },
     "execution_count": 63,
     "metadata": {},
     "output_type": "execute_result"
    }
   ],
   "source": [
    "%%sql\n",
    "\n",
    "SELECT *\n",
    "FROM employee;"
   ]
  },
  {
   "cell_type": "code",
   "execution_count": 64,
   "metadata": {},
   "outputs": [
    {
     "name": "stdout",
     "output_type": "stream",
     "text": [
      " * sqlite://\n",
      "Done.\n"
     ]
    },
    {
     "data": {
      "text/html": [
       "<table>\n",
       "    <thead>\n",
       "        <tr>\n",
       "            <th>lastname</th>\n",
       "            <th>raised</th>\n",
       "        </tr>\n",
       "    </thead>\n",
       "    <tbody>\n",
       "        <tr>\n",
       "            <td>Susi</td>\n",
       "            <td>6600</td>\n",
       "        </tr>\n",
       "        <tr>\n",
       "            <td>Viima</td>\n",
       "            <td>5100.5</td>\n",
       "        </tr>\n",
       "        <tr>\n",
       "            <td>Puro</td>\n",
       "            <td>4100</td>\n",
       "        </tr>\n",
       "        <tr>\n",
       "            <td>Joki</td>\n",
       "            <td>5400</td>\n",
       "        </tr>\n",
       "        <tr>\n",
       "            <td>Viima</td>\n",
       "            <td>3600</td>\n",
       "        </tr>\n",
       "    </tbody>\n",
       "</table>"
      ],
      "text/plain": [
       "[('Susi', 6600),\n",
       " ('Viima', 5100.5),\n",
       " ('Puro', 4100),\n",
       " ('Joki', 5400),\n",
       " ('Viima', 3600)]"
      ]
     },
     "execution_count": 64,
     "metadata": {},
     "output_type": "execute_result"
    }
   ],
   "source": [
    "%%sql\n",
    "SELECT lastname, salary + 1000 AS raised\n",
    "FROM employee;"
   ]
  },
  {
   "cell_type": "code",
   "execution_count": 65,
   "metadata": {},
   "outputs": [
    {
     "name": "stdout",
     "output_type": "stream",
     "text": [
      " * sqlite://\n",
      "(sqlite3.OperationalError) no such table: dependent\n",
      "[SQL: SELECT firstname , lastname , enum\n",
      "FROM employee\n",
      "WHERE enum IN (SELECT enum\n",
      "               FROM dependent);]\n",
      "(Background on this error at: http://sqlalche.me/e/13/e3q8)\n"
     ]
    }
   ],
   "source": [
    "%%sql\n",
    "\n",
    "SELECT firstname , lastname , enum\n",
    "FROM employee\n",
    "WHERE enum IN (SELECT enum\n",
    "               FROM dependent);"
   ]
  },
  {
   "cell_type": "code",
   "execution_count": 66,
   "metadata": {},
   "outputs": [
    {
     "name": "stdout",
     "output_type": "stream",
     "text": [
      " * sqlite://\n",
      "(sqlite3.OperationalError) no such table: dependent\n",
      "[SQL: SELECT firstname , lastname , enum\n",
      "FROM employee\n",
      "WHERE enum NOT IN (SELECT enum\n",
      "               FROM dependent);]\n",
      "(Background on this error at: http://sqlalche.me/e/13/e3q8)\n"
     ]
    }
   ],
   "source": [
    "%%sql\n",
    "\n",
    "SELECT firstname , lastname , enum\n",
    "FROM employee\n",
    "WHERE enum NOT IN (SELECT enum\n",
    "               FROM dependent);"
   ]
  },
  {
   "cell_type": "code",
   "execution_count": 69,
   "metadata": {},
   "outputs": [
    {
     "name": "stdout",
     "output_type": "stream",
     "text": [
      " * sqlite://\n",
      "(sqlite3.OperationalError) no such table: dependent\n",
      "[SQL: SELECT\n",
      "firstname , lastname , enum\n",
      "FROM employee\n",
      "WHERE EXISTS\n",
      "(SELECT *\n",
      "FROM dependent\n",
      "WHERE\n",
      "employee.enum = dependent.enum);]\n",
      "(Background on this error at: http://sqlalche.me/e/13/e3q8)\n"
     ]
    }
   ],
   "source": [
    "%%sql\n",
    "\n",
    "SELECT\n",
    "firstname , lastname , enum\n",
    "FROM employee\n",
    "WHERE EXISTS\n",
    "(SELECT *\n",
    "FROM dependent\n",
    "WHERE\n",
    "employee.enum = dependent.enum);"
   ]
  },
  {
   "cell_type": "code",
   "execution_count": null,
   "metadata": {},
   "outputs": [],
   "source": [
    "%%sql\n",
    "SELECT\n",
    "firstname , lastname , enum\n",
    "FROM employee\n",
    "WHERE EXISTS (SELECT * \n",
    "FROM dependent \n",
    "WHERE employee.enum = dependent.enum"
   ]
  }
 ],
 "metadata": {
  "kernelspec": {
   "display_name": "Python 3",
   "language": "python",
   "name": "python3"
  },
  "language_info": {
   "codemirror_mode": {
    "name": "ipython",
    "version": 3
   },
   "file_extension": ".py",
   "mimetype": "text/x-python",
   "name": "python",
   "nbconvert_exporter": "python",
   "pygments_lexer": "ipython3",
   "version": "3.8.3"
  }
 },
 "nbformat": 4,
 "nbformat_minor": 4
}
